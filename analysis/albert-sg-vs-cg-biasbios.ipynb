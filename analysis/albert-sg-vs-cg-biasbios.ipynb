{
 "cells": [
  {
   "cell_type": "code",
   "execution_count": 1,
   "metadata": {},
   "outputs": [],
   "source": [
    "import os\n",
    "import numpy as np\n",
    "import pandas as pd\n",
    "import plotly.express as px\n",
    "import plotly.graph_objects as go\n",
    "from plotly.subplots import make_subplots"
   ]
  },
  {
   "cell_type": "code",
   "execution_count": 2,
   "metadata": {},
   "outputs": [],
   "source": [
    "def TPR_gap(df, occupation, causal=False):\n",
    "    if causal:\n",
    "        temp = df.loc[df[\"label\"] == occupation]\n",
    "        female = temp.loc[temp.gender == \"F\"].copy()\n",
    "        male = temp.loc[temp.gender == \"M\"].copy()\n",
    "        female[\"factual\"] = (female.title_scrubbed_pred == female[\"label\"]).astype(int)\n",
    "        female[\"counterfactual\"] = (female.title_scrubbed_gender_swapped_pred == female[\"label\"]).astype(int)\n",
    "        male[\"factual\"] = (male.title_scrubbed_pred == male[\"label\"]).astype(int)\n",
    "        male[\"counterfactual\"] = (male.title_scrubbed_gender_swapped_pred == male[\"label\"]).astype(int)\n",
    "        female[\"gap\"] =  female.factual - female.counterfactual\n",
    "        male[\"gap\"] = male.counterfactual - male.factual\n",
    "        return (female[\"gap\"].sum() + male[\"gap\"].sum())/(female.shape[0]+male.shape[0])\n",
    "    else:\n",
    "        female_tpr = df[(df.title_scrubbed_pred == occupation) & (df[\"label\"] == occupation) & (df.gender == \"F\")].shape[0]\n",
    "        female_tpr /= df[(df.gender == \"F\") & (df[\"label\"] == occupation)].shape[0]\n",
    "        male_tpr = df[(df.title_scrubbed_pred == occupation) & (df[\"label\"] == occupation) & (df.gender == \"M\")].shape[0]\n",
    "        male_tpr /= df[(df.gender == \"M\") & (df[\"label\"] == occupation)].shape[0]\n",
    "        return female_tpr - male_tpr\n",
    "\n",
    "def get_tpr_results(preds):\n",
    "    df = preds\n",
    "\n",
    "    occupation_list = preds[\"label\"].unique().tolist()\n",
    "    statistical_parity = []\n",
    "\n",
    "    for occupation in occupation_list:\n",
    "        statistical_parity.append(TPR_gap(df, occupation))\n",
    "\n",
    "    causal_parity = []\n",
    "\n",
    "    for occupation in occupation_list:\n",
    "        causal_parity.append(TPR_gap(df, occupation, causal=True))\n",
    "\n",
    "    df = pd.DataFrame({\"occupation\": occupation_list, \"statistical_parity\": statistical_parity, \"causal_parity\": causal_parity})\n",
    "    return df.sort_values(\"occupation\")\n",
    "\n",
    "def get_avg_tpr(root_dir, runs=3):\n",
    "    temp = None\n",
    "    for i in range(runs):\n",
    "        if i == 0:\n",
    "            run_dir = root_dir\n",
    "        else:\n",
    "            run_dir = f\"{root_dir}-{i+1}\"\n",
    "\n",
    "        if os.path.exists(os.path.join(run_dir, \"test_tpr.csv\")):\n",
    "            tpr_results = pd.read_csv(os.path.join(run_dir, \"test_tpr.csv\"))\n",
    "        else:\n",
    "            preds = pd.read_csv(os.path.join(run_dir, \"test_preds.csv\"))\n",
    "            tpr_results = get_tpr_results(preds)\n",
    "            tpr_results.to_csv(os.path.join(run_dir, \"test_tpr.csv\"), index=False)\n",
    "        if temp is None:\n",
    "            temp = tpr_results\n",
    "        else:\n",
    "            temp = temp.set_index('occupation').add(tpr_results.set_index('occupation'), fill_value=0).reset_index()\n",
    "\n",
    "    temp.statistical_parity = temp.statistical_parity / runs\n",
    "    temp.causal_parity = temp.causal_parity / runs\n",
    "    return temp"
   ]
  },
  {
   "cell_type": "code",
   "execution_count": 3,
   "metadata": {},
   "outputs": [],
   "source": [
    "def FPR_gap(df, occupation, causal=False):\n",
    "    if causal:\n",
    "        temp = df.loc[df[\"label\"] != occupation]\n",
    "        female = temp.loc[temp.gender == \"F\"].copy()\n",
    "        male = temp.loc[temp.gender == \"M\"].copy()\n",
    "        female[\"factual\"] = (female.title_scrubbed_pred == female[\"label\"]).astype(int)\n",
    "        female[\"counterfactual\"] = (female.title_scrubbed_gender_swapped_pred == female[\"label\"]).astype(int)\n",
    "        male[\"factual\"] = (male.title_scrubbed_pred == male[\"label\"]).astype(int)\n",
    "        male[\"counterfactual\"] = (male.title_scrubbed_gender_swapped_pred == male[\"label\"]).astype(int)\n",
    "        female[\"gap\"] =  female.factual - female.counterfactual\n",
    "        male[\"gap\"] = male.counterfactual - male.factual\n",
    "        return (female[\"gap\"].sum() + male[\"gap\"].sum())/(female.shape[0]+male.shape[0])\n",
    "    else:\n",
    "        female_fpr = df[(df.title_scrubbed_pred == occupation) & (df[\"label\"] != occupation) & (df.gender == \"F\")].shape[0]\n",
    "        female_fpr /= df[(df.gender == \"F\") & (df[\"label\"] != occupation)].shape[0]\n",
    "        male_fpr = df[(df.title_scrubbed_pred == occupation) & (df[\"label\"] != occupation) & (df.gender == \"M\")].shape[0]\n",
    "        male_fpr /= df[(df.gender == \"M\") & (df[\"label\"] != occupation)].shape[0]\n",
    "        return female_fpr - male_fpr\n",
    "\n",
    "def get_fpr_results(preds):\n",
    "    df = preds\n",
    "\n",
    "    occupation_list = preds[\"label\"].unique().tolist()\n",
    "    statistical_parity = []\n",
    "\n",
    "    for occupation in occupation_list:\n",
    "        statistical_parity.append(FPR_gap(df, occupation))\n",
    "\n",
    "    causal_parity = []\n",
    "\n",
    "    for occupation in occupation_list:\n",
    "        causal_parity.append(FPR_gap(df, occupation, causal=True))\n",
    "\n",
    "    df = pd.DataFrame({\"occupation\": occupation_list, \"statistical_parity\": statistical_parity, \"causal_parity\": causal_parity})\n",
    "    return df.sort_values(\"occupation\")\n",
    "\n",
    "def get_avg_fpr(root_dir, runs=3):\n",
    "    temp = None\n",
    "    for i in range(runs):\n",
    "        if i == 0:\n",
    "            run_dir = root_dir\n",
    "        else:\n",
    "            run_dir = f\"{root_dir}-{i+1}\"\n",
    "\n",
    "        if os.path.exists(os.path.join(run_dir, \"test_fpr.csv\")):\n",
    "            fpr_results = pd.read_csv(os.path.join(run_dir, \"test_fpr.csv\"))\n",
    "        else:\n",
    "            preds = pd.read_csv(os.path.join(run_dir, \"test_preds.csv\"))\n",
    "            fpr_results = get_fpr_results(preds)\n",
    "            fpr_results.to_csv(os.path.join(run_dir, \"test_fpr.csv\"), index=False)\n",
    "        if temp is None:\n",
    "            temp = fpr_results\n",
    "        else:\n",
    "            temp = temp.set_index('occupation').add(fpr_results.set_index('occupation'), fill_value=0).reset_index()\n",
    "\n",
    "    temp.statistical_parity = temp.statistical_parity / runs\n",
    "    temp.causal_parity = temp.causal_parity / runs\n",
    "    return temp"
   ]
  },
  {
   "cell_type": "code",
   "execution_count": 4,
   "metadata": {},
   "outputs": [],
   "source": [
    "def get_avg_acc(root_dir, runs=3):\n",
    "    all_acc = 0\n",
    "    for i in range(runs):\n",
    "        if i == 0:\n",
    "            run_dir = root_dir\n",
    "        else:\n",
    "            run_dir = f\"{root_dir}-{i+1}\"\n",
    "\n",
    "        preds = pd.read_csv(os.path.join(run_dir, \"test_preds.csv\"))\n",
    "        acc = preds[preds.title_scrubbed_pred == preds[\"label\"]].shape[0]/preds.shape[0]\n",
    "        all_acc += acc\n",
    "\n",
    "    return all_acc / runs"
   ]
  },
  {
   "cell_type": "code",
   "execution_count": 5,
   "metadata": {},
   "outputs": [],
   "source": [
    "all_paths = {\n",
    "    \"Baseline\": \"models/albert-large-biasbios\", \n",
    "    \"Zari\": \"models/zari-albert-biasbios\", \n",
    "    \"CDA\": \"models/albert-large-biasbios-cda\", \"Zari w/ CDA\": \"models/zari-albert-biasbios-cda\", \"Reweight\": \"models/albert-large-biasbios-reweight\",\n",
    "    \"Oversampling\": \"models/albert-large-biasbios-oversampling\", \"Undersampling\": \"models/albert-large-biasbios-subsampling\",\n",
    "    \"Oversampling w/ CDA\": \"models/albert-large-biasbios-oversampling-cda\",\n",
    "    \"Undersampling w/ CDA\": \"models/albert-large-biasbios-subsampling-cda\", \"Reweight w/ CDA\": \"models/albert-large-biasbios-reweight-cda\"\n",
    "}"
   ]
  },
  {
   "cell_type": "code",
   "execution_count": 10,
   "metadata": {},
   "outputs": [],
   "source": [
    "tpr_parity_df = None\n",
    "for method, path in all_paths.items():\n",
    "    avg_tpr = get_avg_tpr(path)\n",
    "    avg_tpr[\"Method\"] = method\n",
    "    if tpr_parity_df is None:\n",
    "        tpr_parity_df = avg_tpr\n",
    "    else:\n",
    "        tpr_parity_df = pd.concat([tpr_parity_df, avg_tpr])\n",
    "\n",
    "fpr_parity_df = None\n",
    "for method, path in all_paths.items():\n",
    "    avg_fpr = get_avg_fpr(path)\n",
    "    avg_fpr[\"Method\"] = method\n",
    "    if fpr_parity_df is None:\n",
    "        fpr_parity_df = avg_fpr\n",
    "    else:\n",
    "        fpr_parity_df = pd.concat([fpr_parity_df, avg_fpr])"
   ]
  },
  {
   "cell_type": "code",
   "execution_count": 8,
   "metadata": {},
   "outputs": [],
   "source": [
    "debias_type_map = {\n",
    "    \"Baseline\": \"Baseline\", \"CDA\": \"Causal\", \"Zari\": \"Causal\", \"Zari w/ CDA\": \"Causal\",\n",
    "    \"Oversampling\": \"Statistical\", \"Undersampling\": \"Statistical\", \"Reweight\": \"Statistical\"\n",
    "}\n",
    "tpr_parity_df[\"Debias Type\"] = tpr_parity_df[\"Method\"].map(debias_type_map)\n",
    "fpr_parity_df[\"Debias Type\"] = fpr_parity_df[\"Method\"].map(debias_type_map)"
   ]
  },
  {
   "cell_type": "code",
   "execution_count": 13,
   "metadata": {},
   "outputs": [
    {
     "data": {
      "text/html": [
       "<div>\n",
       "<style scoped>\n",
       "    .dataframe tbody tr th:only-of-type {\n",
       "        vertical-align: middle;\n",
       "    }\n",
       "\n",
       "    .dataframe tbody tr th {\n",
       "        vertical-align: top;\n",
       "    }\n",
       "\n",
       "    .dataframe thead th {\n",
       "        text-align: right;\n",
       "    }\n",
       "</style>\n",
       "<table border=\"1\" class=\"dataframe\">\n",
       "  <thead>\n",
       "    <tr style=\"text-align: right;\">\n",
       "      <th></th>\n",
       "      <th>Method</th>\n",
       "      <th>Acc</th>\n",
       "    </tr>\n",
       "  </thead>\n",
       "  <tbody>\n",
       "    <tr>\n",
       "      <th>0</th>\n",
       "      <td>Baseline</td>\n",
       "      <td>0.954928</td>\n",
       "    </tr>\n",
       "    <tr>\n",
       "      <th>1</th>\n",
       "      <td>Zari</td>\n",
       "      <td>0.952318</td>\n",
       "    </tr>\n",
       "    <tr>\n",
       "      <th>2</th>\n",
       "      <td>CDA</td>\n",
       "      <td>0.954684</td>\n",
       "    </tr>\n",
       "    <tr>\n",
       "      <th>3</th>\n",
       "      <td>Zari w/ CDA</td>\n",
       "      <td>0.951969</td>\n",
       "    </tr>\n",
       "    <tr>\n",
       "      <th>4</th>\n",
       "      <td>Reweight</td>\n",
       "      <td>0.952552</td>\n",
       "    </tr>\n",
       "    <tr>\n",
       "      <th>5</th>\n",
       "      <td>Oversampling</td>\n",
       "      <td>0.955020</td>\n",
       "    </tr>\n",
       "    <tr>\n",
       "      <th>6</th>\n",
       "      <td>Undersampling</td>\n",
       "      <td>0.947928</td>\n",
       "    </tr>\n",
       "    <tr>\n",
       "      <th>7</th>\n",
       "      <td>Oversampling w/ CDA</td>\n",
       "      <td>0.953938</td>\n",
       "    </tr>\n",
       "    <tr>\n",
       "      <th>8</th>\n",
       "      <td>Undersampling w/ CDA</td>\n",
       "      <td>0.947267</td>\n",
       "    </tr>\n",
       "    <tr>\n",
       "      <th>9</th>\n",
       "      <td>Reweight w/ CDA</td>\n",
       "      <td>0.954342</td>\n",
       "    </tr>\n",
       "  </tbody>\n",
       "</table>\n",
       "</div>"
      ],
      "text/plain": [
       "                 Method       Acc\n",
       "0              Baseline  0.954928\n",
       "1                  Zari  0.952318\n",
       "2                   CDA  0.954684\n",
       "3           Zari w/ CDA  0.951969\n",
       "4              Reweight  0.952552\n",
       "5          Oversampling  0.955020\n",
       "6         Undersampling  0.947928\n",
       "7   Oversampling w/ CDA  0.953938\n",
       "8  Undersampling w/ CDA  0.947267\n",
       "9       Reweight w/ CDA  0.954342"
      ]
     },
     "execution_count": 13,
     "metadata": {},
     "output_type": "execute_result"
    }
   ],
   "source": [
    "methods = []\n",
    "all_acc = []\n",
    "\n",
    "for method, path in all_paths.items():\n",
    "    avg_acc = get_avg_acc(path)\n",
    "    methods.append(method)\n",
    "    all_acc.append(avg_acc)\n",
    "\n",
    "acc_df = pd.DataFrame({\"Method\": methods, \"Acc\": all_acc})\n",
    "acc_df"
   ]
  },
  {
   "cell_type": "markdown",
   "metadata": {},
   "source": [
    "## TPR Gap"
   ]
  },
  {
   "cell_type": "code",
   "execution_count": 14,
   "metadata": {},
   "outputs": [
    {
     "data": {
      "application/vnd.plotly.v1+json": {
       "config": {
        "plotlyServerURL": "https://plot.ly"
       },
       "data": [
        {
         "alignmentgroup": "True",
         "boxpoints": "all",
         "customdata": [
          [
           "accountant"
          ],
          [
           "architect"
          ],
          [
           "attorney"
          ],
          [
           "chiropractor"
          ],
          [
           "comedian"
          ],
          [
           "composer"
          ],
          [
           "dentist"
          ],
          [
           "dietitian"
          ],
          [
           "dj"
          ],
          [
           "filmmaker"
          ],
          [
           "interior_designer"
          ],
          [
           "journalist"
          ],
          [
           "model"
          ],
          [
           "nurse"
          ],
          [
           "painter"
          ],
          [
           "paralegal"
          ],
          [
           "pastor"
          ],
          [
           "personal_trainer"
          ],
          [
           "photographer"
          ],
          [
           "physician"
          ],
          [
           "poet"
          ],
          [
           "professor"
          ],
          [
           "psychologist"
          ],
          [
           "rapper"
          ],
          [
           "software_engineer"
          ],
          [
           "surgeon"
          ],
          [
           "teacher"
          ],
          [
           "yoga_teacher"
          ],
          [
           "accountant"
          ],
          [
           "architect"
          ],
          [
           "attorney"
          ],
          [
           "chiropractor"
          ],
          [
           "comedian"
          ],
          [
           "composer"
          ],
          [
           "dentist"
          ],
          [
           "dietitian"
          ],
          [
           "dj"
          ],
          [
           "filmmaker"
          ],
          [
           "interior_designer"
          ],
          [
           "journalist"
          ],
          [
           "model"
          ],
          [
           "nurse"
          ],
          [
           "painter"
          ],
          [
           "paralegal"
          ],
          [
           "pastor"
          ],
          [
           "personal_trainer"
          ],
          [
           "photographer"
          ],
          [
           "physician"
          ],
          [
           "poet"
          ],
          [
           "professor"
          ],
          [
           "psychologist"
          ],
          [
           "rapper"
          ],
          [
           "software_engineer"
          ],
          [
           "surgeon"
          ],
          [
           "teacher"
          ],
          [
           "yoga_teacher"
          ],
          [
           "accountant"
          ],
          [
           "architect"
          ],
          [
           "attorney"
          ],
          [
           "chiropractor"
          ],
          [
           "comedian"
          ],
          [
           "composer"
          ],
          [
           "dentist"
          ],
          [
           "dietitian"
          ],
          [
           "dj"
          ],
          [
           "filmmaker"
          ],
          [
           "interior_designer"
          ],
          [
           "journalist"
          ],
          [
           "model"
          ],
          [
           "nurse"
          ],
          [
           "painter"
          ],
          [
           "paralegal"
          ],
          [
           "pastor"
          ],
          [
           "personal_trainer"
          ],
          [
           "photographer"
          ],
          [
           "physician"
          ],
          [
           "poet"
          ],
          [
           "professor"
          ],
          [
           "psychologist"
          ],
          [
           "rapper"
          ],
          [
           "software_engineer"
          ],
          [
           "surgeon"
          ],
          [
           "teacher"
          ],
          [
           "yoga_teacher"
          ],
          [
           "accountant"
          ],
          [
           "architect"
          ],
          [
           "attorney"
          ],
          [
           "chiropractor"
          ],
          [
           "comedian"
          ],
          [
           "composer"
          ],
          [
           "dentist"
          ],
          [
           "dietitian"
          ],
          [
           "dj"
          ],
          [
           "filmmaker"
          ],
          [
           "interior_designer"
          ],
          [
           "journalist"
          ],
          [
           "model"
          ],
          [
           "nurse"
          ],
          [
           "painter"
          ],
          [
           "paralegal"
          ],
          [
           "pastor"
          ],
          [
           "personal_trainer"
          ],
          [
           "photographer"
          ],
          [
           "physician"
          ],
          [
           "poet"
          ],
          [
           "professor"
          ],
          [
           "psychologist"
          ],
          [
           "rapper"
          ],
          [
           "software_engineer"
          ],
          [
           "surgeon"
          ],
          [
           "teacher"
          ],
          [
           "yoga_teacher"
          ],
          [
           "accountant"
          ],
          [
           "architect"
          ],
          [
           "attorney"
          ],
          [
           "chiropractor"
          ],
          [
           "comedian"
          ],
          [
           "composer"
          ],
          [
           "dentist"
          ],
          [
           "dietitian"
          ],
          [
           "dj"
          ],
          [
           "filmmaker"
          ],
          [
           "interior_designer"
          ],
          [
           "journalist"
          ],
          [
           "model"
          ],
          [
           "nurse"
          ],
          [
           "painter"
          ],
          [
           "paralegal"
          ],
          [
           "pastor"
          ],
          [
           "personal_trainer"
          ],
          [
           "photographer"
          ],
          [
           "physician"
          ],
          [
           "poet"
          ],
          [
           "professor"
          ],
          [
           "psychologist"
          ],
          [
           "rapper"
          ],
          [
           "software_engineer"
          ],
          [
           "surgeon"
          ],
          [
           "teacher"
          ],
          [
           "yoga_teacher"
          ],
          [
           "accountant"
          ],
          [
           "architect"
          ],
          [
           "attorney"
          ],
          [
           "chiropractor"
          ],
          [
           "comedian"
          ],
          [
           "composer"
          ],
          [
           "dentist"
          ],
          [
           "dietitian"
          ],
          [
           "dj"
          ],
          [
           "filmmaker"
          ],
          [
           "interior_designer"
          ],
          [
           "journalist"
          ],
          [
           "model"
          ],
          [
           "nurse"
          ],
          [
           "painter"
          ],
          [
           "paralegal"
          ],
          [
           "pastor"
          ],
          [
           "personal_trainer"
          ],
          [
           "photographer"
          ],
          [
           "physician"
          ],
          [
           "poet"
          ],
          [
           "professor"
          ],
          [
           "psychologist"
          ],
          [
           "rapper"
          ],
          [
           "software_engineer"
          ],
          [
           "surgeon"
          ],
          [
           "teacher"
          ],
          [
           "yoga_teacher"
          ],
          [
           "accountant"
          ],
          [
           "architect"
          ],
          [
           "attorney"
          ],
          [
           "chiropractor"
          ],
          [
           "comedian"
          ],
          [
           "composer"
          ],
          [
           "dentist"
          ],
          [
           "dietitian"
          ],
          [
           "dj"
          ],
          [
           "filmmaker"
          ],
          [
           "interior_designer"
          ],
          [
           "journalist"
          ],
          [
           "model"
          ],
          [
           "nurse"
          ],
          [
           "painter"
          ],
          [
           "paralegal"
          ],
          [
           "pastor"
          ],
          [
           "personal_trainer"
          ],
          [
           "photographer"
          ],
          [
           "physician"
          ],
          [
           "poet"
          ],
          [
           "professor"
          ],
          [
           "psychologist"
          ],
          [
           "rapper"
          ],
          [
           "software_engineer"
          ],
          [
           "surgeon"
          ],
          [
           "teacher"
          ],
          [
           "yoga_teacher"
          ],
          [
           "accountant"
          ],
          [
           "architect"
          ],
          [
           "attorney"
          ],
          [
           "chiropractor"
          ],
          [
           "comedian"
          ],
          [
           "composer"
          ],
          [
           "dentist"
          ],
          [
           "dietitian"
          ],
          [
           "dj"
          ],
          [
           "filmmaker"
          ],
          [
           "interior_designer"
          ],
          [
           "journalist"
          ],
          [
           "model"
          ],
          [
           "nurse"
          ],
          [
           "painter"
          ],
          [
           "paralegal"
          ],
          [
           "pastor"
          ],
          [
           "personal_trainer"
          ],
          [
           "photographer"
          ],
          [
           "physician"
          ],
          [
           "poet"
          ],
          [
           "professor"
          ],
          [
           "psychologist"
          ],
          [
           "rapper"
          ],
          [
           "software_engineer"
          ],
          [
           "surgeon"
          ],
          [
           "teacher"
          ],
          [
           "yoga_teacher"
          ],
          [
           "accountant"
          ],
          [
           "architect"
          ],
          [
           "attorney"
          ],
          [
           "chiropractor"
          ],
          [
           "comedian"
          ],
          [
           "composer"
          ],
          [
           "dentist"
          ],
          [
           "dietitian"
          ],
          [
           "dj"
          ],
          [
           "filmmaker"
          ],
          [
           "interior_designer"
          ],
          [
           "journalist"
          ],
          [
           "model"
          ],
          [
           "nurse"
          ],
          [
           "painter"
          ],
          [
           "paralegal"
          ],
          [
           "pastor"
          ],
          [
           "personal_trainer"
          ],
          [
           "photographer"
          ],
          [
           "physician"
          ],
          [
           "poet"
          ],
          [
           "professor"
          ],
          [
           "psychologist"
          ],
          [
           "rapper"
          ],
          [
           "software_engineer"
          ],
          [
           "surgeon"
          ],
          [
           "teacher"
          ],
          [
           "yoga_teacher"
          ],
          [
           "accountant"
          ],
          [
           "architect"
          ],
          [
           "attorney"
          ],
          [
           "chiropractor"
          ],
          [
           "comedian"
          ],
          [
           "composer"
          ],
          [
           "dentist"
          ],
          [
           "dietitian"
          ],
          [
           "dj"
          ],
          [
           "filmmaker"
          ],
          [
           "interior_designer"
          ],
          [
           "journalist"
          ],
          [
           "model"
          ],
          [
           "nurse"
          ],
          [
           "painter"
          ],
          [
           "paralegal"
          ],
          [
           "pastor"
          ],
          [
           "personal_trainer"
          ],
          [
           "photographer"
          ],
          [
           "physician"
          ],
          [
           "poet"
          ],
          [
           "professor"
          ],
          [
           "psychologist"
          ],
          [
           "rapper"
          ],
          [
           "software_engineer"
          ],
          [
           "surgeon"
          ],
          [
           "teacher"
          ],
          [
           "yoga_teacher"
          ]
         ],
         "hovertemplate": "statistical_parity=%{x}<br>Method=%{y}<br>occupation=%{customdata[0]}<extra></extra>",
         "jitter": 0.3,
         "legendgroup": "",
         "marker": {
          "color": "#1F77B4"
         },
         "name": "",
         "notched": false,
         "offsetgroup": "",
         "orientation": "h",
         "pointpos": -2,
         "showlegend": false,
         "type": "box",
         "x": [
          -0.0028030944361389673,
          -0.06847161668329403,
          -0.004697033155112333,
          0.015576640686772869,
          -0.09558830156369691,
          -0.026186129251222934,
          0.017090885068203932,
          0.14281619080380684,
          -0.088318227593152,
          -0.00017779003915976643,
          0.14735042735042728,
          0.010231444379979434,
          0.11063156736535178,
          0.05147795734150307,
          0.021575673265483833,
          0.2572275654665645,
          0.06570364771422957,
          -0.038044847568657066,
          -0.014075306572401266,
          0.02804764568723167,
          0.045459784265754366,
          0.0002498975368644,
          0.010958010886290366,
          -0.06897313538352777,
          -0.020498229934741565,
          -0.058726527412651365,
          0.017753890407027965,
          0.04507953466286793,
          0.014251877735549966,
          -0.07216162239725431,
          -0.004907041452063633,
          0.030490605821002232,
          -0.043941237438601205,
          -0.009064204292769633,
          0.0160312258085111,
          0.1820414325574284,
          -0.12842396777442092,
          0.0040508540818907,
          0.0938461538461538,
          0.007123542288274001,
          0.13834516146778897,
          0.044872731451148264,
          0.022738899755509998,
          0.274434703662723,
          0.05764116346126933,
          0.0006298815822625335,
          -0.020530625202575134,
          0.030272830333046896,
          0.03748631360571657,
          0.00014718180629426665,
          0.015292771012486902,
          -0.07891481088723927,
          -0.027224367252852034,
          -0.06344333324194594,
          0.012155019592167832,
          0.061134852801519396,
          0.01804937648973017,
          -0.0495795370406095,
          -0.006102058686572267,
          0.025592078014985434,
          -0.037785588752196765,
          -0.000596868197458,
          0.016227417951780634,
          0.13217138707334786,
          -0.1006797583081571,
          0.007589795464821334,
          0.12085470085470085,
          0.0070452787808658,
          0.09984870990812562,
          0.044181009062400335,
          0.0197582893838211,
          0.25488694073254453,
          0.06385599507292623,
          -0.024355421180817932,
          -0.012329675642592233,
          0.0312871335850776,
          0.042230930290631734,
          0.0005339515312227334,
          0.0126866606820705,
          -0.014050901378579034,
          -0.021816234137747432,
          -0.0311612590740024,
          0.0154061818890868,
          0.031813865147198465,
          0.012101712927106033,
          -0.07226451042751807,
          -0.002325001921817767,
          0.012410105802176266,
          -0.03236897841467257,
          -0.0076305502890713995,
          0.017606083419569166,
          0.10884646256163287,
          -0.13345921450151052,
          0.0066947145780169,
          0.0946153846153846,
          0.004212484775807366,
          0.11640534741706547,
          0.044104151019206096,
          0.028081605144550034,
          0.27443470366272305,
          0.06951093194479437,
          0.017447719828672135,
          -0.018964113356375368,
          0.0352117405212928,
          0.0545980172845844,
          0.0007202231936921334,
          0.0131846326711133,
          -0.017629904559915203,
          -0.01604401757781587,
          -0.05910284021733939,
          0.0173463290668587,
          0.029884852801519434,
          -0.0017561555503521334,
          -0.02963175271596837,
          -0.002947140732729367,
          0.028287962649196068,
          -0.030679104141318535,
          -0.0023114013529012332,
          0.016083987085458166,
          0.10127852310514844,
          -0.06029707955689823,
          0.0095378225318221,
          -0.009316239316239334,
          0.004815954630450667,
          0.050976508774825235,
          0.0211555568745715,
          0.012030087639809466,
          0.11862002439923953,
          0.06454186612916764,
          0.030129335684891203,
          -0.0037361203513811996,
          0.0317562867635904,
          0.03477522880507953,
          0.0006068376631296666,
          0.005166640001324,
          0.031945917285259764,
          -0.009181763956624232,
          -0.03774358536949423,
          0.0093381656222958,
          0.03745251661918323,
          0.0021494143146190002,
          -0.0592032424427823,
          -0.006671778260220266,
          0.0388192326518317,
          -0.06972646568428638,
          -0.0281698382604217,
          0.0185223118129395,
          0.11211443641784197,
          -0.06936052366565953,
          0.003574192856212233,
          0.1176923076923076,
          0.009248083891580635,
          0.08966276063156726,
          0.037159912670999606,
          0.011918841280967665,
          0.2115782903509518,
          0.06966490299823626,
          -0.015411102712689967,
          -0.015455043606447233,
          0.0302542196036469,
          0.03504590071754247,
          0.0002477832231438821,
          0.011179083652726301,
          -0.04431778013432306,
          -0.006099780996614766,
          -0.0504813574880257,
          0.012917556375466202,
          0.039871201329534665,
          0.009583806144443001,
          -0.021737301136728903,
          -0.0032528423022580998,
          0.07433638314695583,
          -0.037659411473119665,
          -0.0019544507642254667,
          0.018352500308143633,
          0.11969193135343803,
          -0.07643504531722047,
          0.012727314527438601,
          -0.0006837606837606681,
          0.004967037696060333,
          0.0368460141937613,
          0.0108744618985762,
          0.007933413473914132,
          0.17808607824779413,
          0.11883765852019817,
          0.0219828672209624,
          -0.005504011144077901,
          0.02808409015732913,
          0.033316219883384006,
          -0.00027703902575320006,
          0.004221662293813134,
          -0.003755744079179933,
          -0.009357719177680432,
          -0.019862533115222167,
          -0.0012345715702313667,
          0.042512464387464304,
          0.004613285541886566,
          -0.0488821031783215,
          -0.0065470368220289996,
          0.018261229714974167,
          -0.06283177864900173,
          -0.010135056058797368,
          0.016400111375065266,
          0.09825899170584407,
          -0.08071500503524666,
          0.012065199898843568,
          0.09452991452991445,
          0.013200876120078968,
          0.07893491775320456,
          0.042114973544852725,
          0.014778124717608832,
          0.16103498170057015,
          0.0660255871896083,
          -0.029625430419081167,
          -0.0084509673470695,
          0.036639364763636266,
          0.04658001672927043,
          0.0001648993186883,
          0.005740930039861367,
          0.012150936726758535,
          -0.016356089101953266,
          -0.03992875848252317,
          0.021960514512964602,
          0.030893874643874566,
          0.004281567271264467,
          -0.02673545466404297,
          -0.0020107736664130333,
          0.018295116533001966,
          -0.024618088414221934,
          -0.0003628022376706008,
          0.018665742679261934,
          0.09678744792263876,
          -0.0803625377643504,
          0.0130323164049628,
          0.023076923076923068,
          0.0037869404293971332,
          0.03339384937008307,
          0.020544877868003464,
          0.009012395148506666,
          0.16234005730984186,
          0.10887153215195544,
          0.03281683043587804,
          -0.0079111136630206,
          0.030909868570510934,
          0.03701132805610413,
          0.00007426293059073333,
          0.007559821660087,
          0.0064510427712973,
          -0.0020594507319848347,
          -0.0160862046731429,
          -0.00010971217765550003,
          0.0429724596391263,
          0.0145160515619277,
          -0.044104056544321764,
          -0.0068881042570693995,
          0.008290974810798565,
          -0.0370555630661078,
          -0.012610303583549767,
          0.015483882981694867,
          0.11392997744906926,
          -0.019184290030211465,
          0.0074288648259267,
          0.014871794871794866,
          0.004888450785728866,
          0.04242999394839627,
          0.022744653990416266,
          0.0065188926199021,
          0.11432178625131213,
          0.0805828504241202,
          0.0177836566725455,
          -0.0071298132792772,
          0.0323758797547083,
          0.03927274822797207,
          0.0003568746386721921,
          0.006216177377333466,
          0.008041710851891133,
          -0.008175831277755766,
          -0.033777780485551134,
          0.013237859798568735,
          0.042660849952516566
         ],
         "x0": " ",
         "xaxis": "x",
         "y": [
          "Baseline",
          "Baseline",
          "Baseline",
          "Baseline",
          "Baseline",
          "Baseline",
          "Baseline",
          "Baseline",
          "Baseline",
          "Baseline",
          "Baseline",
          "Baseline",
          "Baseline",
          "Baseline",
          "Baseline",
          "Baseline",
          "Baseline",
          "Baseline",
          "Baseline",
          "Baseline",
          "Baseline",
          "Baseline",
          "Baseline",
          "Baseline",
          "Baseline",
          "Baseline",
          "Baseline",
          "Baseline",
          "Zari",
          "Zari",
          "Zari",
          "Zari",
          "Zari",
          "Zari",
          "Zari",
          "Zari",
          "Zari",
          "Zari",
          "Zari",
          "Zari",
          "Zari",
          "Zari",
          "Zari",
          "Zari",
          "Zari",
          "Zari",
          "Zari",
          "Zari",
          "Zari",
          "Zari",
          "Zari",
          "Zari",
          "Zari",
          "Zari",
          "Zari",
          "Zari",
          "CDA",
          "CDA",
          "CDA",
          "CDA",
          "CDA",
          "CDA",
          "CDA",
          "CDA",
          "CDA",
          "CDA",
          "CDA",
          "CDA",
          "CDA",
          "CDA",
          "CDA",
          "CDA",
          "CDA",
          "CDA",
          "CDA",
          "CDA",
          "CDA",
          "CDA",
          "CDA",
          "CDA",
          "CDA",
          "CDA",
          "CDA",
          "CDA",
          "Zari w/ CDA",
          "Zari w/ CDA",
          "Zari w/ CDA",
          "Zari w/ CDA",
          "Zari w/ CDA",
          "Zari w/ CDA",
          "Zari w/ CDA",
          "Zari w/ CDA",
          "Zari w/ CDA",
          "Zari w/ CDA",
          "Zari w/ CDA",
          "Zari w/ CDA",
          "Zari w/ CDA",
          "Zari w/ CDA",
          "Zari w/ CDA",
          "Zari w/ CDA",
          "Zari w/ CDA",
          "Zari w/ CDA",
          "Zari w/ CDA",
          "Zari w/ CDA",
          "Zari w/ CDA",
          "Zari w/ CDA",
          "Zari w/ CDA",
          "Zari w/ CDA",
          "Zari w/ CDA",
          "Zari w/ CDA",
          "Zari w/ CDA",
          "Zari w/ CDA",
          "Reweight",
          "Reweight",
          "Reweight",
          "Reweight",
          "Reweight",
          "Reweight",
          "Reweight",
          "Reweight",
          "Reweight",
          "Reweight",
          "Reweight",
          "Reweight",
          "Reweight",
          "Reweight",
          "Reweight",
          "Reweight",
          "Reweight",
          "Reweight",
          "Reweight",
          "Reweight",
          "Reweight",
          "Reweight",
          "Reweight",
          "Reweight",
          "Reweight",
          "Reweight",
          "Reweight",
          "Reweight",
          "Oversampling",
          "Oversampling",
          "Oversampling",
          "Oversampling",
          "Oversampling",
          "Oversampling",
          "Oversampling",
          "Oversampling",
          "Oversampling",
          "Oversampling",
          "Oversampling",
          "Oversampling",
          "Oversampling",
          "Oversampling",
          "Oversampling",
          "Oversampling",
          "Oversampling",
          "Oversampling",
          "Oversampling",
          "Oversampling",
          "Oversampling",
          "Oversampling",
          "Oversampling",
          "Oversampling",
          "Oversampling",
          "Oversampling",
          "Oversampling",
          "Oversampling",
          "Undersampling",
          "Undersampling",
          "Undersampling",
          "Undersampling",
          "Undersampling",
          "Undersampling",
          "Undersampling",
          "Undersampling",
          "Undersampling",
          "Undersampling",
          "Undersampling",
          "Undersampling",
          "Undersampling",
          "Undersampling",
          "Undersampling",
          "Undersampling",
          "Undersampling",
          "Undersampling",
          "Undersampling",
          "Undersampling",
          "Undersampling",
          "Undersampling",
          "Undersampling",
          "Undersampling",
          "Undersampling",
          "Undersampling",
          "Undersampling",
          "Undersampling",
          "Oversampling w/ CDA",
          "Oversampling w/ CDA",
          "Oversampling w/ CDA",
          "Oversampling w/ CDA",
          "Oversampling w/ CDA",
          "Oversampling w/ CDA",
          "Oversampling w/ CDA",
          "Oversampling w/ CDA",
          "Oversampling w/ CDA",
          "Oversampling w/ CDA",
          "Oversampling w/ CDA",
          "Oversampling w/ CDA",
          "Oversampling w/ CDA",
          "Oversampling w/ CDA",
          "Oversampling w/ CDA",
          "Oversampling w/ CDA",
          "Oversampling w/ CDA",
          "Oversampling w/ CDA",
          "Oversampling w/ CDA",
          "Oversampling w/ CDA",
          "Oversampling w/ CDA",
          "Oversampling w/ CDA",
          "Oversampling w/ CDA",
          "Oversampling w/ CDA",
          "Oversampling w/ CDA",
          "Oversampling w/ CDA",
          "Oversampling w/ CDA",
          "Oversampling w/ CDA",
          "Undersampling w/ CDA",
          "Undersampling w/ CDA",
          "Undersampling w/ CDA",
          "Undersampling w/ CDA",
          "Undersampling w/ CDA",
          "Undersampling w/ CDA",
          "Undersampling w/ CDA",
          "Undersampling w/ CDA",
          "Undersampling w/ CDA",
          "Undersampling w/ CDA",
          "Undersampling w/ CDA",
          "Undersampling w/ CDA",
          "Undersampling w/ CDA",
          "Undersampling w/ CDA",
          "Undersampling w/ CDA",
          "Undersampling w/ CDA",
          "Undersampling w/ CDA",
          "Undersampling w/ CDA",
          "Undersampling w/ CDA",
          "Undersampling w/ CDA",
          "Undersampling w/ CDA",
          "Undersampling w/ CDA",
          "Undersampling w/ CDA",
          "Undersampling w/ CDA",
          "Undersampling w/ CDA",
          "Undersampling w/ CDA",
          "Undersampling w/ CDA",
          "Undersampling w/ CDA",
          "Reweight w/ CDA",
          "Reweight w/ CDA",
          "Reweight w/ CDA",
          "Reweight w/ CDA",
          "Reweight w/ CDA",
          "Reweight w/ CDA",
          "Reweight w/ CDA",
          "Reweight w/ CDA",
          "Reweight w/ CDA",
          "Reweight w/ CDA",
          "Reweight w/ CDA",
          "Reweight w/ CDA",
          "Reweight w/ CDA",
          "Reweight w/ CDA",
          "Reweight w/ CDA",
          "Reweight w/ CDA",
          "Reweight w/ CDA",
          "Reweight w/ CDA",
          "Reweight w/ CDA",
          "Reweight w/ CDA",
          "Reweight w/ CDA",
          "Reweight w/ CDA",
          "Reweight w/ CDA",
          "Reweight w/ CDA",
          "Reweight w/ CDA",
          "Reweight w/ CDA",
          "Reweight w/ CDA",
          "Reweight w/ CDA"
         ],
         "y0": " ",
         "yaxis": "y"
        },
        {
         "alignmentgroup": "True",
         "boxpoints": "all",
         "customdata": [
          [
           "accountant"
          ],
          [
           "architect"
          ],
          [
           "attorney"
          ],
          [
           "chiropractor"
          ],
          [
           "comedian"
          ],
          [
           "composer"
          ],
          [
           "dentist"
          ],
          [
           "dietitian"
          ],
          [
           "dj"
          ],
          [
           "filmmaker"
          ],
          [
           "interior_designer"
          ],
          [
           "journalist"
          ],
          [
           "model"
          ],
          [
           "nurse"
          ],
          [
           "painter"
          ],
          [
           "paralegal"
          ],
          [
           "pastor"
          ],
          [
           "personal_trainer"
          ],
          [
           "photographer"
          ],
          [
           "physician"
          ],
          [
           "poet"
          ],
          [
           "professor"
          ],
          [
           "psychologist"
          ],
          [
           "rapper"
          ],
          [
           "software_engineer"
          ],
          [
           "surgeon"
          ],
          [
           "teacher"
          ],
          [
           "yoga_teacher"
          ],
          [
           "accountant"
          ],
          [
           "architect"
          ],
          [
           "attorney"
          ],
          [
           "chiropractor"
          ],
          [
           "comedian"
          ],
          [
           "composer"
          ],
          [
           "dentist"
          ],
          [
           "dietitian"
          ],
          [
           "dj"
          ],
          [
           "filmmaker"
          ],
          [
           "interior_designer"
          ],
          [
           "journalist"
          ],
          [
           "model"
          ],
          [
           "nurse"
          ],
          [
           "painter"
          ],
          [
           "paralegal"
          ],
          [
           "pastor"
          ],
          [
           "personal_trainer"
          ],
          [
           "photographer"
          ],
          [
           "physician"
          ],
          [
           "poet"
          ],
          [
           "professor"
          ],
          [
           "psychologist"
          ],
          [
           "rapper"
          ],
          [
           "software_engineer"
          ],
          [
           "surgeon"
          ],
          [
           "teacher"
          ],
          [
           "yoga_teacher"
          ],
          [
           "accountant"
          ],
          [
           "architect"
          ],
          [
           "attorney"
          ],
          [
           "chiropractor"
          ],
          [
           "comedian"
          ],
          [
           "composer"
          ],
          [
           "dentist"
          ],
          [
           "dietitian"
          ],
          [
           "dj"
          ],
          [
           "filmmaker"
          ],
          [
           "interior_designer"
          ],
          [
           "journalist"
          ],
          [
           "model"
          ],
          [
           "nurse"
          ],
          [
           "painter"
          ],
          [
           "paralegal"
          ],
          [
           "pastor"
          ],
          [
           "personal_trainer"
          ],
          [
           "photographer"
          ],
          [
           "physician"
          ],
          [
           "poet"
          ],
          [
           "professor"
          ],
          [
           "psychologist"
          ],
          [
           "rapper"
          ],
          [
           "software_engineer"
          ],
          [
           "surgeon"
          ],
          [
           "teacher"
          ],
          [
           "yoga_teacher"
          ],
          [
           "accountant"
          ],
          [
           "architect"
          ],
          [
           "attorney"
          ],
          [
           "chiropractor"
          ],
          [
           "comedian"
          ],
          [
           "composer"
          ],
          [
           "dentist"
          ],
          [
           "dietitian"
          ],
          [
           "dj"
          ],
          [
           "filmmaker"
          ],
          [
           "interior_designer"
          ],
          [
           "journalist"
          ],
          [
           "model"
          ],
          [
           "nurse"
          ],
          [
           "painter"
          ],
          [
           "paralegal"
          ],
          [
           "pastor"
          ],
          [
           "personal_trainer"
          ],
          [
           "photographer"
          ],
          [
           "physician"
          ],
          [
           "poet"
          ],
          [
           "professor"
          ],
          [
           "psychologist"
          ],
          [
           "rapper"
          ],
          [
           "software_engineer"
          ],
          [
           "surgeon"
          ],
          [
           "teacher"
          ],
          [
           "yoga_teacher"
          ],
          [
           "accountant"
          ],
          [
           "architect"
          ],
          [
           "attorney"
          ],
          [
           "chiropractor"
          ],
          [
           "comedian"
          ],
          [
           "composer"
          ],
          [
           "dentist"
          ],
          [
           "dietitian"
          ],
          [
           "dj"
          ],
          [
           "filmmaker"
          ],
          [
           "interior_designer"
          ],
          [
           "journalist"
          ],
          [
           "model"
          ],
          [
           "nurse"
          ],
          [
           "painter"
          ],
          [
           "paralegal"
          ],
          [
           "pastor"
          ],
          [
           "personal_trainer"
          ],
          [
           "photographer"
          ],
          [
           "physician"
          ],
          [
           "poet"
          ],
          [
           "professor"
          ],
          [
           "psychologist"
          ],
          [
           "rapper"
          ],
          [
           "software_engineer"
          ],
          [
           "surgeon"
          ],
          [
           "teacher"
          ],
          [
           "yoga_teacher"
          ],
          [
           "accountant"
          ],
          [
           "architect"
          ],
          [
           "attorney"
          ],
          [
           "chiropractor"
          ],
          [
           "comedian"
          ],
          [
           "composer"
          ],
          [
           "dentist"
          ],
          [
           "dietitian"
          ],
          [
           "dj"
          ],
          [
           "filmmaker"
          ],
          [
           "interior_designer"
          ],
          [
           "journalist"
          ],
          [
           "model"
          ],
          [
           "nurse"
          ],
          [
           "painter"
          ],
          [
           "paralegal"
          ],
          [
           "pastor"
          ],
          [
           "personal_trainer"
          ],
          [
           "photographer"
          ],
          [
           "physician"
          ],
          [
           "poet"
          ],
          [
           "professor"
          ],
          [
           "psychologist"
          ],
          [
           "rapper"
          ],
          [
           "software_engineer"
          ],
          [
           "surgeon"
          ],
          [
           "teacher"
          ],
          [
           "yoga_teacher"
          ],
          [
           "accountant"
          ],
          [
           "architect"
          ],
          [
           "attorney"
          ],
          [
           "chiropractor"
          ],
          [
           "comedian"
          ],
          [
           "composer"
          ],
          [
           "dentist"
          ],
          [
           "dietitian"
          ],
          [
           "dj"
          ],
          [
           "filmmaker"
          ],
          [
           "interior_designer"
          ],
          [
           "journalist"
          ],
          [
           "model"
          ],
          [
           "nurse"
          ],
          [
           "painter"
          ],
          [
           "paralegal"
          ],
          [
           "pastor"
          ],
          [
           "personal_trainer"
          ],
          [
           "photographer"
          ],
          [
           "physician"
          ],
          [
           "poet"
          ],
          [
           "professor"
          ],
          [
           "psychologist"
          ],
          [
           "rapper"
          ],
          [
           "software_engineer"
          ],
          [
           "surgeon"
          ],
          [
           "teacher"
          ],
          [
           "yoga_teacher"
          ],
          [
           "accountant"
          ],
          [
           "architect"
          ],
          [
           "attorney"
          ],
          [
           "chiropractor"
          ],
          [
           "comedian"
          ],
          [
           "composer"
          ],
          [
           "dentist"
          ],
          [
           "dietitian"
          ],
          [
           "dj"
          ],
          [
           "filmmaker"
          ],
          [
           "interior_designer"
          ],
          [
           "journalist"
          ],
          [
           "model"
          ],
          [
           "nurse"
          ],
          [
           "painter"
          ],
          [
           "paralegal"
          ],
          [
           "pastor"
          ],
          [
           "personal_trainer"
          ],
          [
           "photographer"
          ],
          [
           "physician"
          ],
          [
           "poet"
          ],
          [
           "professor"
          ],
          [
           "psychologist"
          ],
          [
           "rapper"
          ],
          [
           "software_engineer"
          ],
          [
           "surgeon"
          ],
          [
           "teacher"
          ],
          [
           "yoga_teacher"
          ],
          [
           "accountant"
          ],
          [
           "architect"
          ],
          [
           "attorney"
          ],
          [
           "chiropractor"
          ],
          [
           "comedian"
          ],
          [
           "composer"
          ],
          [
           "dentist"
          ],
          [
           "dietitian"
          ],
          [
           "dj"
          ],
          [
           "filmmaker"
          ],
          [
           "interior_designer"
          ],
          [
           "journalist"
          ],
          [
           "model"
          ],
          [
           "nurse"
          ],
          [
           "painter"
          ],
          [
           "paralegal"
          ],
          [
           "pastor"
          ],
          [
           "personal_trainer"
          ],
          [
           "photographer"
          ],
          [
           "physician"
          ],
          [
           "poet"
          ],
          [
           "professor"
          ],
          [
           "psychologist"
          ],
          [
           "rapper"
          ],
          [
           "software_engineer"
          ],
          [
           "surgeon"
          ],
          [
           "teacher"
          ],
          [
           "yoga_teacher"
          ],
          [
           "accountant"
          ],
          [
           "architect"
          ],
          [
           "attorney"
          ],
          [
           "chiropractor"
          ],
          [
           "comedian"
          ],
          [
           "composer"
          ],
          [
           "dentist"
          ],
          [
           "dietitian"
          ],
          [
           "dj"
          ],
          [
           "filmmaker"
          ],
          [
           "interior_designer"
          ],
          [
           "journalist"
          ],
          [
           "model"
          ],
          [
           "nurse"
          ],
          [
           "painter"
          ],
          [
           "paralegal"
          ],
          [
           "pastor"
          ],
          [
           "personal_trainer"
          ],
          [
           "photographer"
          ],
          [
           "physician"
          ],
          [
           "poet"
          ],
          [
           "professor"
          ],
          [
           "psychologist"
          ],
          [
           "rapper"
          ],
          [
           "software_engineer"
          ],
          [
           "surgeon"
          ],
          [
           "teacher"
          ],
          [
           "yoga_teacher"
          ]
         ],
         "hovertemplate": "causal_parity=%{x}<br>Method=%{y}<br>occupation=%{customdata[0]}<extra></extra>",
         "jitter": 0.3,
         "legendgroup": "",
         "marker": {
          "color": "#1F77B4"
         },
         "name": "",
         "notched": false,
         "offsetgroup": "",
         "orientation": "h",
         "pointpos": -2,
         "showlegend": false,
         "type": "box",
         "x": [
          0.00023590469450343368,
          -0.0175369198312236,
          -0.0004090481449666333,
          -0.0010272213662044,
          -0.0362422508345255,
          -0.006428571428571401,
          0.0009213193292795001,
          0.008048289738430567,
          0.0017969451931716003,
          -0.0034246575342465335,
          0.09132420091324196,
          0.0071519283470356,
          0.0453333333333333,
          0.014061730999085933,
          0.001378834884522567,
          0.050642479213907736,
          -0.0205371248025276,
          -0.014897579143389168,
          -0.006084525571452033,
          -0.001244684161394,
          -0.0007610350076103668,
          0.000124180128921532,
          -0.0003645377661125667,
          -0.0294396961063627,
          -0.011973735032831168,
          -0.011352220212979667,
          0.005186465794023167,
          0.0184738955823293,
          -0.004246284501061567,
          -0.020042194092826968,
          -0.0010226203624165667,
          0.0010272213662044334,
          -0.028135431568907937,
          -0.006428571428571401,
          0.00046065966463973337,
          0.0144198524480214,
          -0.009883198562443801,
          -0.0055175038051749675,
          0.08036529680365294,
          0.0125660049461934,
          0.06684444444444439,
          0.013007101174154467,
          0.0065494657014822,
          0.06575963718820856,
          -0.039494470774091565,
          -0.0232774674115456,
          -0.009044565038644934,
          -0.0017287280019361,
          -0.0017123287671232668,
          0.000180625642067664,
          0.0043744531933508,
          -0.033238366571699866,
          -0.0106218617226728,
          -0.017179023508137367,
          0.0023874207623281337,
          0.016867469879518066,
          0.0009436187780136666,
          0,
          0.00012271444348996665,
          -0.0005136106831022,
          0,
          -0.00023809523809523332,
          0.0002763957987838333,
          0.0016767270288396668,
          0.0026954177897574,
          -0.0003805175038051666,
          0.0027397260273972334,
          0.00013368090368289998,
          -0.0005333333333333334,
          0.00007030865499546664,
          -0.00034470872113063334,
          -0.0007558578987150334,
          0.0005265929436545667,
          0.0018621973929236,
          3.333921680392926e-17,
          0.00013829824015486667,
          -0.0009512937595128999,
          -0.000022578205258464007,
          0.00021872265966753335,
          0,
          0.0005793742757821333,
          0.0005023106288928667,
          0.0005762739771136666,
          -0.004016064257028066,
          -0.0009436187780136334,
          -0.0005274261603375,
          0.00032723851597326665,
          -0.0010272213662044,
          0.0019074868860276333,
          0.00023809523809523332,
          -0.00009213193292793333,
          -0.0006706908115358667,
          0.0035938903863432,
          -0.00019025875190256666,
          -0.0027397260273972,
          -0.0002005213555243333,
          0.00017777777777776665,
          -0.0004218519299725333,
          0.00017235436056530003,
          0.0022675736961451,
          -0.0005265929436545333,
          -0.004655493482309067,
          0.00005481554568876666,
          0.0001037236801161,
          0.0011415525114155335,
          -0.000011289102629202662,
          0.00043744531933503336,
          -0.0009496676163342667,
          0.0007724990343761667,
          -0.0002009242515571334,
          0.0004116242693669,
          -0.0016064257028112333,
          0.0007077140835102334,
          -0.0011867088607594666,
          -0.0010226203624165667,
          -0.0015408320493066332,
          -0.0009537434430138001,
          -0.0021428571428570996,
          0.00009213193292793333,
          0.00033534540576793333,
          0.0008984725965858,
          -0.0019025875190258666,
          0.0036529680365296664,
          0.0013368090368290333,
          0.0071111111111110655,
          0.0027420375448216996,
          -0.0020682523267838335,
          0.010582010582010533,
          -0.006319115323854633,
          0.006517690875232733,
          0.00021926218275503334,
          -0.00038032016042593335,
          -0.0009512937595129332,
          0.000112891026292264,
          -0.0014581510644502335,
          0.002849002849002833,
          0.0019312475859404666,
          0.00040184850311436663,
          -3.3248866622888805e-17,
          0.0016064257028112333,
          -0.0018872375560273333,
          -0.014899789029535834,
          -0.0011453348059066333,
          -0.0015408320493066,
          -0.0171673819742489,
          -0.0045238095238095,
          0.0004606596646398,
          0.0060362173038229,
          0,
          -0.0055175038051750004,
          0.05022831050228307,
          0.005881959762047933,
          0.030399999999999965,
          0.010124446319341866,
          0.0012064805239572333,
          0.039304610733182095,
          -0.018957345971563937,
          -0.010242085661080065,
          -0.006194156662829534,
          -0.0014521315216263337,
          -0.00019025875190259995,
          0.000045156410516901335,
          0.00036453776611253334,
          -0.013295346628679932,
          -0.004828118964851234,
          -0.0079365079365079,
          0.0040339178397957995,
          0.006425702811244966,
          -0.0009436187780136666,
          -0.0002637130801687667,
          0.000040904814496699985,
          0.0215716486902927,
          0.0014306151645207665,
          0.0019047619047618666,
          -0.00009213193292793333,
          0.0020120724346076,
          -0.0008984725965858,
          0.0005707762557077334,
          -0.0036529680365296664,
          0.0022057349107679333,
          -0.0007111111111111,
          0,
          -0.0020682523267838335,
          -0.0015117157974300667,
          0,
          -0.0027932960893854997,
          0.0007126020939538,
          0,
          -0.0013318112633180334,
          -0.000011289102629232003,
          -0.0007290755322251001,
          0.0018993352326685334,
          0.0007724990343762001,
          0.0019087803897929999,
          -0.0020581213468346,
          -0.0016064257028112333,
          -0.0004718093890068334,
          0.00039556962025316666,
          -0.00028633370147656666,
          0.0005136106831022,
          0,
          -0.0007142857142857,
          -0.00009213193292793333,
          0.0006706908115358667,
          0.0008984725965858,
          0,
          -0.0018264840182648,
          0.0005347236147315667,
          -0.00017777777777776665,
          0.0003515432749771333,
          0.00034470872113063334,
          0.0022675736961451,
          0,
          0.0009310986964618,
          -0.00032889327413256666,
          -0.00006914912007743333,
          0.0003805175038051666,
          0.00003386730788769601,
          0,
          0,
          -0.0005793742757821666,
          -0.00040184850311433324,
          0.0009055733926072,
          0,
          0,
          0.00013185654008436665,
          0.00012271444348996668,
          0.0010272213662044,
          0,
          0,
          0.00018426386585586665,
          -0.0006706908115358667,
          0.0008984725965858,
          -0.0005707762557077334,
          0,
          -0.0001336809036829,
          -0.0010666666666666333,
          0.00007030865499543333,
          -0.00034470872113066673,
          0.0030234315948601334,
          0,
          -0.0009310986964618,
          -0.00021926218275499998,
          0.00006914912007743333,
          -0.0007610350076103,
          0.000022578205258464007,
          -0.00021872265966756666,
          -0.002849002849002833,
          0.00019312475859403332,
          -0.00070323488045,
          0.00008232485387336666,
          -0.0008032128514056333,
          0.00047180938900680003,
          -0.0003955696202531333,
          0,
          0.0005136106831022,
          0,
          -0.00023809523809523335,
          -0.0003685277317117667,
          -0.0006706908115358667,
          0,
          -0.0005707762557077334,
          -0.0018264840182648332,
          0.0001336809036829,
          -0.0008888888888888666,
          0.00007030865499539999,
          -0.0003447087211306666,
          0.0015117157974300667,
          3.3393426912553537e-17,
          0,
          -0.00016444663706626666,
          -0.00003457456003873333,
          -0.0003805175038051666,
          0,
          0.00007290755322250001,
          0,
          -0.00019312475859403332,
          -0.00020092425155713334,
          0.00008232485387340003,
          0
         ],
         "x0": " ",
         "xaxis": "x2",
         "y": [
          "Baseline",
          "Baseline",
          "Baseline",
          "Baseline",
          "Baseline",
          "Baseline",
          "Baseline",
          "Baseline",
          "Baseline",
          "Baseline",
          "Baseline",
          "Baseline",
          "Baseline",
          "Baseline",
          "Baseline",
          "Baseline",
          "Baseline",
          "Baseline",
          "Baseline",
          "Baseline",
          "Baseline",
          "Baseline",
          "Baseline",
          "Baseline",
          "Baseline",
          "Baseline",
          "Baseline",
          "Baseline",
          "Zari",
          "Zari",
          "Zari",
          "Zari",
          "Zari",
          "Zari",
          "Zari",
          "Zari",
          "Zari",
          "Zari",
          "Zari",
          "Zari",
          "Zari",
          "Zari",
          "Zari",
          "Zari",
          "Zari",
          "Zari",
          "Zari",
          "Zari",
          "Zari",
          "Zari",
          "Zari",
          "Zari",
          "Zari",
          "Zari",
          "Zari",
          "Zari",
          "CDA",
          "CDA",
          "CDA",
          "CDA",
          "CDA",
          "CDA",
          "CDA",
          "CDA",
          "CDA",
          "CDA",
          "CDA",
          "CDA",
          "CDA",
          "CDA",
          "CDA",
          "CDA",
          "CDA",
          "CDA",
          "CDA",
          "CDA",
          "CDA",
          "CDA",
          "CDA",
          "CDA",
          "CDA",
          "CDA",
          "CDA",
          "CDA",
          "Zari w/ CDA",
          "Zari w/ CDA",
          "Zari w/ CDA",
          "Zari w/ CDA",
          "Zari w/ CDA",
          "Zari w/ CDA",
          "Zari w/ CDA",
          "Zari w/ CDA",
          "Zari w/ CDA",
          "Zari w/ CDA",
          "Zari w/ CDA",
          "Zari w/ CDA",
          "Zari w/ CDA",
          "Zari w/ CDA",
          "Zari w/ CDA",
          "Zari w/ CDA",
          "Zari w/ CDA",
          "Zari w/ CDA",
          "Zari w/ CDA",
          "Zari w/ CDA",
          "Zari w/ CDA",
          "Zari w/ CDA",
          "Zari w/ CDA",
          "Zari w/ CDA",
          "Zari w/ CDA",
          "Zari w/ CDA",
          "Zari w/ CDA",
          "Zari w/ CDA",
          "Reweight",
          "Reweight",
          "Reweight",
          "Reweight",
          "Reweight",
          "Reweight",
          "Reweight",
          "Reweight",
          "Reweight",
          "Reweight",
          "Reweight",
          "Reweight",
          "Reweight",
          "Reweight",
          "Reweight",
          "Reweight",
          "Reweight",
          "Reweight",
          "Reweight",
          "Reweight",
          "Reweight",
          "Reweight",
          "Reweight",
          "Reweight",
          "Reweight",
          "Reweight",
          "Reweight",
          "Reweight",
          "Oversampling",
          "Oversampling",
          "Oversampling",
          "Oversampling",
          "Oversampling",
          "Oversampling",
          "Oversampling",
          "Oversampling",
          "Oversampling",
          "Oversampling",
          "Oversampling",
          "Oversampling",
          "Oversampling",
          "Oversampling",
          "Oversampling",
          "Oversampling",
          "Oversampling",
          "Oversampling",
          "Oversampling",
          "Oversampling",
          "Oversampling",
          "Oversampling",
          "Oversampling",
          "Oversampling",
          "Oversampling",
          "Oversampling",
          "Oversampling",
          "Oversampling",
          "Undersampling",
          "Undersampling",
          "Undersampling",
          "Undersampling",
          "Undersampling",
          "Undersampling",
          "Undersampling",
          "Undersampling",
          "Undersampling",
          "Undersampling",
          "Undersampling",
          "Undersampling",
          "Undersampling",
          "Undersampling",
          "Undersampling",
          "Undersampling",
          "Undersampling",
          "Undersampling",
          "Undersampling",
          "Undersampling",
          "Undersampling",
          "Undersampling",
          "Undersampling",
          "Undersampling",
          "Undersampling",
          "Undersampling",
          "Undersampling",
          "Undersampling",
          "Oversampling w/ CDA",
          "Oversampling w/ CDA",
          "Oversampling w/ CDA",
          "Oversampling w/ CDA",
          "Oversampling w/ CDA",
          "Oversampling w/ CDA",
          "Oversampling w/ CDA",
          "Oversampling w/ CDA",
          "Oversampling w/ CDA",
          "Oversampling w/ CDA",
          "Oversampling w/ CDA",
          "Oversampling w/ CDA",
          "Oversampling w/ CDA",
          "Oversampling w/ CDA",
          "Oversampling w/ CDA",
          "Oversampling w/ CDA",
          "Oversampling w/ CDA",
          "Oversampling w/ CDA",
          "Oversampling w/ CDA",
          "Oversampling w/ CDA",
          "Oversampling w/ CDA",
          "Oversampling w/ CDA",
          "Oversampling w/ CDA",
          "Oversampling w/ CDA",
          "Oversampling w/ CDA",
          "Oversampling w/ CDA",
          "Oversampling w/ CDA",
          "Oversampling w/ CDA",
          "Undersampling w/ CDA",
          "Undersampling w/ CDA",
          "Undersampling w/ CDA",
          "Undersampling w/ CDA",
          "Undersampling w/ CDA",
          "Undersampling w/ CDA",
          "Undersampling w/ CDA",
          "Undersampling w/ CDA",
          "Undersampling w/ CDA",
          "Undersampling w/ CDA",
          "Undersampling w/ CDA",
          "Undersampling w/ CDA",
          "Undersampling w/ CDA",
          "Undersampling w/ CDA",
          "Undersampling w/ CDA",
          "Undersampling w/ CDA",
          "Undersampling w/ CDA",
          "Undersampling w/ CDA",
          "Undersampling w/ CDA",
          "Undersampling w/ CDA",
          "Undersampling w/ CDA",
          "Undersampling w/ CDA",
          "Undersampling w/ CDA",
          "Undersampling w/ CDA",
          "Undersampling w/ CDA",
          "Undersampling w/ CDA",
          "Undersampling w/ CDA",
          "Undersampling w/ CDA",
          "Reweight w/ CDA",
          "Reweight w/ CDA",
          "Reweight w/ CDA",
          "Reweight w/ CDA",
          "Reweight w/ CDA",
          "Reweight w/ CDA",
          "Reweight w/ CDA",
          "Reweight w/ CDA",
          "Reweight w/ CDA",
          "Reweight w/ CDA",
          "Reweight w/ CDA",
          "Reweight w/ CDA",
          "Reweight w/ CDA",
          "Reweight w/ CDA",
          "Reweight w/ CDA",
          "Reweight w/ CDA",
          "Reweight w/ CDA",
          "Reweight w/ CDA",
          "Reweight w/ CDA",
          "Reweight w/ CDA",
          "Reweight w/ CDA",
          "Reweight w/ CDA",
          "Reweight w/ CDA",
          "Reweight w/ CDA",
          "Reweight w/ CDA",
          "Reweight w/ CDA",
          "Reweight w/ CDA",
          "Reweight w/ CDA"
         ],
         "y0": " ",
         "yaxis": "y2"
        }
       ],
       "layout": {
        "annotations": [
         {
          "showarrow": false,
          "text": "paralegal",
          "x": 0.2572275654665645,
          "y": 0.97,
          "yref": "paper"
         },
         {
          "showarrow": false,
          "text": "interior_designer",
          "x": 0.08632420091324196,
          "xref": "x2",
          "y": 0.97,
          "yref": "paper"
         }
        ],
        "autosize": false,
        "boxgap": 0.5,
        "font": {
         "size": 14
        },
        "height": 535,
        "legend": {
         "title": {
          "text": "Debias Type"
         }
        },
        "margin": {
         "b": 20,
         "l": 15,
         "r": 15,
         "t": 20
        },
        "plot_bgcolor": "white",
        "shapes": [
         {
          "fillcolor": "red",
          "line": {
           "color": "red"
          },
          "type": "circle",
          "x0": 0.2549275654665645,
          "x1": 0.2595275654665645,
          "xref": "x",
          "y0": 0.91,
          "y1": 0.92,
          "yref": "paper"
         },
         {
          "fillcolor": "red",
          "line": {
           "color": "red"
          },
          "type": "circle",
          "x0": 0.2092782903509518,
          "x1": 0.2138782903509518,
          "xref": "x",
          "y0": 0.8107,
          "y1": 0.8207,
          "yref": "paper"
         },
         {
          "fillcolor": "red",
          "line": {
           "color": "red"
          },
          "type": "circle",
          "x0": 0.17578607824779413,
          "x1": 0.18038607824779412,
          "xref": "x",
          "y0": 0.7114,
          "y1": 0.7214,
          "yref": "paper"
         },
         {
          "fillcolor": "red",
          "line": {
           "color": "red"
          },
          "type": "circle",
          "x0": 0.11632002439923954,
          "x1": 0.12092002439923953,
          "xref": "x",
          "y0": 0.6121000000000001,
          "y1": 0.6221000000000001,
          "yref": "paper"
         },
         {
          "fillcolor": "red",
          "line": {
           "color": "red"
          },
          "type": "circle",
          "x0": 0.2525869407325445,
          "x1": 0.25718694073254456,
          "xref": "x",
          "y0": 0.5128,
          "y1": 0.5228,
          "yref": "paper"
         },
         {
          "fillcolor": "red",
          "line": {
           "color": "red"
          },
          "type": "circle",
          "x0": 0.27213470366272297,
          "x1": 0.276734703662723,
          "xref": "x",
          "y0": 0.41350000000000003,
          "y1": 0.42350000000000004,
          "yref": "paper"
         },
         {
          "fillcolor": "red",
          "line": {
           "color": "red"
          },
          "type": "circle",
          "x0": 0.272134703662723,
          "x1": 0.27673470366272307,
          "xref": "x",
          "y0": 0.31420000000000003,
          "y1": 0.32420000000000004,
          "yref": "paper"
         },
         {
          "fillcolor": "red",
          "line": {
           "color": "red"
          },
          "type": "circle",
          "x0": 0.15873498170057015,
          "x1": 0.16333498170057015,
          "xref": "x",
          "y0": 0.21489999999999998,
          "y1": 0.2249,
          "yref": "paper"
         },
         {
          "fillcolor": "red",
          "line": {
           "color": "red"
          },
          "type": "circle",
          "x0": 0.16004005730984186,
          "x1": 0.16464005730984185,
          "xref": "x",
          "y0": 0.11560000000000004,
          "y1": 0.12560000000000004,
          "yref": "paper"
         },
         {
          "fillcolor": "red",
          "line": {
           "color": "red"
          },
          "type": "circle",
          "x0": 0.11202178625131214,
          "x1": 0.11662178625131213,
          "xref": "x",
          "y0": 0.016300000000000092,
          "y1": 0.0263000000000001,
          "yref": "paper"
         },
         {
          "fillcolor": "red",
          "line": {
           "color": "red"
          },
          "type": "circle",
          "x0": 0.09052420091324197,
          "x1": 0.09212420091324196,
          "xref": "x2",
          "y0": 0.91,
          "y1": 0.92,
          "yref": "paper"
         },
         {
          "fillcolor": "red",
          "line": {
           "color": "red"
          },
          "type": "circle",
          "x0": 0.049428310502283065,
          "x1": 0.05102831050228307,
          "xref": "x2",
          "y0": 0.8107,
          "y1": 0.8207,
          "yref": "paper"
         },
         {
          "fillcolor": "red",
          "line": {
           "color": "red"
          },
          "type": "circle",
          "x0": -0.004452968036529666,
          "x1": -0.0028529680365296664,
          "xref": "x2",
          "y0": 0.7114,
          "y1": 0.7214,
          "yref": "paper"
         },
         {
          "fillcolor": "red",
          "line": {
           "color": "red"
          },
          "type": "circle",
          "x0": 0.0028529680365296664,
          "x1": 0.004452968036529666,
          "xref": "x2",
          "y0": 0.6121000000000001,
          "y1": 0.6221000000000001,
          "yref": "paper"
         },
         {
          "fillcolor": "red",
          "line": {
           "color": "red"
          },
          "type": "circle",
          "x0": 0.0019397260273972335,
          "x1": 0.0035397260273972333,
          "xref": "x2",
          "y0": 0.5128,
          "y1": 0.5228,
          "yref": "paper"
         },
         {
          "fillcolor": "red",
          "line": {
           "color": "red"
          },
          "type": "circle",
          "x0": 0.07956529680365294,
          "x1": 0.08116529680365293,
          "xref": "x2",
          "y0": 0.41350000000000003,
          "y1": 0.42350000000000004,
          "yref": "paper"
         },
         {
          "fillcolor": "red",
          "line": {
           "color": "red"
          },
          "type": "circle",
          "x0": -0.0035397260273972,
          "x1": -0.0019397260273972,
          "xref": "x2",
          "y0": 0.31420000000000003,
          "y1": 0.32420000000000004,
          "yref": "paper"
         },
         {
          "fillcolor": "red",
          "line": {
           "color": "red"
          },
          "type": "circle",
          "x0": -0.0026264840182648,
          "x1": -0.0010264840182648,
          "xref": "x2",
          "y0": 0.21489999999999998,
          "y1": 0.2249,
          "yref": "paper"
         },
         {
          "fillcolor": "red",
          "line": {
           "color": "red"
          },
          "type": "circle",
          "x0": -0.0008,
          "x1": 0.0008,
          "xref": "x2",
          "y0": 0.11560000000000004,
          "y1": 0.12560000000000004,
          "yref": "paper"
         },
         {
          "fillcolor": "red",
          "line": {
           "color": "red"
          },
          "type": "circle",
          "x0": -0.0026264840182648333,
          "x1": -0.001026484018264833,
          "xref": "x2",
          "y0": 0.016300000000000092,
          "y1": 0.0263000000000001,
          "yref": "paper"
         }
        ],
        "template": {
         "data": {
          "bar": [
           {
            "error_x": {
             "color": "#2a3f5f"
            },
            "error_y": {
             "color": "#2a3f5f"
            },
            "marker": {
             "line": {
              "color": "#E5ECF6",
              "width": 0.5
             },
             "pattern": {
              "fillmode": "overlay",
              "size": 10,
              "solidity": 0.2
             }
            },
            "type": "bar"
           }
          ],
          "barpolar": [
           {
            "marker": {
             "line": {
              "color": "#E5ECF6",
              "width": 0.5
             },
             "pattern": {
              "fillmode": "overlay",
              "size": 10,
              "solidity": 0.2
             }
            },
            "type": "barpolar"
           }
          ],
          "carpet": [
           {
            "aaxis": {
             "endlinecolor": "#2a3f5f",
             "gridcolor": "white",
             "linecolor": "white",
             "minorgridcolor": "white",
             "startlinecolor": "#2a3f5f"
            },
            "baxis": {
             "endlinecolor": "#2a3f5f",
             "gridcolor": "white",
             "linecolor": "white",
             "minorgridcolor": "white",
             "startlinecolor": "#2a3f5f"
            },
            "type": "carpet"
           }
          ],
          "choropleth": [
           {
            "colorbar": {
             "outlinewidth": 0,
             "ticks": ""
            },
            "type": "choropleth"
           }
          ],
          "contour": [
           {
            "colorbar": {
             "outlinewidth": 0,
             "ticks": ""
            },
            "colorscale": [
             [
              0,
              "#0d0887"
             ],
             [
              0.1111111111111111,
              "#46039f"
             ],
             [
              0.2222222222222222,
              "#7201a8"
             ],
             [
              0.3333333333333333,
              "#9c179e"
             ],
             [
              0.4444444444444444,
              "#bd3786"
             ],
             [
              0.5555555555555556,
              "#d8576b"
             ],
             [
              0.6666666666666666,
              "#ed7953"
             ],
             [
              0.7777777777777778,
              "#fb9f3a"
             ],
             [
              0.8888888888888888,
              "#fdca26"
             ],
             [
              1,
              "#f0f921"
             ]
            ],
            "type": "contour"
           }
          ],
          "contourcarpet": [
           {
            "colorbar": {
             "outlinewidth": 0,
             "ticks": ""
            },
            "type": "contourcarpet"
           }
          ],
          "heatmap": [
           {
            "colorbar": {
             "outlinewidth": 0,
             "ticks": ""
            },
            "colorscale": [
             [
              0,
              "#0d0887"
             ],
             [
              0.1111111111111111,
              "#46039f"
             ],
             [
              0.2222222222222222,
              "#7201a8"
             ],
             [
              0.3333333333333333,
              "#9c179e"
             ],
             [
              0.4444444444444444,
              "#bd3786"
             ],
             [
              0.5555555555555556,
              "#d8576b"
             ],
             [
              0.6666666666666666,
              "#ed7953"
             ],
             [
              0.7777777777777778,
              "#fb9f3a"
             ],
             [
              0.8888888888888888,
              "#fdca26"
             ],
             [
              1,
              "#f0f921"
             ]
            ],
            "type": "heatmap"
           }
          ],
          "heatmapgl": [
           {
            "colorbar": {
             "outlinewidth": 0,
             "ticks": ""
            },
            "colorscale": [
             [
              0,
              "#0d0887"
             ],
             [
              0.1111111111111111,
              "#46039f"
             ],
             [
              0.2222222222222222,
              "#7201a8"
             ],
             [
              0.3333333333333333,
              "#9c179e"
             ],
             [
              0.4444444444444444,
              "#bd3786"
             ],
             [
              0.5555555555555556,
              "#d8576b"
             ],
             [
              0.6666666666666666,
              "#ed7953"
             ],
             [
              0.7777777777777778,
              "#fb9f3a"
             ],
             [
              0.8888888888888888,
              "#fdca26"
             ],
             [
              1,
              "#f0f921"
             ]
            ],
            "type": "heatmapgl"
           }
          ],
          "histogram": [
           {
            "marker": {
             "pattern": {
              "fillmode": "overlay",
              "size": 10,
              "solidity": 0.2
             }
            },
            "type": "histogram"
           }
          ],
          "histogram2d": [
           {
            "colorbar": {
             "outlinewidth": 0,
             "ticks": ""
            },
            "colorscale": [
             [
              0,
              "#0d0887"
             ],
             [
              0.1111111111111111,
              "#46039f"
             ],
             [
              0.2222222222222222,
              "#7201a8"
             ],
             [
              0.3333333333333333,
              "#9c179e"
             ],
             [
              0.4444444444444444,
              "#bd3786"
             ],
             [
              0.5555555555555556,
              "#d8576b"
             ],
             [
              0.6666666666666666,
              "#ed7953"
             ],
             [
              0.7777777777777778,
              "#fb9f3a"
             ],
             [
              0.8888888888888888,
              "#fdca26"
             ],
             [
              1,
              "#f0f921"
             ]
            ],
            "type": "histogram2d"
           }
          ],
          "histogram2dcontour": [
           {
            "colorbar": {
             "outlinewidth": 0,
             "ticks": ""
            },
            "colorscale": [
             [
              0,
              "#0d0887"
             ],
             [
              0.1111111111111111,
              "#46039f"
             ],
             [
              0.2222222222222222,
              "#7201a8"
             ],
             [
              0.3333333333333333,
              "#9c179e"
             ],
             [
              0.4444444444444444,
              "#bd3786"
             ],
             [
              0.5555555555555556,
              "#d8576b"
             ],
             [
              0.6666666666666666,
              "#ed7953"
             ],
             [
              0.7777777777777778,
              "#fb9f3a"
             ],
             [
              0.8888888888888888,
              "#fdca26"
             ],
             [
              1,
              "#f0f921"
             ]
            ],
            "type": "histogram2dcontour"
           }
          ],
          "mesh3d": [
           {
            "colorbar": {
             "outlinewidth": 0,
             "ticks": ""
            },
            "type": "mesh3d"
           }
          ],
          "parcoords": [
           {
            "line": {
             "colorbar": {
              "outlinewidth": 0,
              "ticks": ""
             }
            },
            "type": "parcoords"
           }
          ],
          "pie": [
           {
            "automargin": true,
            "type": "pie"
           }
          ],
          "scatter": [
           {
            "fillpattern": {
             "fillmode": "overlay",
             "size": 10,
             "solidity": 0.2
            },
            "type": "scatter"
           }
          ],
          "scatter3d": [
           {
            "line": {
             "colorbar": {
              "outlinewidth": 0,
              "ticks": ""
             }
            },
            "marker": {
             "colorbar": {
              "outlinewidth": 0,
              "ticks": ""
             }
            },
            "type": "scatter3d"
           }
          ],
          "scattercarpet": [
           {
            "marker": {
             "colorbar": {
              "outlinewidth": 0,
              "ticks": ""
             }
            },
            "type": "scattercarpet"
           }
          ],
          "scattergeo": [
           {
            "marker": {
             "colorbar": {
              "outlinewidth": 0,
              "ticks": ""
             }
            },
            "type": "scattergeo"
           }
          ],
          "scattergl": [
           {
            "marker": {
             "colorbar": {
              "outlinewidth": 0,
              "ticks": ""
             }
            },
            "type": "scattergl"
           }
          ],
          "scattermapbox": [
           {
            "marker": {
             "colorbar": {
              "outlinewidth": 0,
              "ticks": ""
             }
            },
            "type": "scattermapbox"
           }
          ],
          "scatterpolar": [
           {
            "marker": {
             "colorbar": {
              "outlinewidth": 0,
              "ticks": ""
             }
            },
            "type": "scatterpolar"
           }
          ],
          "scatterpolargl": [
           {
            "marker": {
             "colorbar": {
              "outlinewidth": 0,
              "ticks": ""
             }
            },
            "type": "scatterpolargl"
           }
          ],
          "scatterternary": [
           {
            "marker": {
             "colorbar": {
              "outlinewidth": 0,
              "ticks": ""
             }
            },
            "type": "scatterternary"
           }
          ],
          "surface": [
           {
            "colorbar": {
             "outlinewidth": 0,
             "ticks": ""
            },
            "colorscale": [
             [
              0,
              "#0d0887"
             ],
             [
              0.1111111111111111,
              "#46039f"
             ],
             [
              0.2222222222222222,
              "#7201a8"
             ],
             [
              0.3333333333333333,
              "#9c179e"
             ],
             [
              0.4444444444444444,
              "#bd3786"
             ],
             [
              0.5555555555555556,
              "#d8576b"
             ],
             [
              0.6666666666666666,
              "#ed7953"
             ],
             [
              0.7777777777777778,
              "#fb9f3a"
             ],
             [
              0.8888888888888888,
              "#fdca26"
             ],
             [
              1,
              "#f0f921"
             ]
            ],
            "type": "surface"
           }
          ],
          "table": [
           {
            "cells": {
             "fill": {
              "color": "#EBF0F8"
             },
             "line": {
              "color": "white"
             }
            },
            "header": {
             "fill": {
              "color": "#C8D4E3"
             },
             "line": {
              "color": "white"
             }
            },
            "type": "table"
           }
          ]
         },
         "layout": {
          "annotationdefaults": {
           "arrowcolor": "#2a3f5f",
           "arrowhead": 0,
           "arrowwidth": 1
          },
          "autotypenumbers": "strict",
          "coloraxis": {
           "colorbar": {
            "outlinewidth": 0,
            "ticks": ""
           }
          },
          "colorscale": {
           "diverging": [
            [
             0,
             "#8e0152"
            ],
            [
             0.1,
             "#c51b7d"
            ],
            [
             0.2,
             "#de77ae"
            ],
            [
             0.3,
             "#f1b6da"
            ],
            [
             0.4,
             "#fde0ef"
            ],
            [
             0.5,
             "#f7f7f7"
            ],
            [
             0.6,
             "#e6f5d0"
            ],
            [
             0.7,
             "#b8e186"
            ],
            [
             0.8,
             "#7fbc41"
            ],
            [
             0.9,
             "#4d9221"
            ],
            [
             1,
             "#276419"
            ]
           ],
           "sequential": [
            [
             0,
             "#0d0887"
            ],
            [
             0.1111111111111111,
             "#46039f"
            ],
            [
             0.2222222222222222,
             "#7201a8"
            ],
            [
             0.3333333333333333,
             "#9c179e"
            ],
            [
             0.4444444444444444,
             "#bd3786"
            ],
            [
             0.5555555555555556,
             "#d8576b"
            ],
            [
             0.6666666666666666,
             "#ed7953"
            ],
            [
             0.7777777777777778,
             "#fb9f3a"
            ],
            [
             0.8888888888888888,
             "#fdca26"
            ],
            [
             1,
             "#f0f921"
            ]
           ],
           "sequentialminus": [
            [
             0,
             "#0d0887"
            ],
            [
             0.1111111111111111,
             "#46039f"
            ],
            [
             0.2222222222222222,
             "#7201a8"
            ],
            [
             0.3333333333333333,
             "#9c179e"
            ],
            [
             0.4444444444444444,
             "#bd3786"
            ],
            [
             0.5555555555555556,
             "#d8576b"
            ],
            [
             0.6666666666666666,
             "#ed7953"
            ],
            [
             0.7777777777777778,
             "#fb9f3a"
            ],
            [
             0.8888888888888888,
             "#fdca26"
            ],
            [
             1,
             "#f0f921"
            ]
           ]
          },
          "colorway": [
           "#636efa",
           "#EF553B",
           "#00cc96",
           "#ab63fa",
           "#FFA15A",
           "#19d3f3",
           "#FF6692",
           "#B6E880",
           "#FF97FF",
           "#FECB52"
          ],
          "font": {
           "color": "#2a3f5f"
          },
          "geo": {
           "bgcolor": "white",
           "lakecolor": "white",
           "landcolor": "#E5ECF6",
           "showlakes": true,
           "showland": true,
           "subunitcolor": "white"
          },
          "hoverlabel": {
           "align": "left"
          },
          "hovermode": "closest",
          "mapbox": {
           "style": "light"
          },
          "paper_bgcolor": "white",
          "plot_bgcolor": "#E5ECF6",
          "polar": {
           "angularaxis": {
            "gridcolor": "white",
            "linecolor": "white",
            "ticks": ""
           },
           "bgcolor": "#E5ECF6",
           "radialaxis": {
            "gridcolor": "white",
            "linecolor": "white",
            "ticks": ""
           }
          },
          "scene": {
           "xaxis": {
            "backgroundcolor": "#E5ECF6",
            "gridcolor": "white",
            "gridwidth": 2,
            "linecolor": "white",
            "showbackground": true,
            "ticks": "",
            "zerolinecolor": "white"
           },
           "yaxis": {
            "backgroundcolor": "#E5ECF6",
            "gridcolor": "white",
            "gridwidth": 2,
            "linecolor": "white",
            "showbackground": true,
            "ticks": "",
            "zerolinecolor": "white"
           },
           "zaxis": {
            "backgroundcolor": "#E5ECF6",
            "gridcolor": "white",
            "gridwidth": 2,
            "linecolor": "white",
            "showbackground": true,
            "ticks": "",
            "zerolinecolor": "white"
           }
          },
          "shapedefaults": {
           "line": {
            "color": "#2a3f5f"
           }
          },
          "ternary": {
           "aaxis": {
            "gridcolor": "white",
            "linecolor": "white",
            "ticks": ""
           },
           "baxis": {
            "gridcolor": "white",
            "linecolor": "white",
            "ticks": ""
           },
           "bgcolor": "#E5ECF6",
           "caxis": {
            "gridcolor": "white",
            "linecolor": "white",
            "ticks": ""
           }
          },
          "title": {
           "x": 0.05
          },
          "xaxis": {
           "automargin": true,
           "gridcolor": "white",
           "linecolor": "white",
           "ticks": "",
           "title": {
            "standoff": 15
           },
           "zerolinecolor": "white",
           "zerolinewidth": 2
          },
          "yaxis": {
           "automargin": true,
           "gridcolor": "white",
           "linecolor": "white",
           "ticks": "",
           "title": {
            "standoff": 15
           },
           "zerolinecolor": "white",
           "zerolinewidth": 2
          }
         }
        },
        "width": 1000,
        "xaxis": {
         "anchor": "y",
         "domain": [
          0,
          0.485
         ],
         "gridcolor": "darkgrey",
         "mirror": true,
         "showgrid": true,
         "title": {
          "text": "Statistical TPR Gap"
         },
         "zeroline": true,
         "zerolinecolor": "darkgrey"
        },
        "xaxis2": {
         "anchor": "y2",
         "domain": [
          0.515,
          1
         ],
         "gridcolor": "darkgrey",
         "mirror": true,
         "range": [
          -0.052,
          0.105
         ],
         "showgrid": true,
         "tickvals": [
          -0.05,
          0,
          0.05,
          0.1
         ],
         "title": {
          "text": "Causal TPR Gap"
         },
         "zeroline": true,
         "zerolinecolor": "darkgrey"
        },
        "yaxis": {
         "anchor": "x",
         "categoryarray": [
          "Reweight w/ CDA",
          "Undersampling w/ CDA",
          "Oversampling w/ CDA",
          "Zari w/ CDA",
          "Zari",
          "CDA",
          "Reweight",
          "Undersampling",
          "Oversampling",
          "Baseline"
         ],
         "categoryorder": "array",
         "domain": [
          0,
          1
         ],
         "gridcolor": "lightgrey",
         "mirror": true,
         "showgrid": true,
         "tickmode": "array",
         "ticktext": [
          "<b>Normal</b><br>Acc= 95.49%<br>",
          "<b>Statistical</b><br>Oversampling<br>Acc= 95.50%",
          "Undersampling<br>Acc= 94.79%",
          "Reweighting<br>Acc= 95.26%<br>",
          "<b>Causal</b><br>CDA<br>Acc= 95.47%<br>",
          "Zari<br>Acc= 95.23%<br>",
          "Zari w/ CDA<br>Acc= 95.20%<br>",
          "<b>Combination</b><br>OS-CDA<br>Acc= 95.39%",
          "US-CDA<br>Acc= 94.73%",
          "RW-CDA<br>Acc= 95.43%"
         ],
         "tickvals": [
          "Baseline",
          "Oversampling",
          "Undersampling",
          "Reweight",
          "CDA",
          "Zari",
          "Zari w/ CDA",
          "Oversampling w/ CDA",
          "Undersampling w/ CDA",
          "Reweight w/ CDA"
         ]
        },
        "yaxis2": {
         "anchor": "x2",
         "categoryarray": [
          "Reweight w/ CDA",
          "Undersampling w/ CDA",
          "Oversampling w/ CDA",
          "Zari w/ CDA",
          "Zari",
          "CDA",
          "Reweight",
          "Undersampling",
          "Oversampling",
          "Baseline"
         ],
         "categoryorder": "array",
         "domain": [
          0,
          1
         ],
         "gridcolor": "lightgrey",
         "matches": "y",
         "mirror": true,
         "showgrid": true,
         "showticklabels": false
        }
       }
      }
     },
     "metadata": {},
     "output_type": "display_data"
    }
   ],
   "source": [
    "fig = make_subplots(\n",
    "    rows=1, cols=2, shared_yaxes=True, horizontal_spacing=0.03\n",
    ")\n",
    "\n",
    "for t in px.box(tpr_parity_df, x=\"statistical_parity\", y=\"Method\", color_discrete_sequence=px.colors.qualitative.D3, hover_data=[\"occupation\"]).data:\n",
    "    fig.add_trace(t, row=1, col=1)\n",
    "for t in px.box(tpr_parity_df, x=\"causal_parity\", y=\"Method\", color_discrete_sequence=px.colors.qualitative.D3, hover_data=[\"occupation\"]).data:\n",
    "    t[\"showlegend\"] = False\n",
    "    fig.add_trace(t, row=1, col=2)\n",
    "\n",
    "fig.update_layout(\n",
    "    autosize=False,\n",
    "    width=1000,\n",
    "    height=535,\n",
    "    plot_bgcolor='white',\n",
    "    font=dict(size=14),\n",
    "    legend_title=\"Debias Type\",\n",
    "    margin=dict(l=15, r=15, t=20, b=20),\n",
    "    boxgap=0.5,\n",
    "    yaxis = dict(\n",
    "        tickmode = 'array',\n",
    "        tickvals = [\"Baseline\", \"Oversampling\", \"Undersampling\", \"Reweight\", \"CDA\", \"Zari\", \"Zari w/ CDA\", \"Oversampling w/ CDA\", \"Undersampling w/ CDA\", \"Reweight w/ CDA\"],\n",
    "        ticktext = [\n",
    "            f\"<b>Normal</b><br>Acc={acc_df[acc_df.Method == 'Baseline'].Acc.item()*100: .2f}%<br>\", \n",
    "            f\"<b>Statistical</b><br>Oversampling<br>Acc={acc_df[acc_df.Method == 'Oversampling'].Acc.item()*100: .2f}%\", \n",
    "            f\"Undersampling<br>Acc={acc_df[acc_df.Method == 'Undersampling'].Acc.item()*100: .2f}%\",\n",
    "            f\"Reweighting<br>Acc={acc_df[acc_df.Method == 'Reweight'].Acc.item()*100: .2f}%<br>\",\n",
    "            f\"<b>Causal</b><br>CDA<br>Acc={acc_df[acc_df.Method == 'CDA'].Acc.item()*100: .2f}%<br>\", \n",
    "            f\"Zari<br>Acc={acc_df[acc_df.Method == 'Zari'].Acc.item()*100: .2f}%<br>\",\n",
    "            f\"Zari w/ CDA<br>Acc={acc_df[acc_df.Method == 'Zari w/ CDA'].Acc.item()*100: .2f}%<br>\",\n",
    "            f\"<b>Combination</b><br>OS-CDA<br>Acc={acc_df[acc_df.Method == 'Oversampling w/ CDA'].Acc.item()*100: .2f}%\",\n",
    "            f\"US-CDA<br>Acc={acc_df[acc_df.Method == 'Undersampling w/ CDA'].Acc.item()*100: .2f}%\",\n",
    "            f\"RW-CDA<br>Acc={acc_df[acc_df.Method == 'Reweight w/ CDA'].Acc.item()*100: .2f}%\",\n",
    "        ]\n",
    "    ),\n",
    "    xaxis2 = dict(range=[-0.052, 0.105], tickvals=[-0.05, 0, 0.05, 0.1])\n",
    ")\n",
    "fig.update_xaxes(title_text='Statistical TPR Gap',row=1, col=1)\n",
    "fig.update_xaxes(title_text='Causal TPR Gap',row=1, col=2)\n",
    "fig.update_traces(boxpoints=\"all\", jitter=0.3, pointpos=-2)\n",
    "fig.update_xaxes(\n",
    "    mirror=True,\n",
    "    showgrid=True,\n",
    "    gridcolor='darkgrey',\n",
    "    zeroline = True,\n",
    "    zerolinecolor='darkgrey',\n",
    ")\n",
    "fig.update_yaxes(\n",
    "    mirror=True,\n",
    "    showgrid=True,\n",
    "    gridcolor='lightgrey',\n",
    "    categoryorder='array',\n",
    "    categoryarray= [\"Reweight w/ CDA\", \"Undersampling w/ CDA\", \"Oversampling w/ CDA\", \"Zari w/ CDA\", \"Zari\", \"CDA\", \"Reweight\", \"Undersampling\", \"Oversampling\", 'Baseline']\n",
    ")\n",
    "\n",
    "baseline_x = tpr_parity_df[(tpr_parity_df.occupation == \"paralegal\")&(tpr_parity_df.Method == \"Baseline\")].statistical_parity.item()\n",
    "fig.add_annotation(text=\"paralegal\", x=baseline_x, yref=\"paper\", y=0.97, showarrow=False)\n",
    "\n",
    "offset = 0.0993\n",
    "methods = [\"Baseline\", \"Oversampling\", \"Undersampling\", \"Reweight\", \"CDA\", \"Zari\", \"Zari w/ CDA\", \"Oversampling w/ CDA\", \"Undersampling w/ CDA\", \"Reweight w/ CDA\"]\n",
    "for i, method in enumerate(methods):\n",
    "    x_pos = tpr_parity_df[(tpr_parity_df.occupation == \"paralegal\")&(tpr_parity_df.Method == method)].statistical_parity.item()\n",
    "    fig.add_shape(type=\"circle\", xref=\"x1\", x0=x_pos-0.0023, x1=x_pos+0.0023, yref=\"paper\", y0=0.91-(offset*i), y1=0.92-(offset*i), line_color=\"red\", fillcolor=\"red\")\n",
    "\n",
    "baseline_x = tpr_parity_df[(tpr_parity_df.occupation == \"interior_designer\")&(tpr_parity_df.Method == \"Baseline\")].causal_parity.item()\n",
    "fig.add_annotation(text=\"interior_designer\", xref=\"x2\", x=baseline_x-0.005, yref=\"paper\", y=0.97, showarrow=False)\n",
    "offset = 0.0993\n",
    "for i, method in enumerate(methods):\n",
    "    x_pos = tpr_parity_df[(tpr_parity_df.occupation == \"interior_designer\")&(tpr_parity_df.Method == method)].causal_parity.item()\n",
    "    fig.add_shape(type=\"circle\", xref=\"x2\", x0=x_pos-0.0008, x1=x_pos+0.0008, yref=\"paper\", y0=0.91-(offset*i), y1=0.92-(offset*i), line_color=\"red\", fillcolor=\"red\")\n",
    "fig.show()"
   ]
  },
  {
   "cell_type": "markdown",
   "metadata": {},
   "source": [
    "## FPR Gap"
   ]
  },
  {
   "cell_type": "code",
   "execution_count": 17,
   "metadata": {},
   "outputs": [
    {
     "data": {
      "application/vnd.plotly.v1+json": {
       "config": {
        "plotlyServerURL": "https://plot.ly"
       },
       "data": [
        {
         "alignmentgroup": "True",
         "boxpoints": "all",
         "customdata": [
          [
           "accountant"
          ],
          [
           "architect"
          ],
          [
           "attorney"
          ],
          [
           "chiropractor"
          ],
          [
           "comedian"
          ],
          [
           "composer"
          ],
          [
           "dentist"
          ],
          [
           "dietitian"
          ],
          [
           "dj"
          ],
          [
           "filmmaker"
          ],
          [
           "interior_designer"
          ],
          [
           "journalist"
          ],
          [
           "model"
          ],
          [
           "nurse"
          ],
          [
           "painter"
          ],
          [
           "paralegal"
          ],
          [
           "pastor"
          ],
          [
           "personal_trainer"
          ],
          [
           "photographer"
          ],
          [
           "physician"
          ],
          [
           "poet"
          ],
          [
           "professor"
          ],
          [
           "psychologist"
          ],
          [
           "rapper"
          ],
          [
           "software_engineer"
          ],
          [
           "surgeon"
          ],
          [
           "teacher"
          ],
          [
           "yoga_teacher"
          ],
          [
           "accountant"
          ],
          [
           "architect"
          ],
          [
           "attorney"
          ],
          [
           "chiropractor"
          ],
          [
           "comedian"
          ],
          [
           "composer"
          ],
          [
           "dentist"
          ],
          [
           "dietitian"
          ],
          [
           "dj"
          ],
          [
           "filmmaker"
          ],
          [
           "interior_designer"
          ],
          [
           "journalist"
          ],
          [
           "model"
          ],
          [
           "nurse"
          ],
          [
           "painter"
          ],
          [
           "paralegal"
          ],
          [
           "pastor"
          ],
          [
           "personal_trainer"
          ],
          [
           "photographer"
          ],
          [
           "physician"
          ],
          [
           "poet"
          ],
          [
           "professor"
          ],
          [
           "psychologist"
          ],
          [
           "rapper"
          ],
          [
           "software_engineer"
          ],
          [
           "surgeon"
          ],
          [
           "teacher"
          ],
          [
           "yoga_teacher"
          ],
          [
           "accountant"
          ],
          [
           "architect"
          ],
          [
           "attorney"
          ],
          [
           "chiropractor"
          ],
          [
           "comedian"
          ],
          [
           "composer"
          ],
          [
           "dentist"
          ],
          [
           "dietitian"
          ],
          [
           "dj"
          ],
          [
           "filmmaker"
          ],
          [
           "interior_designer"
          ],
          [
           "journalist"
          ],
          [
           "model"
          ],
          [
           "nurse"
          ],
          [
           "painter"
          ],
          [
           "paralegal"
          ],
          [
           "pastor"
          ],
          [
           "personal_trainer"
          ],
          [
           "photographer"
          ],
          [
           "physician"
          ],
          [
           "poet"
          ],
          [
           "professor"
          ],
          [
           "psychologist"
          ],
          [
           "rapper"
          ],
          [
           "software_engineer"
          ],
          [
           "surgeon"
          ],
          [
           "teacher"
          ],
          [
           "yoga_teacher"
          ],
          [
           "accountant"
          ],
          [
           "architect"
          ],
          [
           "attorney"
          ],
          [
           "chiropractor"
          ],
          [
           "comedian"
          ],
          [
           "composer"
          ],
          [
           "dentist"
          ],
          [
           "dietitian"
          ],
          [
           "dj"
          ],
          [
           "filmmaker"
          ],
          [
           "interior_designer"
          ],
          [
           "journalist"
          ],
          [
           "model"
          ],
          [
           "nurse"
          ],
          [
           "painter"
          ],
          [
           "paralegal"
          ],
          [
           "pastor"
          ],
          [
           "personal_trainer"
          ],
          [
           "photographer"
          ],
          [
           "physician"
          ],
          [
           "poet"
          ],
          [
           "professor"
          ],
          [
           "psychologist"
          ],
          [
           "rapper"
          ],
          [
           "software_engineer"
          ],
          [
           "surgeon"
          ],
          [
           "teacher"
          ],
          [
           "yoga_teacher"
          ],
          [
           "accountant"
          ],
          [
           "architect"
          ],
          [
           "attorney"
          ],
          [
           "chiropractor"
          ],
          [
           "comedian"
          ],
          [
           "composer"
          ],
          [
           "dentist"
          ],
          [
           "dietitian"
          ],
          [
           "dj"
          ],
          [
           "filmmaker"
          ],
          [
           "interior_designer"
          ],
          [
           "journalist"
          ],
          [
           "model"
          ],
          [
           "nurse"
          ],
          [
           "painter"
          ],
          [
           "paralegal"
          ],
          [
           "pastor"
          ],
          [
           "personal_trainer"
          ],
          [
           "photographer"
          ],
          [
           "physician"
          ],
          [
           "poet"
          ],
          [
           "professor"
          ],
          [
           "psychologist"
          ],
          [
           "rapper"
          ],
          [
           "software_engineer"
          ],
          [
           "surgeon"
          ],
          [
           "teacher"
          ],
          [
           "yoga_teacher"
          ],
          [
           "accountant"
          ],
          [
           "architect"
          ],
          [
           "attorney"
          ],
          [
           "chiropractor"
          ],
          [
           "comedian"
          ],
          [
           "composer"
          ],
          [
           "dentist"
          ],
          [
           "dietitian"
          ],
          [
           "dj"
          ],
          [
           "filmmaker"
          ],
          [
           "interior_designer"
          ],
          [
           "journalist"
          ],
          [
           "model"
          ],
          [
           "nurse"
          ],
          [
           "painter"
          ],
          [
           "paralegal"
          ],
          [
           "pastor"
          ],
          [
           "personal_trainer"
          ],
          [
           "photographer"
          ],
          [
           "physician"
          ],
          [
           "poet"
          ],
          [
           "professor"
          ],
          [
           "psychologist"
          ],
          [
           "rapper"
          ],
          [
           "software_engineer"
          ],
          [
           "surgeon"
          ],
          [
           "teacher"
          ],
          [
           "yoga_teacher"
          ],
          [
           "accountant"
          ],
          [
           "architect"
          ],
          [
           "attorney"
          ],
          [
           "chiropractor"
          ],
          [
           "comedian"
          ],
          [
           "composer"
          ],
          [
           "dentist"
          ],
          [
           "dietitian"
          ],
          [
           "dj"
          ],
          [
           "filmmaker"
          ],
          [
           "interior_designer"
          ],
          [
           "journalist"
          ],
          [
           "model"
          ],
          [
           "nurse"
          ],
          [
           "painter"
          ],
          [
           "paralegal"
          ],
          [
           "pastor"
          ],
          [
           "personal_trainer"
          ],
          [
           "photographer"
          ],
          [
           "physician"
          ],
          [
           "poet"
          ],
          [
           "professor"
          ],
          [
           "psychologist"
          ],
          [
           "rapper"
          ],
          [
           "software_engineer"
          ],
          [
           "surgeon"
          ],
          [
           "teacher"
          ],
          [
           "yoga_teacher"
          ],
          [
           "accountant"
          ],
          [
           "architect"
          ],
          [
           "attorney"
          ],
          [
           "chiropractor"
          ],
          [
           "comedian"
          ],
          [
           "composer"
          ],
          [
           "dentist"
          ],
          [
           "dietitian"
          ],
          [
           "dj"
          ],
          [
           "filmmaker"
          ],
          [
           "interior_designer"
          ],
          [
           "journalist"
          ],
          [
           "model"
          ],
          [
           "nurse"
          ],
          [
           "painter"
          ],
          [
           "paralegal"
          ],
          [
           "pastor"
          ],
          [
           "personal_trainer"
          ],
          [
           "photographer"
          ],
          [
           "physician"
          ],
          [
           "poet"
          ],
          [
           "professor"
          ],
          [
           "psychologist"
          ],
          [
           "rapper"
          ],
          [
           "software_engineer"
          ],
          [
           "surgeon"
          ],
          [
           "teacher"
          ],
          [
           "yoga_teacher"
          ],
          [
           "accountant"
          ],
          [
           "architect"
          ],
          [
           "attorney"
          ],
          [
           "chiropractor"
          ],
          [
           "comedian"
          ],
          [
           "composer"
          ],
          [
           "dentist"
          ],
          [
           "dietitian"
          ],
          [
           "dj"
          ],
          [
           "filmmaker"
          ],
          [
           "interior_designer"
          ],
          [
           "journalist"
          ],
          [
           "model"
          ],
          [
           "nurse"
          ],
          [
           "painter"
          ],
          [
           "paralegal"
          ],
          [
           "pastor"
          ],
          [
           "personal_trainer"
          ],
          [
           "photographer"
          ],
          [
           "physician"
          ],
          [
           "poet"
          ],
          [
           "professor"
          ],
          [
           "psychologist"
          ],
          [
           "rapper"
          ],
          [
           "software_engineer"
          ],
          [
           "surgeon"
          ],
          [
           "teacher"
          ],
          [
           "yoga_teacher"
          ],
          [
           "accountant"
          ],
          [
           "architect"
          ],
          [
           "attorney"
          ],
          [
           "chiropractor"
          ],
          [
           "comedian"
          ],
          [
           "composer"
          ],
          [
           "dentist"
          ],
          [
           "dietitian"
          ],
          [
           "dj"
          ],
          [
           "filmmaker"
          ],
          [
           "interior_designer"
          ],
          [
           "journalist"
          ],
          [
           "model"
          ],
          [
           "nurse"
          ],
          [
           "painter"
          ],
          [
           "paralegal"
          ],
          [
           "pastor"
          ],
          [
           "personal_trainer"
          ],
          [
           "photographer"
          ],
          [
           "physician"
          ],
          [
           "poet"
          ],
          [
           "professor"
          ],
          [
           "psychologist"
          ],
          [
           "rapper"
          ],
          [
           "software_engineer"
          ],
          [
           "surgeon"
          ],
          [
           "teacher"
          ],
          [
           "yoga_teacher"
          ]
         ],
         "hovertemplate": "statistical_parity=%{x}<br>Method=%{y}<br>occupation=%{customdata[0]}<extra></extra>",
         "jitter": 0.3,
         "legendgroup": "",
         "marker": {
          "color": "#1F77B4"
         },
         "name": "",
         "notched": false,
         "offsetgroup": "",
         "orientation": "h",
         "pointpos": -2,
         "showlegend": false,
         "type": "box",
         "x": [
          -0.0004405502025182004,
          -0.0018136527283402332,
          -0.0010324581184129667,
          -0.00023068050594283332,
          -0.0009029832982659332,
          -0.0012496043310188333,
          -0.00018524944342671097,
          0.0006325016697016333,
          -0.0004978464851174333,
          -0.0009793282159480333,
          0.0006115403443147333,
          -0.0009333785418128333,
          0.0009664872867074667,
          0.0024440829448993335,
          -0.0005150500870929666,
          0.00031109863505353336,
          -0.0004278492571241667,
          0.00009642222809467603,
          -0.0015890797986098,
          -0.0037397919593697335,
          -0.00011127578603129156,
          -0.0004902912389395333,
          0.0007405626937546667,
          -0.0007099177999045334,
          -0.002502486787018733,
          -0.0011424685830333,
          0.0011779446446825664,
          0.0005543352906250001,
          -0.00017888885883787166,
          -0.0017593521506144335,
          -0.0016337789190536331,
          -0.00028459480478959997,
          -0.0007869053169882331,
          -0.0014819028815183002,
          -0.0003027588239884667,
          0.0004260660822857333,
          -0.0006997358885782,
          -0.0009136012540517333,
          0.0006001700282046333,
          -0.0009594732608626332,
          0.0011700086528925668,
          0.003041263961462934,
          -0.00041064068216913334,
          0.00014500313519421386,
          -0.00035198990754330004,
          0.000008972570499533316,
          -0.0012824760878481333,
          -0.0038097358303423663,
          -0.00017147989097759998,
          -0.0002895778901453,
          0.0010108853669962333,
          -0.00044861985013746664,
          -0.0022479813884573666,
          -0.0011396170892987,
          0.0007820972532602914,
          0.0008125619391631334,
          0.00017383379378328184,
          -0.001322950312062,
          -0.0009310688294578333,
          -0.00002423852663098678,
          -0.0007431045687068999,
          -0.0013350832432393,
          -0.00043967427605013336,
          0.0007418545714310999,
          -0.0004537356182758333,
          -0.0008211061507236668,
          0.0004013109919173,
          -0.0013925743759977333,
          0.0005886728701977334,
          0.001915567863335333,
          -0.0006750212367015333,
          0.00021246294737287198,
          -0.0003217274042456667,
          0.0001031529470368778,
          -0.0010127191393358998,
          -0.0033634565084225327,
          -0.0002777692624076,
          -0.0004562057804883667,
          0.0006139190341920333,
          -0.0005650036227497334,
          -0.0023614991733239333,
          -0.0011544704698244,
          0.0008337378477013334,
          0.0005974219270631333,
          -0.00038711220601590003,
          -0.0017213314607367667,
          -0.0010731148571817334,
          -0.00023519820909099167,
          -0.0005902724043889,
          -0.0012121502878933998,
          -0.0004012694130508,
          0.0005095389530398333,
          -0.0007533949825919,
          -0.0009556064884504666,
          0.00041864800080709997,
          -0.0013855771190299333,
          0.0008826180401301666,
          0.0026234666371887996,
          -0.0006145604535897999,
          0.00034355152584916666,
          -0.00036654836445466666,
          0.000005873729242168899,
          -0.002044251006716967,
          -0.0031144121250317003,
          -0.00022168746703203775,
          -0.0003820531326014333,
          0.0005940588315689,
          -0.00047041945240549997,
          -0.0018568317221931668,
          -0.0011518083354089,
          0.0005883303743719,
          0.0005704631407298334,
          -0.00005647103553499069,
          -0.00038302272817794877,
          -0.0009161205856090334,
          -0.00015744135815357898,
          -0.000170752146406762,
          -0.0012685761623496001,
          -0.0003903122383540135,
          0.0003055574088325,
          -0.0004856030497609,
          -0.0007343463600886,
          -0.00005051034603915632,
          -0.0018384594617769333,
          -0.00013616258629495597,
          0.0009854130011198333,
          -0.0007965530562845332,
          0.000027036381957156526,
          -0.00014528880639324773,
          0.0002601019569578667,
          -0.00008325364835810784,
          -0.002705069419213467,
          -0.00028148910816586667,
          -0.0003943310959168333,
          0.00015926698027770558,
          -0.0005185453373495333,
          -0.0011222600348156332,
          -0.00043471347699860005,
          0.0004663453206418666,
          0.00047882826424573336,
          -0.00031988155147186665,
          -0.0016456879509161668,
          -0.0009227010598416,
          0.00008593882752599723,
          -0.0006177579702567666,
          -0.001250444431555,
          -0.0002872766640544667,
          0.0005006623403144666,
          -0.0004339006054337,
          -0.0010576033720525334,
          0.0002678325301147,
          -0.0009005153589386333,
          0.00045576390190983336,
          0.002286514574554833,
          -0.0007357792894629667,
          0.00030145520419406666,
          -0.0003191039833024333,
          0.00008466960534017805,
          -0.0008507577309879999,
          -0.0035916742085933665,
          -0.00018553955203446664,
          -0.00051980500428,
          0.0003116217690921188,
          -0.0006115513285371,
          -0.0020913195185250336,
          -0.0009138144662027666,
          0.0014844236434106664,
          0.0004721939802749667,
          0.00023277562422881876,
          -0.00009203411943751203,
          -0.0002027067706028493,
          0.0001516947442998108,
          0.000023361747654535747,
          -0.0012454038283382333,
          -0.00034399495433243336,
          0.0003005693146592667,
          -0.0006889455656707333,
          -0.0009497503296002331,
          -0.00015259517234436667,
          -0.0015599525512849665,
          -0.00029370163910596666,
          0.00034663603658962406,
          -0.0011704607535174,
          -0.00011748246942209307,
          -0.000044229434767962395,
          0.0005553572406018667,
          0.0003198895658216397,
          -0.0036944072855706997,
          -0.0008346957272013333,
          -0.0008097332178979333,
          0.0007614227846532333,
          -0.00035302303924710003,
          -0.0010877061834492,
          -0.0005270361386302522,
          0.00017185644318926671,
          0.00038358307568553336,
          -0.00037888125998880004,
          -0.0015159503011937334,
          -0.0009774300590363666,
          -0.00028913300148003334,
          -0.0010367410473953,
          -0.0013413278149138,
          -0.0004811884906143333,
          0.0005007423480705666,
          -0.0006283854435757667,
          -0.0010131182080218,
          0.00019945310807227613,
          -0.0010533988428068,
          0.0007295548761560667,
          0.0023028544679069003,
          -0.00046493477795466674,
          0.00031563400473826666,
          -0.00033920504482076665,
          0.000005126445389720807,
          -0.0007745148401266666,
          -0.002595036962519067,
          -0.0003420512938703667,
          -0.00037674497041916666,
          0.00038899211311607955,
          -0.0008315726323096,
          -0.0023602331762559996,
          -0.0010419255949932333,
          0.0009987275301013,
          0.0006232080330334666,
          0.00005958903843613153,
          -0.00021087922379141693,
          -0.0005349049567672334,
          0.00008703354763945296,
          -0.00008826875833243586,
          -0.0010024220871764332,
          -0.0003078202850065666,
          0.00009218946796732175,
          -0.0004947532480523666,
          -0.00046393830052873336,
          -0.00028210617307243335,
          -0.0020948012677117,
          -0.00016883957565856024,
          0.0003944368120668666,
          -0.0008663103638200999,
          -0.00001299019292555161,
          -0.00004323172665335466,
          0.00010309809411310775,
          0.00023949563054434018,
          -0.0035806759271985334,
          -0.0010377543767391,
          -0.0008592312167584334,
          0.0006979824767376448,
          -0.0003655904399249,
          -0.001163464778058,
          -0.00024391404988972185,
          0.0005155851745458666,
          0.0003635517434138,
          0.00003291551581250976,
          -0.00081617444575958,
          -0.0011533674926675667,
          -0.000042926110627339194,
          -0.0002108561240074333,
          -0.0014086749963396334,
          -0.0004321691350285334,
          0.0005869241539995332,
          -0.00029532403151556665,
          -0.0008932557557724,
          0.00001221492028397897,
          -0.0011193194059612333,
          0.000012717849173413858,
          0.0016830855342671999,
          -0.0006999066853557334,
          0.00007424076478697811,
          -0.00014004196450684287,
          0.00025529430057056663,
          -0.00015086400023799434,
          -0.0029748856719590665,
          -0.00023401001269005817,
          -0.0005556508240776334,
          0.0006210332186601333,
          -0.00047670315274439995,
          -0.0015856105185781332,
          -0.0009568040654361999,
          0.0007514028144232666,
          0.00043242448582223335
         ],
         "x0": " ",
         "xaxis": "x",
         "y": [
          "Baseline",
          "Baseline",
          "Baseline",
          "Baseline",
          "Baseline",
          "Baseline",
          "Baseline",
          "Baseline",
          "Baseline",
          "Baseline",
          "Baseline",
          "Baseline",
          "Baseline",
          "Baseline",
          "Baseline",
          "Baseline",
          "Baseline",
          "Baseline",
          "Baseline",
          "Baseline",
          "Baseline",
          "Baseline",
          "Baseline",
          "Baseline",
          "Baseline",
          "Baseline",
          "Baseline",
          "Baseline",
          "Zari",
          "Zari",
          "Zari",
          "Zari",
          "Zari",
          "Zari",
          "Zari",
          "Zari",
          "Zari",
          "Zari",
          "Zari",
          "Zari",
          "Zari",
          "Zari",
          "Zari",
          "Zari",
          "Zari",
          "Zari",
          "Zari",
          "Zari",
          "Zari",
          "Zari",
          "Zari",
          "Zari",
          "Zari",
          "Zari",
          "Zari",
          "Zari",
          "CDA",
          "CDA",
          "CDA",
          "CDA",
          "CDA",
          "CDA",
          "CDA",
          "CDA",
          "CDA",
          "CDA",
          "CDA",
          "CDA",
          "CDA",
          "CDA",
          "CDA",
          "CDA",
          "CDA",
          "CDA",
          "CDA",
          "CDA",
          "CDA",
          "CDA",
          "CDA",
          "CDA",
          "CDA",
          "CDA",
          "CDA",
          "CDA",
          "Zari w/ CDA",
          "Zari w/ CDA",
          "Zari w/ CDA",
          "Zari w/ CDA",
          "Zari w/ CDA",
          "Zari w/ CDA",
          "Zari w/ CDA",
          "Zari w/ CDA",
          "Zari w/ CDA",
          "Zari w/ CDA",
          "Zari w/ CDA",
          "Zari w/ CDA",
          "Zari w/ CDA",
          "Zari w/ CDA",
          "Zari w/ CDA",
          "Zari w/ CDA",
          "Zari w/ CDA",
          "Zari w/ CDA",
          "Zari w/ CDA",
          "Zari w/ CDA",
          "Zari w/ CDA",
          "Zari w/ CDA",
          "Zari w/ CDA",
          "Zari w/ CDA",
          "Zari w/ CDA",
          "Zari w/ CDA",
          "Zari w/ CDA",
          "Zari w/ CDA",
          "Reweight",
          "Reweight",
          "Reweight",
          "Reweight",
          "Reweight",
          "Reweight",
          "Reweight",
          "Reweight",
          "Reweight",
          "Reweight",
          "Reweight",
          "Reweight",
          "Reweight",
          "Reweight",
          "Reweight",
          "Reweight",
          "Reweight",
          "Reweight",
          "Reweight",
          "Reweight",
          "Reweight",
          "Reweight",
          "Reweight",
          "Reweight",
          "Reweight",
          "Reweight",
          "Reweight",
          "Reweight",
          "Oversampling",
          "Oversampling",
          "Oversampling",
          "Oversampling",
          "Oversampling",
          "Oversampling",
          "Oversampling",
          "Oversampling",
          "Oversampling",
          "Oversampling",
          "Oversampling",
          "Oversampling",
          "Oversampling",
          "Oversampling",
          "Oversampling",
          "Oversampling",
          "Oversampling",
          "Oversampling",
          "Oversampling",
          "Oversampling",
          "Oversampling",
          "Oversampling",
          "Oversampling",
          "Oversampling",
          "Oversampling",
          "Oversampling",
          "Oversampling",
          "Oversampling",
          "Undersampling",
          "Undersampling",
          "Undersampling",
          "Undersampling",
          "Undersampling",
          "Undersampling",
          "Undersampling",
          "Undersampling",
          "Undersampling",
          "Undersampling",
          "Undersampling",
          "Undersampling",
          "Undersampling",
          "Undersampling",
          "Undersampling",
          "Undersampling",
          "Undersampling",
          "Undersampling",
          "Undersampling",
          "Undersampling",
          "Undersampling",
          "Undersampling",
          "Undersampling",
          "Undersampling",
          "Undersampling",
          "Undersampling",
          "Undersampling",
          "Undersampling",
          "Oversampling w/ CDA",
          "Oversampling w/ CDA",
          "Oversampling w/ CDA",
          "Oversampling w/ CDA",
          "Oversampling w/ CDA",
          "Oversampling w/ CDA",
          "Oversampling w/ CDA",
          "Oversampling w/ CDA",
          "Oversampling w/ CDA",
          "Oversampling w/ CDA",
          "Oversampling w/ CDA",
          "Oversampling w/ CDA",
          "Oversampling w/ CDA",
          "Oversampling w/ CDA",
          "Oversampling w/ CDA",
          "Oversampling w/ CDA",
          "Oversampling w/ CDA",
          "Oversampling w/ CDA",
          "Oversampling w/ CDA",
          "Oversampling w/ CDA",
          "Oversampling w/ CDA",
          "Oversampling w/ CDA",
          "Oversampling w/ CDA",
          "Oversampling w/ CDA",
          "Oversampling w/ CDA",
          "Oversampling w/ CDA",
          "Oversampling w/ CDA",
          "Oversampling w/ CDA",
          "Undersampling w/ CDA",
          "Undersampling w/ CDA",
          "Undersampling w/ CDA",
          "Undersampling w/ CDA",
          "Undersampling w/ CDA",
          "Undersampling w/ CDA",
          "Undersampling w/ CDA",
          "Undersampling w/ CDA",
          "Undersampling w/ CDA",
          "Undersampling w/ CDA",
          "Undersampling w/ CDA",
          "Undersampling w/ CDA",
          "Undersampling w/ CDA",
          "Undersampling w/ CDA",
          "Undersampling w/ CDA",
          "Undersampling w/ CDA",
          "Undersampling w/ CDA",
          "Undersampling w/ CDA",
          "Undersampling w/ CDA",
          "Undersampling w/ CDA",
          "Undersampling w/ CDA",
          "Undersampling w/ CDA",
          "Undersampling w/ CDA",
          "Undersampling w/ CDA",
          "Undersampling w/ CDA",
          "Undersampling w/ CDA",
          "Undersampling w/ CDA",
          "Undersampling w/ CDA",
          "Reweight w/ CDA",
          "Reweight w/ CDA",
          "Reweight w/ CDA",
          "Reweight w/ CDA",
          "Reweight w/ CDA",
          "Reweight w/ CDA",
          "Reweight w/ CDA",
          "Reweight w/ CDA",
          "Reweight w/ CDA",
          "Reweight w/ CDA",
          "Reweight w/ CDA",
          "Reweight w/ CDA",
          "Reweight w/ CDA",
          "Reweight w/ CDA",
          "Reweight w/ CDA",
          "Reweight w/ CDA",
          "Reweight w/ CDA",
          "Reweight w/ CDA",
          "Reweight w/ CDA",
          "Reweight w/ CDA",
          "Reweight w/ CDA",
          "Reweight w/ CDA",
          "Reweight w/ CDA",
          "Reweight w/ CDA",
          "Reweight w/ CDA",
          "Reweight w/ CDA",
          "Reweight w/ CDA",
          "Reweight w/ CDA"
         ],
         "y0": " ",
         "yaxis": "y"
        },
        {
         "alignmentgroup": "True",
         "boxpoints": "all",
         "customdata": [
          [
           "accountant"
          ],
          [
           "architect"
          ],
          [
           "attorney"
          ],
          [
           "chiropractor"
          ],
          [
           "comedian"
          ],
          [
           "composer"
          ],
          [
           "dentist"
          ],
          [
           "dietitian"
          ],
          [
           "dj"
          ],
          [
           "filmmaker"
          ],
          [
           "interior_designer"
          ],
          [
           "journalist"
          ],
          [
           "model"
          ],
          [
           "nurse"
          ],
          [
           "painter"
          ],
          [
           "paralegal"
          ],
          [
           "pastor"
          ],
          [
           "personal_trainer"
          ],
          [
           "photographer"
          ],
          [
           "physician"
          ],
          [
           "poet"
          ],
          [
           "professor"
          ],
          [
           "psychologist"
          ],
          [
           "rapper"
          ],
          [
           "software_engineer"
          ],
          [
           "surgeon"
          ],
          [
           "teacher"
          ],
          [
           "yoga_teacher"
          ],
          [
           "accountant"
          ],
          [
           "architect"
          ],
          [
           "attorney"
          ],
          [
           "chiropractor"
          ],
          [
           "comedian"
          ],
          [
           "composer"
          ],
          [
           "dentist"
          ],
          [
           "dietitian"
          ],
          [
           "dj"
          ],
          [
           "filmmaker"
          ],
          [
           "interior_designer"
          ],
          [
           "journalist"
          ],
          [
           "model"
          ],
          [
           "nurse"
          ],
          [
           "painter"
          ],
          [
           "paralegal"
          ],
          [
           "pastor"
          ],
          [
           "personal_trainer"
          ],
          [
           "photographer"
          ],
          [
           "physician"
          ],
          [
           "poet"
          ],
          [
           "professor"
          ],
          [
           "psychologist"
          ],
          [
           "rapper"
          ],
          [
           "software_engineer"
          ],
          [
           "surgeon"
          ],
          [
           "teacher"
          ],
          [
           "yoga_teacher"
          ],
          [
           "accountant"
          ],
          [
           "architect"
          ],
          [
           "attorney"
          ],
          [
           "chiropractor"
          ],
          [
           "comedian"
          ],
          [
           "composer"
          ],
          [
           "dentist"
          ],
          [
           "dietitian"
          ],
          [
           "dj"
          ],
          [
           "filmmaker"
          ],
          [
           "interior_designer"
          ],
          [
           "journalist"
          ],
          [
           "model"
          ],
          [
           "nurse"
          ],
          [
           "painter"
          ],
          [
           "paralegal"
          ],
          [
           "pastor"
          ],
          [
           "personal_trainer"
          ],
          [
           "photographer"
          ],
          [
           "physician"
          ],
          [
           "poet"
          ],
          [
           "professor"
          ],
          [
           "psychologist"
          ],
          [
           "rapper"
          ],
          [
           "software_engineer"
          ],
          [
           "surgeon"
          ],
          [
           "teacher"
          ],
          [
           "yoga_teacher"
          ],
          [
           "accountant"
          ],
          [
           "architect"
          ],
          [
           "attorney"
          ],
          [
           "chiropractor"
          ],
          [
           "comedian"
          ],
          [
           "composer"
          ],
          [
           "dentist"
          ],
          [
           "dietitian"
          ],
          [
           "dj"
          ],
          [
           "filmmaker"
          ],
          [
           "interior_designer"
          ],
          [
           "journalist"
          ],
          [
           "model"
          ],
          [
           "nurse"
          ],
          [
           "painter"
          ],
          [
           "paralegal"
          ],
          [
           "pastor"
          ],
          [
           "personal_trainer"
          ],
          [
           "photographer"
          ],
          [
           "physician"
          ],
          [
           "poet"
          ],
          [
           "professor"
          ],
          [
           "psychologist"
          ],
          [
           "rapper"
          ],
          [
           "software_engineer"
          ],
          [
           "surgeon"
          ],
          [
           "teacher"
          ],
          [
           "yoga_teacher"
          ],
          [
           "accountant"
          ],
          [
           "architect"
          ],
          [
           "attorney"
          ],
          [
           "chiropractor"
          ],
          [
           "comedian"
          ],
          [
           "composer"
          ],
          [
           "dentist"
          ],
          [
           "dietitian"
          ],
          [
           "dj"
          ],
          [
           "filmmaker"
          ],
          [
           "interior_designer"
          ],
          [
           "journalist"
          ],
          [
           "model"
          ],
          [
           "nurse"
          ],
          [
           "painter"
          ],
          [
           "paralegal"
          ],
          [
           "pastor"
          ],
          [
           "personal_trainer"
          ],
          [
           "photographer"
          ],
          [
           "physician"
          ],
          [
           "poet"
          ],
          [
           "professor"
          ],
          [
           "psychologist"
          ],
          [
           "rapper"
          ],
          [
           "software_engineer"
          ],
          [
           "surgeon"
          ],
          [
           "teacher"
          ],
          [
           "yoga_teacher"
          ],
          [
           "accountant"
          ],
          [
           "architect"
          ],
          [
           "attorney"
          ],
          [
           "chiropractor"
          ],
          [
           "comedian"
          ],
          [
           "composer"
          ],
          [
           "dentist"
          ],
          [
           "dietitian"
          ],
          [
           "dj"
          ],
          [
           "filmmaker"
          ],
          [
           "interior_designer"
          ],
          [
           "journalist"
          ],
          [
           "model"
          ],
          [
           "nurse"
          ],
          [
           "painter"
          ],
          [
           "paralegal"
          ],
          [
           "pastor"
          ],
          [
           "personal_trainer"
          ],
          [
           "photographer"
          ],
          [
           "physician"
          ],
          [
           "poet"
          ],
          [
           "professor"
          ],
          [
           "psychologist"
          ],
          [
           "rapper"
          ],
          [
           "software_engineer"
          ],
          [
           "surgeon"
          ],
          [
           "teacher"
          ],
          [
           "yoga_teacher"
          ],
          [
           "accountant"
          ],
          [
           "architect"
          ],
          [
           "attorney"
          ],
          [
           "chiropractor"
          ],
          [
           "comedian"
          ],
          [
           "composer"
          ],
          [
           "dentist"
          ],
          [
           "dietitian"
          ],
          [
           "dj"
          ],
          [
           "filmmaker"
          ],
          [
           "interior_designer"
          ],
          [
           "journalist"
          ],
          [
           "model"
          ],
          [
           "nurse"
          ],
          [
           "painter"
          ],
          [
           "paralegal"
          ],
          [
           "pastor"
          ],
          [
           "personal_trainer"
          ],
          [
           "photographer"
          ],
          [
           "physician"
          ],
          [
           "poet"
          ],
          [
           "professor"
          ],
          [
           "psychologist"
          ],
          [
           "rapper"
          ],
          [
           "software_engineer"
          ],
          [
           "surgeon"
          ],
          [
           "teacher"
          ],
          [
           "yoga_teacher"
          ],
          [
           "accountant"
          ],
          [
           "architect"
          ],
          [
           "attorney"
          ],
          [
           "chiropractor"
          ],
          [
           "comedian"
          ],
          [
           "composer"
          ],
          [
           "dentist"
          ],
          [
           "dietitian"
          ],
          [
           "dj"
          ],
          [
           "filmmaker"
          ],
          [
           "interior_designer"
          ],
          [
           "journalist"
          ],
          [
           "model"
          ],
          [
           "nurse"
          ],
          [
           "painter"
          ],
          [
           "paralegal"
          ],
          [
           "pastor"
          ],
          [
           "personal_trainer"
          ],
          [
           "photographer"
          ],
          [
           "physician"
          ],
          [
           "poet"
          ],
          [
           "professor"
          ],
          [
           "psychologist"
          ],
          [
           "rapper"
          ],
          [
           "software_engineer"
          ],
          [
           "surgeon"
          ],
          [
           "teacher"
          ],
          [
           "yoga_teacher"
          ],
          [
           "accountant"
          ],
          [
           "architect"
          ],
          [
           "attorney"
          ],
          [
           "chiropractor"
          ],
          [
           "comedian"
          ],
          [
           "composer"
          ],
          [
           "dentist"
          ],
          [
           "dietitian"
          ],
          [
           "dj"
          ],
          [
           "filmmaker"
          ],
          [
           "interior_designer"
          ],
          [
           "journalist"
          ],
          [
           "model"
          ],
          [
           "nurse"
          ],
          [
           "painter"
          ],
          [
           "paralegal"
          ],
          [
           "pastor"
          ],
          [
           "personal_trainer"
          ],
          [
           "photographer"
          ],
          [
           "physician"
          ],
          [
           "poet"
          ],
          [
           "professor"
          ],
          [
           "psychologist"
          ],
          [
           "rapper"
          ],
          [
           "software_engineer"
          ],
          [
           "surgeon"
          ],
          [
           "teacher"
          ],
          [
           "yoga_teacher"
          ],
          [
           "accountant"
          ],
          [
           "architect"
          ],
          [
           "attorney"
          ],
          [
           "chiropractor"
          ],
          [
           "comedian"
          ],
          [
           "composer"
          ],
          [
           "dentist"
          ],
          [
           "dietitian"
          ],
          [
           "dj"
          ],
          [
           "filmmaker"
          ],
          [
           "interior_designer"
          ],
          [
           "journalist"
          ],
          [
           "model"
          ],
          [
           "nurse"
          ],
          [
           "painter"
          ],
          [
           "paralegal"
          ],
          [
           "pastor"
          ],
          [
           "personal_trainer"
          ],
          [
           "photographer"
          ],
          [
           "physician"
          ],
          [
           "poet"
          ],
          [
           "professor"
          ],
          [
           "psychologist"
          ],
          [
           "rapper"
          ],
          [
           "software_engineer"
          ],
          [
           "surgeon"
          ],
          [
           "teacher"
          ],
          [
           "yoga_teacher"
          ]
         ],
         "hovertemplate": "causal_parity=%{x}<br>Method=%{y}<br>occupation=%{customdata[0]}<extra></extra>",
         "jitter": 0.3,
         "legendgroup": "",
         "marker": {
          "color": "#1F77B4"
         },
         "name": "",
         "notched": false,
         "offsetgroup": "",
         "orientation": "h",
         "pointpos": -2,
         "showlegend": false,
         "type": "box",
         "x": [
          -0.00010661054137517158,
          -0.0009115167708648001,
          -0.00016631555604830822,
          -0.00008530385232195819,
          -0.0006076744503618333,
          -0.00011691200995814285,
          0.000010557320974229582,
          0.0001335456366531,
          -0.00004763460177472916,
          -0.00030024744530833335,
          0.000520546267377,
          0.0006462993115662,
          0.0008569690938242668,
          0.0012571493692884667,
          0.000010372905969607387,
          0.00016684031679223334,
          -0.00021493050580306667,
          -0.00006463838227139275,
          -0.0010369471120842,
          -0.0005599524979894,
          0.00007592464134232816,
          0.00008719409405333128,
          0.00014219643726823302,
          -0.0002313208420078,
          -0.0005313294622186334,
          -0.00034378365484116666,
          0.0007141089546434332,
          0.00005106000571872063,
          -0.00016507438664543333,
          -0.0009289121290874,
          -0.0002217540747311,
          -0.00005118231139318251,
          -0.0007647139150621001,
          -0.00019943813463443332,
          -0.00003167196292268874,
          0.0001198486482784289,
          -0.0001429038053241601,
          -0.00031060080549136666,
          0.0006532345316103667,
          0.0010569314708486334,
          0.0009675457510918999,
          0.0019159953560260665,
          0.0002005428487457394,
          0.00017705503006523333,
          -0.0002592812450957667,
          -0.000132678784662294,
          -0.0013874135576318,
          -0.0010372274459401335,
          -0.00004831568085421407,
          0.00005812939603557519,
          0.00042658931180473335,
          -0.00021091017947769998,
          -0.0005899827145414666,
          -0.00039991159848870003,
          0.0003676600558559999,
          0.00010212001143738825,
          -0.000010317149165342633,
          0.000024353501511656627,
          -0.00001108770373655616,
          -0.000003412154092878835,
          0.0000034139014065273787,
          0.000006877177056361905,
          0.00000703821398281972,
          0,
          0,
          0.000010353360183047408,
          -0.000017011315927354878,
          -0.000057131430856671446,
          0.000006911041079228172,
          -0.0000035613296580411234,
          0.000013830541292809845,
          -0.000013619617697331233,
          0.000006823190660416623,
          -0.000003402020119546987,
          -0.00003251750525699668,
          0,
          0,
          -0.000009688232672595865,
          -0.0000071098218634132135,
          0.000006803554176701909,
          0.00001725095656554156,
          -0.000010523989433914614,
          -0.00003535192844769682,
          0.000010212001143744128,
          0.000017195248608904392,
          0.00003131164480070138,
          -0.00004065491370070592,
          -0.000003412154092878836,
          0.000023897309845691657,
          -0.00001375435411272381,
          -0.00000351910699140986,
          -0.000010272741281010839,
          -0.0000034024715553377975,
          0,
          0.00002041357911282585,
          -0.00005356071642814294,
          0.000013822082158456353,
          0.0000035613296580411306,
          0.00001728817661601231,
          0.000010214713272998425,
          -0.000010234785990624938,
          -0.000013608080478187947,
          -0.00005058278595529889,
          -0.000015032281825219658,
          -0.000017255600305079012,
          0.000009688232672595865,
          0.000010664732795119821,
          -0.000013607108353403819,
          0.000003450191313108312,
          0.00002455597534580075,
          0.000038887121292466504,
          -0.000010212001143744128,
          0.000048146696104932285,
          -0.0000834977194685128,
          -0.00012196474110206027,
          -0.000020472924557273006,
          -0.00004096681687832142,
          -0.00006533318203543811,
          -0.0000175955349570493,
          -0.0000068484941873405605,
          0.000020414829332026784,
          -0.00005176680091523704,
          0.000013609052741883902,
          0.000053560716428138117,
          0.00010712113672800615,
          0.00030983568024953336,
          -0.00010027142437286288,
          0.000051073566364964046,
          -0.00008528988325517473,
          0.000027216160956375894,
          -0.00003613056139666298,
          -0.00017662931144630002,
          0.000010353360183047408,
          0.00003390881435408553,
          -0.00011731206074628619,
          0.000027214216706807637,
          0.000058653252322841294,
          -0.0000385879612576869,
          0.000017675964223848415,
          0.000020424002287488256,
          -0.00015819628720186175,
          -0.0006471073258811,
          -0.00018109916103036485,
          -0.00004094584911454601,
          -0.0003277345350266,
          -0.00013410495259903333,
          4.517509052022935e-21,
          0.00010272741281008391,
          -0.00005443954488539344,
          -0.00017600712311176668,
          0.0002755833180231,
          0.0007070014568514334,
          0.0005079615193232333,
          0.0011966067651017667,
          0.000027661082585617224,
          0.0002042942654599,
          -0.0001637565758499,
          -0.000017010100597734934,
          -0.0007189981717935333,
          -0.0006050493434650333,
          -0.00003106008054911926,
          0.00008234997771704806,
          0.0000710982186340997,
          -0.0001292675293572919,
          -0.00032431798343213333,
          -0.00024205175697996666,
          0.0005762364336974,
          0.000030636003431232386,
          0.0000653419447137956,
          0.000038269788089746134,
          0.00013305244483864976,
          0.000047770157300291,
          0.000023897309845691654,
          0.000010315765584542858,
          -0.00003167196292268874,
          -0.000013696988374681118,
          0.000006804943110675595,
          -0.000017255600305056044,
          -0.000023815842298296823,
          0.0002285257234266857,
          -0.00006911041079227421,
          0,
          -0.00006915270646401723,
          -0.00002383433097032966,
          -1.1293772630057337e-21,
          -0.000006804040239093974,
          -0.000025291392977665192,
          -0.0003156779183295667,
          -0.000055217920976252845,
          -1.1293772630057337e-21,
          -0.000039104020248739944,
          0.0000034017770883509546,
          0.00003795210444419143,
          -0.00012628787320695766,
          -0.0000035351928447604686,
          0.000017020001906240214,
          0.00004470764638316174,
          0.00002783257315618858,
          0.00006652622241932103,
          0.00003412154092879999,
          0.0000375529154718,
          0.00004814023939452857,
          0.00004222928389689999,
          0.00003081822384303694,
          0.00003402471555339554,
          0.00003796232067114197,
          0.00004422942141110432,
          0.000010712143285642815,
          0.000041466246475366666,
          0.000021367977948248922,
          0.00003111871790883333,
          0.000027239235394666668,
          0.00003752754863229169,
          0.000034020201195486354,
          0.00006142195437430184,
          0.00004885491593197649,
          0.00003106008054913506,
          0.00003875293069036668,
          0.00003910402024876667,
          0.00003741954797186666,
          0.00004830267838351663,
          0.00005261994716956255,
          -1.8088106244299833e-17,
          0.000037444004193733335,
          -0.00006190289499204755,
          -0.00006610236124591096,
          -0.00007761392615586027,
          -0.00006824308185756084,
          -0.00006145022531747262,
          -0.00006189459350724762,
          -0.00007038213982818639,
          -0.00005478795349869639,
          -0.00006464695955141339,
          -0.00005176680091521579,
          -0.00006124073733847098,
          -0.00005713143085668574,
          -0.00004146624647533849,
          -0.00006766526350275672,
          -0.00005532216517120739,
          -0.0000749078973352979,
          -0.00006140871594374165,
          -0.00005783434203228033,
          -0.00005058278595530111,
          -0.00007516140912607158,
          -0.00004831568085421752,
          -0.00009688232672592714,
          -0.00005332366397558019,
          -0.00005102665632524713,
          -0.00006555363494904996,
          -0.00003858796125768539,
          -0.00006716866405061206,
          -0.00005786800648119609,
          -0.00007909814360093719,
          -0.00006262328960140275,
          -0.00007761392615585206,
          -0.00007506739004331269,
          -0.00007169192953706784,
          -0.00006877177056359524,
          -0.00005982481885396762,
          -0.0000650606947797289,
          -0.00007145190266207798,
          -0.00006212016109828445,
          -0.00006464300052394853,
          -0.00008212643185646196,
          -0.000055288328633817855,
          -0.00007834925247688573,
          -0.0000656950711408197,
          -0.00007831280175959896,
          -0.00007164350193437456,
          -0.00007144242251048352,
          -0.00006503501051399337,
          -0.0000751614091260874,
          -0.00006557128115927556,
          -0.00010172644306223127,
          -0.0000782080404975126,
          -0.00007143731885535096,
          -0.00006900382626214978,
          -0.00006665193308143896,
          -0.00007777424258493301,
          -0.00007148400800619514
         ],
         "x0": " ",
         "xaxis": "x2",
         "y": [
          "Baseline",
          "Baseline",
          "Baseline",
          "Baseline",
          "Baseline",
          "Baseline",
          "Baseline",
          "Baseline",
          "Baseline",
          "Baseline",
          "Baseline",
          "Baseline",
          "Baseline",
          "Baseline",
          "Baseline",
          "Baseline",
          "Baseline",
          "Baseline",
          "Baseline",
          "Baseline",
          "Baseline",
          "Baseline",
          "Baseline",
          "Baseline",
          "Baseline",
          "Baseline",
          "Baseline",
          "Baseline",
          "Zari",
          "Zari",
          "Zari",
          "Zari",
          "Zari",
          "Zari",
          "Zari",
          "Zari",
          "Zari",
          "Zari",
          "Zari",
          "Zari",
          "Zari",
          "Zari",
          "Zari",
          "Zari",
          "Zari",
          "Zari",
          "Zari",
          "Zari",
          "Zari",
          "Zari",
          "Zari",
          "Zari",
          "Zari",
          "Zari",
          "Zari",
          "Zari",
          "CDA",
          "CDA",
          "CDA",
          "CDA",
          "CDA",
          "CDA",
          "CDA",
          "CDA",
          "CDA",
          "CDA",
          "CDA",
          "CDA",
          "CDA",
          "CDA",
          "CDA",
          "CDA",
          "CDA",
          "CDA",
          "CDA",
          "CDA",
          "CDA",
          "CDA",
          "CDA",
          "CDA",
          "CDA",
          "CDA",
          "CDA",
          "CDA",
          "Zari w/ CDA",
          "Zari w/ CDA",
          "Zari w/ CDA",
          "Zari w/ CDA",
          "Zari w/ CDA",
          "Zari w/ CDA",
          "Zari w/ CDA",
          "Zari w/ CDA",
          "Zari w/ CDA",
          "Zari w/ CDA",
          "Zari w/ CDA",
          "Zari w/ CDA",
          "Zari w/ CDA",
          "Zari w/ CDA",
          "Zari w/ CDA",
          "Zari w/ CDA",
          "Zari w/ CDA",
          "Zari w/ CDA",
          "Zari w/ CDA",
          "Zari w/ CDA",
          "Zari w/ CDA",
          "Zari w/ CDA",
          "Zari w/ CDA",
          "Zari w/ CDA",
          "Zari w/ CDA",
          "Zari w/ CDA",
          "Zari w/ CDA",
          "Zari w/ CDA",
          "Reweight",
          "Reweight",
          "Reweight",
          "Reweight",
          "Reweight",
          "Reweight",
          "Reweight",
          "Reweight",
          "Reweight",
          "Reweight",
          "Reweight",
          "Reweight",
          "Reweight",
          "Reweight",
          "Reweight",
          "Reweight",
          "Reweight",
          "Reweight",
          "Reweight",
          "Reweight",
          "Reweight",
          "Reweight",
          "Reweight",
          "Reweight",
          "Reweight",
          "Reweight",
          "Reweight",
          "Reweight",
          "Oversampling",
          "Oversampling",
          "Oversampling",
          "Oversampling",
          "Oversampling",
          "Oversampling",
          "Oversampling",
          "Oversampling",
          "Oversampling",
          "Oversampling",
          "Oversampling",
          "Oversampling",
          "Oversampling",
          "Oversampling",
          "Oversampling",
          "Oversampling",
          "Oversampling",
          "Oversampling",
          "Oversampling",
          "Oversampling",
          "Oversampling",
          "Oversampling",
          "Oversampling",
          "Oversampling",
          "Oversampling",
          "Oversampling",
          "Oversampling",
          "Oversampling",
          "Undersampling",
          "Undersampling",
          "Undersampling",
          "Undersampling",
          "Undersampling",
          "Undersampling",
          "Undersampling",
          "Undersampling",
          "Undersampling",
          "Undersampling",
          "Undersampling",
          "Undersampling",
          "Undersampling",
          "Undersampling",
          "Undersampling",
          "Undersampling",
          "Undersampling",
          "Undersampling",
          "Undersampling",
          "Undersampling",
          "Undersampling",
          "Undersampling",
          "Undersampling",
          "Undersampling",
          "Undersampling",
          "Undersampling",
          "Undersampling",
          "Undersampling",
          "Oversampling w/ CDA",
          "Oversampling w/ CDA",
          "Oversampling w/ CDA",
          "Oversampling w/ CDA",
          "Oversampling w/ CDA",
          "Oversampling w/ CDA",
          "Oversampling w/ CDA",
          "Oversampling w/ CDA",
          "Oversampling w/ CDA",
          "Oversampling w/ CDA",
          "Oversampling w/ CDA",
          "Oversampling w/ CDA",
          "Oversampling w/ CDA",
          "Oversampling w/ CDA",
          "Oversampling w/ CDA",
          "Oversampling w/ CDA",
          "Oversampling w/ CDA",
          "Oversampling w/ CDA",
          "Oversampling w/ CDA",
          "Oversampling w/ CDA",
          "Oversampling w/ CDA",
          "Oversampling w/ CDA",
          "Oversampling w/ CDA",
          "Oversampling w/ CDA",
          "Oversampling w/ CDA",
          "Oversampling w/ CDA",
          "Oversampling w/ CDA",
          "Oversampling w/ CDA",
          "Undersampling w/ CDA",
          "Undersampling w/ CDA",
          "Undersampling w/ CDA",
          "Undersampling w/ CDA",
          "Undersampling w/ CDA",
          "Undersampling w/ CDA",
          "Undersampling w/ CDA",
          "Undersampling w/ CDA",
          "Undersampling w/ CDA",
          "Undersampling w/ CDA",
          "Undersampling w/ CDA",
          "Undersampling w/ CDA",
          "Undersampling w/ CDA",
          "Undersampling w/ CDA",
          "Undersampling w/ CDA",
          "Undersampling w/ CDA",
          "Undersampling w/ CDA",
          "Undersampling w/ CDA",
          "Undersampling w/ CDA",
          "Undersampling w/ CDA",
          "Undersampling w/ CDA",
          "Undersampling w/ CDA",
          "Undersampling w/ CDA",
          "Undersampling w/ CDA",
          "Undersampling w/ CDA",
          "Undersampling w/ CDA",
          "Undersampling w/ CDA",
          "Undersampling w/ CDA",
          "Reweight w/ CDA",
          "Reweight w/ CDA",
          "Reweight w/ CDA",
          "Reweight w/ CDA",
          "Reweight w/ CDA",
          "Reweight w/ CDA",
          "Reweight w/ CDA",
          "Reweight w/ CDA",
          "Reweight w/ CDA",
          "Reweight w/ CDA",
          "Reweight w/ CDA",
          "Reweight w/ CDA",
          "Reweight w/ CDA",
          "Reweight w/ CDA",
          "Reweight w/ CDA",
          "Reweight w/ CDA",
          "Reweight w/ CDA",
          "Reweight w/ CDA",
          "Reweight w/ CDA",
          "Reweight w/ CDA",
          "Reweight w/ CDA",
          "Reweight w/ CDA",
          "Reweight w/ CDA",
          "Reweight w/ CDA",
          "Reweight w/ CDA",
          "Reweight w/ CDA",
          "Reweight w/ CDA",
          "Reweight w/ CDA"
         ],
         "y0": " ",
         "yaxis": "y2"
        }
       ],
       "layout": {
        "annotations": [
         {
          "showarrow": false,
          "text": "physician",
          "x": -0.0036397919593697337,
          "y": 0.96,
          "yref": "paper"
         },
         {
          "showarrow": false,
          "text": "architect",
          "x": -0.0009115167708648001,
          "xref": "x2",
          "y": 0.96,
          "yref": "paper"
         }
        ],
        "autosize": false,
        "boxgap": 0.5,
        "font": {
         "size": 14
        },
        "height": 535,
        "legend": {
         "title": {
          "text": "Debias Type"
         }
        },
        "margin": {
         "b": 20,
         "l": 15,
         "r": 15,
         "t": 20
        },
        "plot_bgcolor": "white",
        "shapes": [
         {
          "fillcolor": "red",
          "line": {
           "color": "red"
          },
          "type": "circle",
          "x0": -0.0037847919593697334,
          "x1": -0.0036947919593697336,
          "xref": "x",
          "y0": 0.91,
          "y1": 0.921,
          "yref": "paper"
         },
         {
          "fillcolor": "red",
          "line": {
           "color": "red"
          },
          "type": "circle",
          "x0": -0.0036366742085933664,
          "x1": -0.0035466742085933666,
          "xref": "x",
          "y0": 0.8107,
          "y1": 0.8217000000000001,
          "yref": "paper"
         },
         {
          "fillcolor": "red",
          "line": {
           "color": "red"
          },
          "type": "circle",
          "x0": -0.0037394072855706996,
          "x1": -0.0036494072855707,
          "xref": "x",
          "y0": 0.7114,
          "y1": 0.7224,
          "yref": "paper"
         },
         {
          "fillcolor": "red",
          "line": {
           "color": "red"
          },
          "type": "circle",
          "x0": -0.002750069419213467,
          "x1": -0.002660069419213467,
          "xref": "x",
          "y0": 0.6121000000000001,
          "y1": 0.6231,
          "yref": "paper"
         },
         {
          "fillcolor": "red",
          "line": {
           "color": "red"
          },
          "type": "circle",
          "x0": -0.0034084565084225326,
          "x1": -0.003318456508422533,
          "xref": "x",
          "y0": 0.5128,
          "y1": 0.5238,
          "yref": "paper"
         },
         {
          "fillcolor": "red",
          "line": {
           "color": "red"
          },
          "type": "circle",
          "x0": -0.0038547358303423662,
          "x1": -0.0037647358303423664,
          "xref": "x",
          "y0": 0.41350000000000003,
          "y1": 0.42450000000000004,
          "yref": "paper"
         },
         {
          "fillcolor": "red",
          "line": {
           "color": "red"
          },
          "type": "circle",
          "x0": -0.0031594121250317,
          "x1": -0.0030694121250317004,
          "xref": "x",
          "y0": 0.31420000000000003,
          "y1": 0.32520000000000004,
          "yref": "paper"
         },
         {
          "fillcolor": "red",
          "line": {
           "color": "red"
          },
          "type": "circle",
          "x0": -0.0026400369625190667,
          "x1": -0.002550036962519067,
          "xref": "x",
          "y0": 0.21489999999999998,
          "y1": 0.2259,
          "yref": "paper"
         },
         {
          "fillcolor": "red",
          "line": {
           "color": "red"
          },
          "type": "circle",
          "x0": -0.0036256759271985333,
          "x1": -0.0035356759271985335,
          "xref": "x",
          "y0": 0.11560000000000004,
          "y1": 0.12660000000000005,
          "yref": "paper"
         },
         {
          "fillcolor": "red",
          "line": {
           "color": "red"
          },
          "type": "circle",
          "x0": -0.0030198856719590664,
          "x1": -0.0029298856719590666,
          "xref": "x",
          "y0": 0.016300000000000092,
          "y1": 0.027300000000000102,
          "yref": "paper"
         },
         {
          "fillcolor": "red",
          "line": {
           "color": "red"
          },
          "type": "circle",
          "x0": -0.0009315167708648001,
          "x1": -0.0008915167708648,
          "xref": "x2",
          "y0": 0.91,
          "y1": 0.921,
          "yref": "paper"
         },
         {
          "fillcolor": "red",
          "line": {
           "color": "red"
          },
          "type": "circle",
          "x0": -0.0006671073258811,
          "x1": -0.0006271073258810999,
          "xref": "x2",
          "y0": 0.8107,
          "y1": 0.8217000000000001,
          "yref": "paper"
         },
         {
          "fillcolor": "red",
          "line": {
           "color": "red"
          },
          "type": "circle",
          "x0": 0.000018269788089746132,
          "x1": 0.00005826978808974614,
          "xref": "x2",
          "y0": 0.7114,
          "y1": 0.7224,
          "yref": "paper"
         },
         {
          "fillcolor": "red",
          "line": {
           "color": "red"
          },
          "type": "circle",
          "x0": -0.0001034977194685128,
          "x1": -0.00006349771946851281,
          "xref": "x2",
          "y0": 0.6121000000000001,
          "y1": 0.6231,
          "yref": "paper"
         },
         {
          "fillcolor": "red",
          "line": {
           "color": "red"
          },
          "type": "circle",
          "x0": 0.000004353501511656626,
          "x1": 0.000044353501511656626,
          "xref": "x2",
          "y0": 0.5128,
          "y1": 0.5238,
          "yref": "paper"
         },
         {
          "fillcolor": "red",
          "line": {
           "color": "red"
          },
          "type": "circle",
          "x0": -0.0009489121290874001,
          "x1": -0.0009089121290874,
          "xref": "x2",
          "y0": 0.41350000000000003,
          "y1": 0.42450000000000004,
          "yref": "paper"
         },
         {
          "fillcolor": "red",
          "line": {
           "color": "red"
          },
          "type": "circle",
          "x0": 0.000011311644800701376,
          "x1": 0.00005131164480070138,
          "xref": "x2",
          "y0": 0.31420000000000003,
          "y1": 0.32520000000000004,
          "yref": "paper"
         },
         {
          "fillcolor": "red",
          "line": {
           "color": "red"
          },
          "type": "circle",
          "x0": 0.000007832573156188579,
          "x1": 0.00004783257315618858,
          "xref": "x2",
          "y0": 0.21489999999999998,
          "y1": 0.2259,
          "yref": "paper"
         },
         {
          "fillcolor": "red",
          "line": {
           "color": "red"
          },
          "type": "circle",
          "x0": -0.00008610236124591096,
          "x1": -0.000046102361245910965,
          "xref": "x2",
          "y0": 0.11560000000000004,
          "y1": 0.12660000000000005,
          "yref": "paper"
         },
         {
          "fillcolor": "red",
          "line": {
           "color": "red"
          },
          "type": "circle",
          "x0": -0.00008262328960140275,
          "x1": -0.000042623289601402756,
          "xref": "x2",
          "y0": 0.016300000000000092,
          "y1": 0.027300000000000102,
          "yref": "paper"
         }
        ],
        "template": {
         "data": {
          "bar": [
           {
            "error_x": {
             "color": "#2a3f5f"
            },
            "error_y": {
             "color": "#2a3f5f"
            },
            "marker": {
             "line": {
              "color": "#E5ECF6",
              "width": 0.5
             },
             "pattern": {
              "fillmode": "overlay",
              "size": 10,
              "solidity": 0.2
             }
            },
            "type": "bar"
           }
          ],
          "barpolar": [
           {
            "marker": {
             "line": {
              "color": "#E5ECF6",
              "width": 0.5
             },
             "pattern": {
              "fillmode": "overlay",
              "size": 10,
              "solidity": 0.2
             }
            },
            "type": "barpolar"
           }
          ],
          "carpet": [
           {
            "aaxis": {
             "endlinecolor": "#2a3f5f",
             "gridcolor": "white",
             "linecolor": "white",
             "minorgridcolor": "white",
             "startlinecolor": "#2a3f5f"
            },
            "baxis": {
             "endlinecolor": "#2a3f5f",
             "gridcolor": "white",
             "linecolor": "white",
             "minorgridcolor": "white",
             "startlinecolor": "#2a3f5f"
            },
            "type": "carpet"
           }
          ],
          "choropleth": [
           {
            "colorbar": {
             "outlinewidth": 0,
             "ticks": ""
            },
            "type": "choropleth"
           }
          ],
          "contour": [
           {
            "colorbar": {
             "outlinewidth": 0,
             "ticks": ""
            },
            "colorscale": [
             [
              0,
              "#0d0887"
             ],
             [
              0.1111111111111111,
              "#46039f"
             ],
             [
              0.2222222222222222,
              "#7201a8"
             ],
             [
              0.3333333333333333,
              "#9c179e"
             ],
             [
              0.4444444444444444,
              "#bd3786"
             ],
             [
              0.5555555555555556,
              "#d8576b"
             ],
             [
              0.6666666666666666,
              "#ed7953"
             ],
             [
              0.7777777777777778,
              "#fb9f3a"
             ],
             [
              0.8888888888888888,
              "#fdca26"
             ],
             [
              1,
              "#f0f921"
             ]
            ],
            "type": "contour"
           }
          ],
          "contourcarpet": [
           {
            "colorbar": {
             "outlinewidth": 0,
             "ticks": ""
            },
            "type": "contourcarpet"
           }
          ],
          "heatmap": [
           {
            "colorbar": {
             "outlinewidth": 0,
             "ticks": ""
            },
            "colorscale": [
             [
              0,
              "#0d0887"
             ],
             [
              0.1111111111111111,
              "#46039f"
             ],
             [
              0.2222222222222222,
              "#7201a8"
             ],
             [
              0.3333333333333333,
              "#9c179e"
             ],
             [
              0.4444444444444444,
              "#bd3786"
             ],
             [
              0.5555555555555556,
              "#d8576b"
             ],
             [
              0.6666666666666666,
              "#ed7953"
             ],
             [
              0.7777777777777778,
              "#fb9f3a"
             ],
             [
              0.8888888888888888,
              "#fdca26"
             ],
             [
              1,
              "#f0f921"
             ]
            ],
            "type": "heatmap"
           }
          ],
          "heatmapgl": [
           {
            "colorbar": {
             "outlinewidth": 0,
             "ticks": ""
            },
            "colorscale": [
             [
              0,
              "#0d0887"
             ],
             [
              0.1111111111111111,
              "#46039f"
             ],
             [
              0.2222222222222222,
              "#7201a8"
             ],
             [
              0.3333333333333333,
              "#9c179e"
             ],
             [
              0.4444444444444444,
              "#bd3786"
             ],
             [
              0.5555555555555556,
              "#d8576b"
             ],
             [
              0.6666666666666666,
              "#ed7953"
             ],
             [
              0.7777777777777778,
              "#fb9f3a"
             ],
             [
              0.8888888888888888,
              "#fdca26"
             ],
             [
              1,
              "#f0f921"
             ]
            ],
            "type": "heatmapgl"
           }
          ],
          "histogram": [
           {
            "marker": {
             "pattern": {
              "fillmode": "overlay",
              "size": 10,
              "solidity": 0.2
             }
            },
            "type": "histogram"
           }
          ],
          "histogram2d": [
           {
            "colorbar": {
             "outlinewidth": 0,
             "ticks": ""
            },
            "colorscale": [
             [
              0,
              "#0d0887"
             ],
             [
              0.1111111111111111,
              "#46039f"
             ],
             [
              0.2222222222222222,
              "#7201a8"
             ],
             [
              0.3333333333333333,
              "#9c179e"
             ],
             [
              0.4444444444444444,
              "#bd3786"
             ],
             [
              0.5555555555555556,
              "#d8576b"
             ],
             [
              0.6666666666666666,
              "#ed7953"
             ],
             [
              0.7777777777777778,
              "#fb9f3a"
             ],
             [
              0.8888888888888888,
              "#fdca26"
             ],
             [
              1,
              "#f0f921"
             ]
            ],
            "type": "histogram2d"
           }
          ],
          "histogram2dcontour": [
           {
            "colorbar": {
             "outlinewidth": 0,
             "ticks": ""
            },
            "colorscale": [
             [
              0,
              "#0d0887"
             ],
             [
              0.1111111111111111,
              "#46039f"
             ],
             [
              0.2222222222222222,
              "#7201a8"
             ],
             [
              0.3333333333333333,
              "#9c179e"
             ],
             [
              0.4444444444444444,
              "#bd3786"
             ],
             [
              0.5555555555555556,
              "#d8576b"
             ],
             [
              0.6666666666666666,
              "#ed7953"
             ],
             [
              0.7777777777777778,
              "#fb9f3a"
             ],
             [
              0.8888888888888888,
              "#fdca26"
             ],
             [
              1,
              "#f0f921"
             ]
            ],
            "type": "histogram2dcontour"
           }
          ],
          "mesh3d": [
           {
            "colorbar": {
             "outlinewidth": 0,
             "ticks": ""
            },
            "type": "mesh3d"
           }
          ],
          "parcoords": [
           {
            "line": {
             "colorbar": {
              "outlinewidth": 0,
              "ticks": ""
             }
            },
            "type": "parcoords"
           }
          ],
          "pie": [
           {
            "automargin": true,
            "type": "pie"
           }
          ],
          "scatter": [
           {
            "fillpattern": {
             "fillmode": "overlay",
             "size": 10,
             "solidity": 0.2
            },
            "type": "scatter"
           }
          ],
          "scatter3d": [
           {
            "line": {
             "colorbar": {
              "outlinewidth": 0,
              "ticks": ""
             }
            },
            "marker": {
             "colorbar": {
              "outlinewidth": 0,
              "ticks": ""
             }
            },
            "type": "scatter3d"
           }
          ],
          "scattercarpet": [
           {
            "marker": {
             "colorbar": {
              "outlinewidth": 0,
              "ticks": ""
             }
            },
            "type": "scattercarpet"
           }
          ],
          "scattergeo": [
           {
            "marker": {
             "colorbar": {
              "outlinewidth": 0,
              "ticks": ""
             }
            },
            "type": "scattergeo"
           }
          ],
          "scattergl": [
           {
            "marker": {
             "colorbar": {
              "outlinewidth": 0,
              "ticks": ""
             }
            },
            "type": "scattergl"
           }
          ],
          "scattermapbox": [
           {
            "marker": {
             "colorbar": {
              "outlinewidth": 0,
              "ticks": ""
             }
            },
            "type": "scattermapbox"
           }
          ],
          "scatterpolar": [
           {
            "marker": {
             "colorbar": {
              "outlinewidth": 0,
              "ticks": ""
             }
            },
            "type": "scatterpolar"
           }
          ],
          "scatterpolargl": [
           {
            "marker": {
             "colorbar": {
              "outlinewidth": 0,
              "ticks": ""
             }
            },
            "type": "scatterpolargl"
           }
          ],
          "scatterternary": [
           {
            "marker": {
             "colorbar": {
              "outlinewidth": 0,
              "ticks": ""
             }
            },
            "type": "scatterternary"
           }
          ],
          "surface": [
           {
            "colorbar": {
             "outlinewidth": 0,
             "ticks": ""
            },
            "colorscale": [
             [
              0,
              "#0d0887"
             ],
             [
              0.1111111111111111,
              "#46039f"
             ],
             [
              0.2222222222222222,
              "#7201a8"
             ],
             [
              0.3333333333333333,
              "#9c179e"
             ],
             [
              0.4444444444444444,
              "#bd3786"
             ],
             [
              0.5555555555555556,
              "#d8576b"
             ],
             [
              0.6666666666666666,
              "#ed7953"
             ],
             [
              0.7777777777777778,
              "#fb9f3a"
             ],
             [
              0.8888888888888888,
              "#fdca26"
             ],
             [
              1,
              "#f0f921"
             ]
            ],
            "type": "surface"
           }
          ],
          "table": [
           {
            "cells": {
             "fill": {
              "color": "#EBF0F8"
             },
             "line": {
              "color": "white"
             }
            },
            "header": {
             "fill": {
              "color": "#C8D4E3"
             },
             "line": {
              "color": "white"
             }
            },
            "type": "table"
           }
          ]
         },
         "layout": {
          "annotationdefaults": {
           "arrowcolor": "#2a3f5f",
           "arrowhead": 0,
           "arrowwidth": 1
          },
          "autotypenumbers": "strict",
          "coloraxis": {
           "colorbar": {
            "outlinewidth": 0,
            "ticks": ""
           }
          },
          "colorscale": {
           "diverging": [
            [
             0,
             "#8e0152"
            ],
            [
             0.1,
             "#c51b7d"
            ],
            [
             0.2,
             "#de77ae"
            ],
            [
             0.3,
             "#f1b6da"
            ],
            [
             0.4,
             "#fde0ef"
            ],
            [
             0.5,
             "#f7f7f7"
            ],
            [
             0.6,
             "#e6f5d0"
            ],
            [
             0.7,
             "#b8e186"
            ],
            [
             0.8,
             "#7fbc41"
            ],
            [
             0.9,
             "#4d9221"
            ],
            [
             1,
             "#276419"
            ]
           ],
           "sequential": [
            [
             0,
             "#0d0887"
            ],
            [
             0.1111111111111111,
             "#46039f"
            ],
            [
             0.2222222222222222,
             "#7201a8"
            ],
            [
             0.3333333333333333,
             "#9c179e"
            ],
            [
             0.4444444444444444,
             "#bd3786"
            ],
            [
             0.5555555555555556,
             "#d8576b"
            ],
            [
             0.6666666666666666,
             "#ed7953"
            ],
            [
             0.7777777777777778,
             "#fb9f3a"
            ],
            [
             0.8888888888888888,
             "#fdca26"
            ],
            [
             1,
             "#f0f921"
            ]
           ],
           "sequentialminus": [
            [
             0,
             "#0d0887"
            ],
            [
             0.1111111111111111,
             "#46039f"
            ],
            [
             0.2222222222222222,
             "#7201a8"
            ],
            [
             0.3333333333333333,
             "#9c179e"
            ],
            [
             0.4444444444444444,
             "#bd3786"
            ],
            [
             0.5555555555555556,
             "#d8576b"
            ],
            [
             0.6666666666666666,
             "#ed7953"
            ],
            [
             0.7777777777777778,
             "#fb9f3a"
            ],
            [
             0.8888888888888888,
             "#fdca26"
            ],
            [
             1,
             "#f0f921"
            ]
           ]
          },
          "colorway": [
           "#636efa",
           "#EF553B",
           "#00cc96",
           "#ab63fa",
           "#FFA15A",
           "#19d3f3",
           "#FF6692",
           "#B6E880",
           "#FF97FF",
           "#FECB52"
          ],
          "font": {
           "color": "#2a3f5f"
          },
          "geo": {
           "bgcolor": "white",
           "lakecolor": "white",
           "landcolor": "#E5ECF6",
           "showlakes": true,
           "showland": true,
           "subunitcolor": "white"
          },
          "hoverlabel": {
           "align": "left"
          },
          "hovermode": "closest",
          "mapbox": {
           "style": "light"
          },
          "paper_bgcolor": "white",
          "plot_bgcolor": "#E5ECF6",
          "polar": {
           "angularaxis": {
            "gridcolor": "white",
            "linecolor": "white",
            "ticks": ""
           },
           "bgcolor": "#E5ECF6",
           "radialaxis": {
            "gridcolor": "white",
            "linecolor": "white",
            "ticks": ""
           }
          },
          "scene": {
           "xaxis": {
            "backgroundcolor": "#E5ECF6",
            "gridcolor": "white",
            "gridwidth": 2,
            "linecolor": "white",
            "showbackground": true,
            "ticks": "",
            "zerolinecolor": "white"
           },
           "yaxis": {
            "backgroundcolor": "#E5ECF6",
            "gridcolor": "white",
            "gridwidth": 2,
            "linecolor": "white",
            "showbackground": true,
            "ticks": "",
            "zerolinecolor": "white"
           },
           "zaxis": {
            "backgroundcolor": "#E5ECF6",
            "gridcolor": "white",
            "gridwidth": 2,
            "linecolor": "white",
            "showbackground": true,
            "ticks": "",
            "zerolinecolor": "white"
           }
          },
          "shapedefaults": {
           "line": {
            "color": "#2a3f5f"
           }
          },
          "ternary": {
           "aaxis": {
            "gridcolor": "white",
            "linecolor": "white",
            "ticks": ""
           },
           "baxis": {
            "gridcolor": "white",
            "linecolor": "white",
            "ticks": ""
           },
           "bgcolor": "#E5ECF6",
           "caxis": {
            "gridcolor": "white",
            "linecolor": "white",
            "ticks": ""
           }
          },
          "title": {
           "x": 0.05
          },
          "xaxis": {
           "automargin": true,
           "gridcolor": "white",
           "linecolor": "white",
           "ticks": "",
           "title": {
            "standoff": 15
           },
           "zerolinecolor": "white",
           "zerolinewidth": 2
          },
          "yaxis": {
           "automargin": true,
           "gridcolor": "white",
           "linecolor": "white",
           "ticks": "",
           "title": {
            "standoff": 15
           },
           "zerolinecolor": "white",
           "zerolinewidth": 2
          }
         }
        },
        "width": 1000,
        "xaxis": {
         "anchor": "y",
         "domain": [
          0,
          0.485
         ],
         "gridcolor": "darkgrey",
         "mirror": true,
         "showgrid": true,
         "title": {
          "text": "Statistical FPR Gap"
         },
         "zeroline": true,
         "zerolinecolor": "darkgrey"
        },
        "xaxis2": {
         "anchor": "y2",
         "domain": [
          0.515,
          1
         ],
         "gridcolor": "darkgrey",
         "mirror": true,
         "showgrid": true,
         "title": {
          "text": "Causal FPR Gap"
         },
         "zeroline": true,
         "zerolinecolor": "darkgrey"
        },
        "yaxis": {
         "anchor": "x",
         "categoryarray": [
          "Reweight w/ CDA",
          "Undersampling w/ CDA",
          "Oversampling w/ CDA",
          "Zari w/ CDA",
          "Zari",
          "CDA",
          "Reweight",
          "Undersampling",
          "Oversampling",
          "Baseline"
         ],
         "categoryorder": "array",
         "domain": [
          0,
          1
         ],
         "gridcolor": "lightgrey",
         "mirror": true,
         "showgrid": true,
         "tickmode": "array",
         "ticktext": [
          "<b>Normal</b><br>Acc= 95.49%<br>",
          "<b>Statistical</b><br>Oversampling<br>Acc= 95.50%",
          "Undersampling<br>Acc= 94.79%",
          "Reweighting<br>Acc= 95.26%<br>",
          "<b>Causal</b><br>CDA<br>Acc= 95.47%<br>",
          "Zari<br>Acc= 95.23%<br>",
          "Zari w/ CDA<br>Acc= 95.20%<br>",
          "<b>Combination</b><br>OS-CDA<br>Acc= 95.39%",
          "US-CDA<br>Acc= 94.73%",
          "RW-CDA<br>Acc= 95.43%"
         ],
         "tickvals": [
          "Baseline",
          "Oversampling",
          "Undersampling",
          "Reweight",
          "CDA",
          "Zari",
          "Zari w/ CDA",
          "Oversampling w/ CDA",
          "Undersampling w/ CDA",
          "Reweight w/ CDA"
         ]
        },
        "yaxis2": {
         "anchor": "x2",
         "categoryarray": [
          "Reweight w/ CDA",
          "Undersampling w/ CDA",
          "Oversampling w/ CDA",
          "Zari w/ CDA",
          "Zari",
          "CDA",
          "Reweight",
          "Undersampling",
          "Oversampling",
          "Baseline"
         ],
         "categoryorder": "array",
         "domain": [
          0,
          1
         ],
         "gridcolor": "lightgrey",
         "matches": "y",
         "mirror": true,
         "showgrid": true,
         "showticklabels": false
        }
       }
      }
     },
     "metadata": {},
     "output_type": "display_data"
    }
   ],
   "source": [
    "fig = make_subplots(\n",
    "    rows=1, cols=2, shared_yaxes=True, horizontal_spacing=0.03\n",
    ")\n",
    "\n",
    "for t in px.box(fpr_parity_df, x=\"statistical_parity\", y=\"Method\", color_discrete_sequence=px.colors.qualitative.D3, hover_data=[\"occupation\"]).data:\n",
    "    fig.add_trace(t, row=1, col=1)\n",
    "for t in px.box(fpr_parity_df, x=\"causal_parity\", y=\"Method\", color_discrete_sequence=px.colors.qualitative.D3, hover_data=[\"occupation\"]).data:\n",
    "    t[\"showlegend\"] = False\n",
    "    fig.add_trace(t, row=1, col=2)\n",
    "\n",
    "fig.update_layout(\n",
    "    autosize=False,\n",
    "    width=1000,\n",
    "    height=535,\n",
    "    plot_bgcolor='white',\n",
    "    font=dict(size=14),\n",
    "    legend_title=\"Debias Type\",\n",
    "    margin=dict(l=15, r=15, t=20, b=20),\n",
    "    boxgap=0.5,\n",
    "    yaxis = dict(\n",
    "        tickmode = 'array',\n",
    "        tickvals = [\"Baseline\", \"Oversampling\", \"Undersampling\", \"Reweight\", \"CDA\", \"Zari\", \"Zari w/ CDA\", \"Oversampling w/ CDA\", \"Undersampling w/ CDA\", \"Reweight w/ CDA\"],\n",
    "        ticktext = [\n",
    "            f\"<b>Normal</b><br>Acc={acc_df[acc_df.Method == 'Baseline'].Acc.item()*100: .2f}%<br>\", \n",
    "            f\"<b>Statistical</b><br>Oversampling<br>Acc={acc_df[acc_df.Method == 'Oversampling'].Acc.item()*100: .2f}%\", \n",
    "            f\"Undersampling<br>Acc={acc_df[acc_df.Method == 'Undersampling'].Acc.item()*100: .2f}%\",\n",
    "            f\"Reweighting<br>Acc={acc_df[acc_df.Method == 'Reweight'].Acc.item()*100: .2f}%<br>\",\n",
    "            f\"<b>Causal</b><br>CDA<br>Acc={acc_df[acc_df.Method == 'CDA'].Acc.item()*100: .2f}%<br>\", \n",
    "            f\"Zari<br>Acc={acc_df[acc_df.Method == 'Zari'].Acc.item()*100: .2f}%<br>\",\n",
    "            f\"Zari w/ CDA<br>Acc={acc_df[acc_df.Method == 'Zari w/ CDA'].Acc.item()*100: .2f}%<br>\",\n",
    "            f\"<b>Combination</b><br>OS-CDA<br>Acc={acc_df[acc_df.Method == 'Oversampling w/ CDA'].Acc.item()*100: .2f}%\",\n",
    "            f\"US-CDA<br>Acc={acc_df[acc_df.Method == 'Undersampling w/ CDA'].Acc.item()*100: .2f}%\",\n",
    "            f\"RW-CDA<br>Acc={acc_df[acc_df.Method == 'Reweight w/ CDA'].Acc.item()*100: .2f}%\",\n",
    "        ]\n",
    "    ),\n",
    "    # xaxis2 = dict(range=[-0.052, 0.105], tickvals=[-0.05, 0, 0.05, 0.1])\n",
    ")\n",
    "fig.update_xaxes(title_text='Statistical FPR Gap',row=1, col=1)\n",
    "fig.update_xaxes(title_text='Causal FPR Gap',row=1, col=2)\n",
    "fig.update_traces(boxpoints=\"all\", jitter=0.3, pointpos=-2)\n",
    "fig.update_xaxes(\n",
    "    mirror=True,\n",
    "    showgrid=True,\n",
    "    gridcolor='darkgrey',\n",
    "    zeroline = True,\n",
    "    zerolinecolor='darkgrey',\n",
    ")\n",
    "fig.update_yaxes(\n",
    "    mirror=True,\n",
    "    showgrid=True,\n",
    "    gridcolor='lightgrey',\n",
    "    categoryorder='array',\n",
    "    categoryarray= [\"Reweight w/ CDA\", \"Undersampling w/ CDA\", \"Oversampling w/ CDA\", \"Zari w/ CDA\", \"Zari\", \"CDA\", \"Reweight\", \"Undersampling\", \"Oversampling\", 'Baseline']\n",
    ")\n",
    "\n",
    "baseline_x = fpr_parity_df[(fpr_parity_df.occupation == \"physician\")&(fpr_parity_df.Method == \"Baseline\")].statistical_parity.item()\n",
    "fig.add_annotation(text=\"physician\", x=baseline_x+0.0001, yref=\"paper\", y=0.96, showarrow=False)\n",
    "\n",
    "offset = 0.0993\n",
    "methods = [\"Baseline\", \"Oversampling\", \"Undersampling\", \"Reweight\", \"CDA\", \"Zari\", \"Zari w/ CDA\", \"Oversampling w/ CDA\", \"Undersampling w/ CDA\", \"Reweight w/ CDA\"]\n",
    "for i, method in enumerate(methods):\n",
    "    x_pos = fpr_parity_df[(fpr_parity_df.occupation == \"physician\")&(fpr_parity_df.Method == method)].statistical_parity.item()\n",
    "    fig.add_shape(type=\"circle\", xref=\"x1\", x0=x_pos-0.000045, x1=x_pos+0.000045, yref=\"paper\", y0=0.91-(offset*i), y1=0.921-(offset*i), line_color=\"red\", fillcolor=\"red\")\n",
    "\n",
    "baseline_x = fpr_parity_df[(fpr_parity_df.occupation == \"architect\")&(fpr_parity_df.Method == \"Baseline\")].causal_parity.item()\n",
    "fig.add_annotation(text=\"architect\", xref=\"x2\", x=baseline_x, yref=\"paper\", y=0.96, showarrow=False)\n",
    "offset = 0.0993\n",
    "for i, method in enumerate(methods):\n",
    "    x_pos = fpr_parity_df[(fpr_parity_df.occupation == \"architect\")&(fpr_parity_df.Method == method)].causal_parity.item()\n",
    "    fig.add_shape(type=\"circle\", xref=\"x2\", x0=x_pos-0.00002, x1=x_pos+0.00002, yref=\"paper\", y0=0.91-(offset*i), y1=0.921-(offset*i), line_color=\"red\", fillcolor=\"red\")\n",
    "fig.show()"
   ]
  },
  {
   "cell_type": "markdown",
   "metadata": {},
   "source": [
    "## Baseline Model (Statistical vs Causal)"
   ]
  },
  {
   "cell_type": "code",
   "execution_count": 19,
   "metadata": {},
   "outputs": [],
   "source": [
    "def load_preds(root_dir, exclude_idxs=None):\n",
    "    preds = pd.read_csv(os.path.join(root_dir, \"test_preds.csv\"))\n",
    "    if exclude_idxs:\n",
    "        preds = preds[preds.idx.isin(exclude_idxs)]\n",
    "    return preds\n",
    "\n",
    "def get_results(preds, performance_metric=\"TPR\"):\n",
    "    df = preds\n",
    "\n",
    "    occupation_list = preds[\"label\"].unique().tolist()\n",
    "    statistical_gap = []\n",
    "\n",
    "    for occupation in occupation_list:\n",
    "        if performance_metric == \"TPR\":\n",
    "            statistical_gap.append(TPR_gap(df, occupation))\n",
    "        else:\n",
    "            statistical_gap.append(FPR_gap(df, occupation))\n",
    "\n",
    "    causal_gap = []\n",
    "\n",
    "    for occupation in occupation_list:\n",
    "        if performance_metric == \"TPR\":\n",
    "            causal_gap.append(TPR_gap(df, occupation, causal=True))\n",
    "        else:\n",
    "            causal_gap.append(FPR_gap(df, occupation, causal=True))\n",
    "\n",
    "    df = pd.DataFrame({\"occupation\": occupation_list, \"statistical_gap\": statistical_gap, \"causal_gap\": causal_gap})\n",
    "    return df.sort_values(\"occupation\")"
   ]
  },
  {
   "cell_type": "code",
   "execution_count": 19,
   "metadata": {},
   "outputs": [
    {
     "data": {
      "application/vnd.plotly.v1+json": {
       "config": {
        "plotlyServerURL": "https://plot.ly"
       },
       "data": [
        {
         "customdata": [
          [
           "accountant"
          ],
          [
           "architect"
          ],
          [
           "attorney"
          ],
          [
           "chiropractor"
          ],
          [
           "comedian"
          ],
          [
           "composer"
          ],
          [
           "dentist"
          ],
          [
           "dietitian"
          ],
          [
           "dj"
          ],
          [
           "filmmaker"
          ],
          [
           "interior_designer"
          ],
          [
           "journalist"
          ],
          [
           "model"
          ],
          [
           "nurse"
          ],
          [
           "painter"
          ],
          [
           "paralegal"
          ],
          [
           "pastor"
          ],
          [
           "personal_trainer"
          ],
          [
           "photographer"
          ],
          [
           "physician"
          ],
          [
           "poet"
          ],
          [
           "professor"
          ],
          [
           "psychologist"
          ],
          [
           "rapper"
          ],
          [
           "software_engineer"
          ],
          [
           "surgeon"
          ],
          [
           "teacher"
          ],
          [
           "yoga_teacher"
          ]
         ],
         "hovertemplate": "statistical_parity=%{x}<br>causal_parity=%{y}<br>occupation=%{customdata[0]}<extra></extra>",
         "legendgroup": "",
         "marker": {
          "color": "#636efa",
          "line": {
           "color": "DarkSlateGrey",
           "width": 1.5
          },
          "size": 8.5,
          "symbol": "circle"
         },
         "mode": "markers",
         "name": "",
         "orientation": "v",
         "showlegend": false,
         "type": "scatter",
         "x": [
          -0.007040382571732229,
          -0.07471214317604324,
          -0.004820515471296027,
          0.018513498249181137,
          -0.09411923752872786,
          -0.03156379467734016,
          0.016745498221634625,
          0.12965829606696477,
          -0.0799848942598187,
          0.011458261489298072,
          0.12282051282051287,
          0.006153549120699875,
          0.11874896847664629,
          0.04969443220549863,
          0.014692079799281332,
          0.24725508553919484,
          0.07978500041992098,
          -0.05845301083396326,
          -0.011368007958629023,
          0.028986729032959846,
          0.05158133516342467,
          0.0002187566271105723,
          0.012329240006210607,
          -0.11373276776246022,
          -0.011706002064983845,
          -0.05233205289499898,
          0.021658867938733506,
          0.04789886039886038
         ],
         "xaxis": "x",
         "y": [
          -0.003538570417551309,
          -0.014240506329113924,
          -0.0007362866609399927,
          -0.0015408320493066256,
          -0.0357653791130186,
          -0.0035714285714285713,
          0.002211166390270868,
          0.009054325955734407,
          0.01078167115902965,
          -0.005136986301369863,
          0.09041095890410959,
          0.009825546420693804,
          0.05386666666666667,
          0.015608521408985446,
          0.001034126163391934,
          0.04308390022675737,
          -0.023696682464454975,
          -0.030726256983240222,
          -0.005591185660253248,
          -0.0016595788818587283,
          0.001141552511415525,
          0.00006773461577539202,
          -0.0017497812773403325,
          -0.03133903133903134,
          -0.008111239860950173,
          -0.0108499095840868,
          0.00395159298592245,
          0.03855421686746988
         ],
         "yaxis": "y"
        },
        {
         "line": {
          "color": "red",
          "dash": "dash"
         },
         "mode": "lines",
         "showlegend": false,
         "type": "scatter",
         "x": [
          -0.05,
          0.15
         ],
         "y": [
          -0.05,
          0.15
         ]
        }
       ],
       "layout": {
        "annotations": [
         {
          "showarrow": false,
          "text": "pastor",
          "x": 0.07978500041992098,
          "xshift": 25,
          "y": -0.023696682464454975,
          "yshift": -8
         },
         {
          "showarrow": false,
          "text": "poet",
          "x": 0.05158133516342467,
          "xshift": 23,
          "y": 0.001141552511415525,
          "yshift": -3
         },
         {
          "showarrow": false,
          "text": "paralegal",
          "x": 0.24725508553919484,
          "xshift": 0,
          "y": 0.04308390022675737,
          "yshift": 15
         },
         {
          "showarrow": false,
          "text": "interior_designer",
          "x": 0.12282051282051287,
          "xshift": 0,
          "y": 0.09041095890410959,
          "yshift": 15
         },
         {
          "showarrow": false,
          "text": "model",
          "x": 0.11874896847664629,
          "xshift": 0,
          "y": 0.05386666666666667,
          "yshift": 15
         },
         {
          "showarrow": false,
          "text": "dj",
          "x": -0.0799848942598187,
          "xshift": 0,
          "y": 0.01078167115902965,
          "yshift": 15
         },
         {
          "showarrow": false,
          "text": "rapper",
          "x": -0.11373276776246022,
          "xshift": 0,
          "y": -0.03133903133903134,
          "yshift": 15
         },
         {
          "showarrow": false,
          "text": "comedian",
          "x": -0.09411923752872786,
          "xshift": -5,
          "y": -0.0357653791130186,
          "yshift": -12
         },
         {
          "showarrow": false,
          "text": "dietitian",
          "x": 0.12965829606696477,
          "xshift": 0,
          "y": 0.009054325955734407,
          "yshift": 15
         },
         {
          "showarrow": false,
          "text": "personal_trainer",
          "x": -0.05845301083396326,
          "xshift": 48,
          "y": -0.030726256983240222,
          "yshift": -8
         },
         {
          "showarrow": false,
          "text": "yoga_teacher",
          "x": 0.04789886039886038,
          "xshift": 0,
          "y": 0.03855421686746988,
          "yshift": 15
         }
        ],
        "autosize": false,
        "font": {
         "size": 15
        },
        "height": 375,
        "legend": {
         "tracegroupgap": 0
        },
        "margin": {
         "b": 20,
         "l": 15,
         "r": 15,
         "t": 20
        },
        "plot_bgcolor": "white",
        "shapes": [
         {
          "fillcolor": "grey",
          "opacity": 0.2,
          "type": "rect",
          "x0": 0,
          "x1": 0.3,
          "y0": 0,
          "y1": -0.05
         },
         {
          "fillcolor": "grey",
          "opacity": 0.2,
          "type": "rect",
          "x0": 0,
          "x1": -0.15,
          "y0": 0,
          "y1": 0.15
         }
        ],
        "template": {
         "data": {
          "bar": [
           {
            "error_x": {
             "color": "#2a3f5f"
            },
            "error_y": {
             "color": "#2a3f5f"
            },
            "marker": {
             "line": {
              "color": "#E5ECF6",
              "width": 0.5
             },
             "pattern": {
              "fillmode": "overlay",
              "size": 10,
              "solidity": 0.2
             }
            },
            "type": "bar"
           }
          ],
          "barpolar": [
           {
            "marker": {
             "line": {
              "color": "#E5ECF6",
              "width": 0.5
             },
             "pattern": {
              "fillmode": "overlay",
              "size": 10,
              "solidity": 0.2
             }
            },
            "type": "barpolar"
           }
          ],
          "carpet": [
           {
            "aaxis": {
             "endlinecolor": "#2a3f5f",
             "gridcolor": "white",
             "linecolor": "white",
             "minorgridcolor": "white",
             "startlinecolor": "#2a3f5f"
            },
            "baxis": {
             "endlinecolor": "#2a3f5f",
             "gridcolor": "white",
             "linecolor": "white",
             "minorgridcolor": "white",
             "startlinecolor": "#2a3f5f"
            },
            "type": "carpet"
           }
          ],
          "choropleth": [
           {
            "colorbar": {
             "outlinewidth": 0,
             "ticks": ""
            },
            "type": "choropleth"
           }
          ],
          "contour": [
           {
            "colorbar": {
             "outlinewidth": 0,
             "ticks": ""
            },
            "colorscale": [
             [
              0,
              "#0d0887"
             ],
             [
              0.1111111111111111,
              "#46039f"
             ],
             [
              0.2222222222222222,
              "#7201a8"
             ],
             [
              0.3333333333333333,
              "#9c179e"
             ],
             [
              0.4444444444444444,
              "#bd3786"
             ],
             [
              0.5555555555555556,
              "#d8576b"
             ],
             [
              0.6666666666666666,
              "#ed7953"
             ],
             [
              0.7777777777777778,
              "#fb9f3a"
             ],
             [
              0.8888888888888888,
              "#fdca26"
             ],
             [
              1,
              "#f0f921"
             ]
            ],
            "type": "contour"
           }
          ],
          "contourcarpet": [
           {
            "colorbar": {
             "outlinewidth": 0,
             "ticks": ""
            },
            "type": "contourcarpet"
           }
          ],
          "heatmap": [
           {
            "colorbar": {
             "outlinewidth": 0,
             "ticks": ""
            },
            "colorscale": [
             [
              0,
              "#0d0887"
             ],
             [
              0.1111111111111111,
              "#46039f"
             ],
             [
              0.2222222222222222,
              "#7201a8"
             ],
             [
              0.3333333333333333,
              "#9c179e"
             ],
             [
              0.4444444444444444,
              "#bd3786"
             ],
             [
              0.5555555555555556,
              "#d8576b"
             ],
             [
              0.6666666666666666,
              "#ed7953"
             ],
             [
              0.7777777777777778,
              "#fb9f3a"
             ],
             [
              0.8888888888888888,
              "#fdca26"
             ],
             [
              1,
              "#f0f921"
             ]
            ],
            "type": "heatmap"
           }
          ],
          "heatmapgl": [
           {
            "colorbar": {
             "outlinewidth": 0,
             "ticks": ""
            },
            "colorscale": [
             [
              0,
              "#0d0887"
             ],
             [
              0.1111111111111111,
              "#46039f"
             ],
             [
              0.2222222222222222,
              "#7201a8"
             ],
             [
              0.3333333333333333,
              "#9c179e"
             ],
             [
              0.4444444444444444,
              "#bd3786"
             ],
             [
              0.5555555555555556,
              "#d8576b"
             ],
             [
              0.6666666666666666,
              "#ed7953"
             ],
             [
              0.7777777777777778,
              "#fb9f3a"
             ],
             [
              0.8888888888888888,
              "#fdca26"
             ],
             [
              1,
              "#f0f921"
             ]
            ],
            "type": "heatmapgl"
           }
          ],
          "histogram": [
           {
            "marker": {
             "pattern": {
              "fillmode": "overlay",
              "size": 10,
              "solidity": 0.2
             }
            },
            "type": "histogram"
           }
          ],
          "histogram2d": [
           {
            "colorbar": {
             "outlinewidth": 0,
             "ticks": ""
            },
            "colorscale": [
             [
              0,
              "#0d0887"
             ],
             [
              0.1111111111111111,
              "#46039f"
             ],
             [
              0.2222222222222222,
              "#7201a8"
             ],
             [
              0.3333333333333333,
              "#9c179e"
             ],
             [
              0.4444444444444444,
              "#bd3786"
             ],
             [
              0.5555555555555556,
              "#d8576b"
             ],
             [
              0.6666666666666666,
              "#ed7953"
             ],
             [
              0.7777777777777778,
              "#fb9f3a"
             ],
             [
              0.8888888888888888,
              "#fdca26"
             ],
             [
              1,
              "#f0f921"
             ]
            ],
            "type": "histogram2d"
           }
          ],
          "histogram2dcontour": [
           {
            "colorbar": {
             "outlinewidth": 0,
             "ticks": ""
            },
            "colorscale": [
             [
              0,
              "#0d0887"
             ],
             [
              0.1111111111111111,
              "#46039f"
             ],
             [
              0.2222222222222222,
              "#7201a8"
             ],
             [
              0.3333333333333333,
              "#9c179e"
             ],
             [
              0.4444444444444444,
              "#bd3786"
             ],
             [
              0.5555555555555556,
              "#d8576b"
             ],
             [
              0.6666666666666666,
              "#ed7953"
             ],
             [
              0.7777777777777778,
              "#fb9f3a"
             ],
             [
              0.8888888888888888,
              "#fdca26"
             ],
             [
              1,
              "#f0f921"
             ]
            ],
            "type": "histogram2dcontour"
           }
          ],
          "mesh3d": [
           {
            "colorbar": {
             "outlinewidth": 0,
             "ticks": ""
            },
            "type": "mesh3d"
           }
          ],
          "parcoords": [
           {
            "line": {
             "colorbar": {
              "outlinewidth": 0,
              "ticks": ""
             }
            },
            "type": "parcoords"
           }
          ],
          "pie": [
           {
            "automargin": true,
            "type": "pie"
           }
          ],
          "scatter": [
           {
            "fillpattern": {
             "fillmode": "overlay",
             "size": 10,
             "solidity": 0.2
            },
            "type": "scatter"
           }
          ],
          "scatter3d": [
           {
            "line": {
             "colorbar": {
              "outlinewidth": 0,
              "ticks": ""
             }
            },
            "marker": {
             "colorbar": {
              "outlinewidth": 0,
              "ticks": ""
             }
            },
            "type": "scatter3d"
           }
          ],
          "scattercarpet": [
           {
            "marker": {
             "colorbar": {
              "outlinewidth": 0,
              "ticks": ""
             }
            },
            "type": "scattercarpet"
           }
          ],
          "scattergeo": [
           {
            "marker": {
             "colorbar": {
              "outlinewidth": 0,
              "ticks": ""
             }
            },
            "type": "scattergeo"
           }
          ],
          "scattergl": [
           {
            "marker": {
             "colorbar": {
              "outlinewidth": 0,
              "ticks": ""
             }
            },
            "type": "scattergl"
           }
          ],
          "scattermapbox": [
           {
            "marker": {
             "colorbar": {
              "outlinewidth": 0,
              "ticks": ""
             }
            },
            "type": "scattermapbox"
           }
          ],
          "scatterpolar": [
           {
            "marker": {
             "colorbar": {
              "outlinewidth": 0,
              "ticks": ""
             }
            },
            "type": "scatterpolar"
           }
          ],
          "scatterpolargl": [
           {
            "marker": {
             "colorbar": {
              "outlinewidth": 0,
              "ticks": ""
             }
            },
            "type": "scatterpolargl"
           }
          ],
          "scatterternary": [
           {
            "marker": {
             "colorbar": {
              "outlinewidth": 0,
              "ticks": ""
             }
            },
            "type": "scatterternary"
           }
          ],
          "surface": [
           {
            "colorbar": {
             "outlinewidth": 0,
             "ticks": ""
            },
            "colorscale": [
             [
              0,
              "#0d0887"
             ],
             [
              0.1111111111111111,
              "#46039f"
             ],
             [
              0.2222222222222222,
              "#7201a8"
             ],
             [
              0.3333333333333333,
              "#9c179e"
             ],
             [
              0.4444444444444444,
              "#bd3786"
             ],
             [
              0.5555555555555556,
              "#d8576b"
             ],
             [
              0.6666666666666666,
              "#ed7953"
             ],
             [
              0.7777777777777778,
              "#fb9f3a"
             ],
             [
              0.8888888888888888,
              "#fdca26"
             ],
             [
              1,
              "#f0f921"
             ]
            ],
            "type": "surface"
           }
          ],
          "table": [
           {
            "cells": {
             "fill": {
              "color": "#EBF0F8"
             },
             "line": {
              "color": "white"
             }
            },
            "header": {
             "fill": {
              "color": "#C8D4E3"
             },
             "line": {
              "color": "white"
             }
            },
            "type": "table"
           }
          ]
         },
         "layout": {
          "annotationdefaults": {
           "arrowcolor": "#2a3f5f",
           "arrowhead": 0,
           "arrowwidth": 1
          },
          "autotypenumbers": "strict",
          "coloraxis": {
           "colorbar": {
            "outlinewidth": 0,
            "ticks": ""
           }
          },
          "colorscale": {
           "diverging": [
            [
             0,
             "#8e0152"
            ],
            [
             0.1,
             "#c51b7d"
            ],
            [
             0.2,
             "#de77ae"
            ],
            [
             0.3,
             "#f1b6da"
            ],
            [
             0.4,
             "#fde0ef"
            ],
            [
             0.5,
             "#f7f7f7"
            ],
            [
             0.6,
             "#e6f5d0"
            ],
            [
             0.7,
             "#b8e186"
            ],
            [
             0.8,
             "#7fbc41"
            ],
            [
             0.9,
             "#4d9221"
            ],
            [
             1,
             "#276419"
            ]
           ],
           "sequential": [
            [
             0,
             "#0d0887"
            ],
            [
             0.1111111111111111,
             "#46039f"
            ],
            [
             0.2222222222222222,
             "#7201a8"
            ],
            [
             0.3333333333333333,
             "#9c179e"
            ],
            [
             0.4444444444444444,
             "#bd3786"
            ],
            [
             0.5555555555555556,
             "#d8576b"
            ],
            [
             0.6666666666666666,
             "#ed7953"
            ],
            [
             0.7777777777777778,
             "#fb9f3a"
            ],
            [
             0.8888888888888888,
             "#fdca26"
            ],
            [
             1,
             "#f0f921"
            ]
           ],
           "sequentialminus": [
            [
             0,
             "#0d0887"
            ],
            [
             0.1111111111111111,
             "#46039f"
            ],
            [
             0.2222222222222222,
             "#7201a8"
            ],
            [
             0.3333333333333333,
             "#9c179e"
            ],
            [
             0.4444444444444444,
             "#bd3786"
            ],
            [
             0.5555555555555556,
             "#d8576b"
            ],
            [
             0.6666666666666666,
             "#ed7953"
            ],
            [
             0.7777777777777778,
             "#fb9f3a"
            ],
            [
             0.8888888888888888,
             "#fdca26"
            ],
            [
             1,
             "#f0f921"
            ]
           ]
          },
          "colorway": [
           "#636efa",
           "#EF553B",
           "#00cc96",
           "#ab63fa",
           "#FFA15A",
           "#19d3f3",
           "#FF6692",
           "#B6E880",
           "#FF97FF",
           "#FECB52"
          ],
          "font": {
           "color": "#2a3f5f"
          },
          "geo": {
           "bgcolor": "white",
           "lakecolor": "white",
           "landcolor": "#E5ECF6",
           "showlakes": true,
           "showland": true,
           "subunitcolor": "white"
          },
          "hoverlabel": {
           "align": "left"
          },
          "hovermode": "closest",
          "mapbox": {
           "style": "light"
          },
          "paper_bgcolor": "white",
          "plot_bgcolor": "#E5ECF6",
          "polar": {
           "angularaxis": {
            "gridcolor": "white",
            "linecolor": "white",
            "ticks": ""
           },
           "bgcolor": "#E5ECF6",
           "radialaxis": {
            "gridcolor": "white",
            "linecolor": "white",
            "ticks": ""
           }
          },
          "scene": {
           "xaxis": {
            "backgroundcolor": "#E5ECF6",
            "gridcolor": "white",
            "gridwidth": 2,
            "linecolor": "white",
            "showbackground": true,
            "ticks": "",
            "zerolinecolor": "white"
           },
           "yaxis": {
            "backgroundcolor": "#E5ECF6",
            "gridcolor": "white",
            "gridwidth": 2,
            "linecolor": "white",
            "showbackground": true,
            "ticks": "",
            "zerolinecolor": "white"
           },
           "zaxis": {
            "backgroundcolor": "#E5ECF6",
            "gridcolor": "white",
            "gridwidth": 2,
            "linecolor": "white",
            "showbackground": true,
            "ticks": "",
            "zerolinecolor": "white"
           }
          },
          "shapedefaults": {
           "line": {
            "color": "#2a3f5f"
           }
          },
          "ternary": {
           "aaxis": {
            "gridcolor": "white",
            "linecolor": "white",
            "ticks": ""
           },
           "baxis": {
            "gridcolor": "white",
            "linecolor": "white",
            "ticks": ""
           },
           "bgcolor": "#E5ECF6",
           "caxis": {
            "gridcolor": "white",
            "linecolor": "white",
            "ticks": ""
           }
          },
          "title": {
           "x": 0.05
          },
          "xaxis": {
           "automargin": true,
           "gridcolor": "white",
           "linecolor": "white",
           "ticks": "",
           "title": {
            "standoff": 15
           },
           "zerolinecolor": "white",
           "zerolinewidth": 2
          },
          "yaxis": {
           "automargin": true,
           "gridcolor": "white",
           "linecolor": "white",
           "ticks": "",
           "title": {
            "standoff": 15
           },
           "zerolinecolor": "white",
           "zerolinewidth": 2
          }
         }
        },
        "width": 525,
        "xaxis": {
         "anchor": "y",
         "domain": [
          0,
          1
         ],
         "gridcolor": "lightgrey",
         "mirror": true,
         "showgrid": true,
         "title": {
          "text": "$\\textrm{Statistical TPR Gap } (\\mathcal{SG}^{\\mathsf{TPR}})$"
         },
         "zeroline": true,
         "zerolinecolor": "lightgrey"
        },
        "yaxis": {
         "anchor": "x",
         "domain": [
          0,
          1
         ],
         "gridcolor": "lightgrey",
         "mirror": true,
         "showgrid": true,
         "title": {
          "text": "$\\textrm{Causal TPR Gap } (\\mathcal{CG}^{\\mathsf{TPR}})$"
         },
         "zeroline": true,
         "zerolinecolor": "lightgrey"
        }
       }
      },
      "text/html": [
       "<div>                            <div id=\"4bfe059e-136a-4c77-a0d2-1a820374df7b\" class=\"plotly-graph-div\" style=\"height:375px; width:525px;\"></div>            <script type=\"text/javascript\">                require([\"plotly\"], function(Plotly) {                    window.PLOTLYENV=window.PLOTLYENV || {};                                    if (document.getElementById(\"4bfe059e-136a-4c77-a0d2-1a820374df7b\")) {                    Plotly.newPlot(                        \"4bfe059e-136a-4c77-a0d2-1a820374df7b\",                        [{\"customdata\":[[\"accountant\"],[\"architect\"],[\"attorney\"],[\"chiropractor\"],[\"comedian\"],[\"composer\"],[\"dentist\"],[\"dietitian\"],[\"dj\"],[\"filmmaker\"],[\"interior_designer\"],[\"journalist\"],[\"model\"],[\"nurse\"],[\"painter\"],[\"paralegal\"],[\"pastor\"],[\"personal_trainer\"],[\"photographer\"],[\"physician\"],[\"poet\"],[\"professor\"],[\"psychologist\"],[\"rapper\"],[\"software_engineer\"],[\"surgeon\"],[\"teacher\"],[\"yoga_teacher\"]],\"hovertemplate\":\"statistical_parity=%{x}<br>causal_parity=%{y}<br>occupation=%{customdata[0]}<extra></extra>\",\"legendgroup\":\"\",\"marker\":{\"color\":\"#636efa\",\"symbol\":\"circle\",\"line\":{\"color\":\"DarkSlateGrey\",\"width\":1.5},\"size\":8.5},\"mode\":\"markers\",\"name\":\"\",\"orientation\":\"v\",\"showlegend\":false,\"x\":[-0.007040382571732229,-0.07471214317604324,-0.004820515471296027,0.018513498249181137,-0.09411923752872786,-0.03156379467734016,0.016745498221634625,0.12965829606696477,-0.0799848942598187,0.011458261489298072,0.12282051282051287,0.006153549120699875,0.11874896847664629,0.04969443220549863,0.014692079799281332,0.24725508553919484,0.07978500041992098,-0.05845301083396326,-0.011368007958629023,0.028986729032959846,0.05158133516342467,0.0002187566271105723,0.012329240006210607,-0.11373276776246022,-0.011706002064983845,-0.05233205289499898,0.021658867938733506,0.04789886039886038],\"xaxis\":\"x\",\"y\":[-0.003538570417551309,-0.014240506329113924,-0.0007362866609399927,-0.0015408320493066256,-0.0357653791130186,-0.0035714285714285713,0.002211166390270868,0.009054325955734407,0.01078167115902965,-0.005136986301369863,0.09041095890410959,0.009825546420693804,0.05386666666666667,0.015608521408985446,0.001034126163391934,0.04308390022675737,-0.023696682464454975,-0.030726256983240222,-0.005591185660253248,-0.0016595788818587283,0.001141552511415525,6.773461577539202e-05,-0.0017497812773403325,-0.03133903133903134,-0.008111239860950173,-0.0108499095840868,0.00395159298592245,0.03855421686746988],\"yaxis\":\"y\",\"type\":\"scatter\"},{\"line\":{\"color\":\"red\",\"dash\":\"dash\"},\"mode\":\"lines\",\"showlegend\":false,\"x\":[-0.05,0.15],\"y\":[-0.05,0.15],\"type\":\"scatter\"}],                        {\"template\":{\"data\":{\"histogram2dcontour\":[{\"type\":\"histogram2dcontour\",\"colorbar\":{\"outlinewidth\":0,\"ticks\":\"\"},\"colorscale\":[[0.0,\"#0d0887\"],[0.1111111111111111,\"#46039f\"],[0.2222222222222222,\"#7201a8\"],[0.3333333333333333,\"#9c179e\"],[0.4444444444444444,\"#bd3786\"],[0.5555555555555556,\"#d8576b\"],[0.6666666666666666,\"#ed7953\"],[0.7777777777777778,\"#fb9f3a\"],[0.8888888888888888,\"#fdca26\"],[1.0,\"#f0f921\"]]}],\"choropleth\":[{\"type\":\"choropleth\",\"colorbar\":{\"outlinewidth\":0,\"ticks\":\"\"}}],\"histogram2d\":[{\"type\":\"histogram2d\",\"colorbar\":{\"outlinewidth\":0,\"ticks\":\"\"},\"colorscale\":[[0.0,\"#0d0887\"],[0.1111111111111111,\"#46039f\"],[0.2222222222222222,\"#7201a8\"],[0.3333333333333333,\"#9c179e\"],[0.4444444444444444,\"#bd3786\"],[0.5555555555555556,\"#d8576b\"],[0.6666666666666666,\"#ed7953\"],[0.7777777777777778,\"#fb9f3a\"],[0.8888888888888888,\"#fdca26\"],[1.0,\"#f0f921\"]]}],\"heatmap\":[{\"type\":\"heatmap\",\"colorbar\":{\"outlinewidth\":0,\"ticks\":\"\"},\"colorscale\":[[0.0,\"#0d0887\"],[0.1111111111111111,\"#46039f\"],[0.2222222222222222,\"#7201a8\"],[0.3333333333333333,\"#9c179e\"],[0.4444444444444444,\"#bd3786\"],[0.5555555555555556,\"#d8576b\"],[0.6666666666666666,\"#ed7953\"],[0.7777777777777778,\"#fb9f3a\"],[0.8888888888888888,\"#fdca26\"],[1.0,\"#f0f921\"]]}],\"heatmapgl\":[{\"type\":\"heatmapgl\",\"colorbar\":{\"outlinewidth\":0,\"ticks\":\"\"},\"colorscale\":[[0.0,\"#0d0887\"],[0.1111111111111111,\"#46039f\"],[0.2222222222222222,\"#7201a8\"],[0.3333333333333333,\"#9c179e\"],[0.4444444444444444,\"#bd3786\"],[0.5555555555555556,\"#d8576b\"],[0.6666666666666666,\"#ed7953\"],[0.7777777777777778,\"#fb9f3a\"],[0.8888888888888888,\"#fdca26\"],[1.0,\"#f0f921\"]]}],\"contourcarpet\":[{\"type\":\"contourcarpet\",\"colorbar\":{\"outlinewidth\":0,\"ticks\":\"\"}}],\"contour\":[{\"type\":\"contour\",\"colorbar\":{\"outlinewidth\":0,\"ticks\":\"\"},\"colorscale\":[[0.0,\"#0d0887\"],[0.1111111111111111,\"#46039f\"],[0.2222222222222222,\"#7201a8\"],[0.3333333333333333,\"#9c179e\"],[0.4444444444444444,\"#bd3786\"],[0.5555555555555556,\"#d8576b\"],[0.6666666666666666,\"#ed7953\"],[0.7777777777777778,\"#fb9f3a\"],[0.8888888888888888,\"#fdca26\"],[1.0,\"#f0f921\"]]}],\"surface\":[{\"type\":\"surface\",\"colorbar\":{\"outlinewidth\":0,\"ticks\":\"\"},\"colorscale\":[[0.0,\"#0d0887\"],[0.1111111111111111,\"#46039f\"],[0.2222222222222222,\"#7201a8\"],[0.3333333333333333,\"#9c179e\"],[0.4444444444444444,\"#bd3786\"],[0.5555555555555556,\"#d8576b\"],[0.6666666666666666,\"#ed7953\"],[0.7777777777777778,\"#fb9f3a\"],[0.8888888888888888,\"#fdca26\"],[1.0,\"#f0f921\"]]}],\"mesh3d\":[{\"type\":\"mesh3d\",\"colorbar\":{\"outlinewidth\":0,\"ticks\":\"\"}}],\"scatter\":[{\"fillpattern\":{\"fillmode\":\"overlay\",\"size\":10,\"solidity\":0.2},\"type\":\"scatter\"}],\"parcoords\":[{\"type\":\"parcoords\",\"line\":{\"colorbar\":{\"outlinewidth\":0,\"ticks\":\"\"}}}],\"scatterpolargl\":[{\"type\":\"scatterpolargl\",\"marker\":{\"colorbar\":{\"outlinewidth\":0,\"ticks\":\"\"}}}],\"bar\":[{\"error_x\":{\"color\":\"#2a3f5f\"},\"error_y\":{\"color\":\"#2a3f5f\"},\"marker\":{\"line\":{\"color\":\"#E5ECF6\",\"width\":0.5},\"pattern\":{\"fillmode\":\"overlay\",\"size\":10,\"solidity\":0.2}},\"type\":\"bar\"}],\"scattergeo\":[{\"type\":\"scattergeo\",\"marker\":{\"colorbar\":{\"outlinewidth\":0,\"ticks\":\"\"}}}],\"scatterpolar\":[{\"type\":\"scatterpolar\",\"marker\":{\"colorbar\":{\"outlinewidth\":0,\"ticks\":\"\"}}}],\"histogram\":[{\"marker\":{\"pattern\":{\"fillmode\":\"overlay\",\"size\":10,\"solidity\":0.2}},\"type\":\"histogram\"}],\"scattergl\":[{\"type\":\"scattergl\",\"marker\":{\"colorbar\":{\"outlinewidth\":0,\"ticks\":\"\"}}}],\"scatter3d\":[{\"type\":\"scatter3d\",\"line\":{\"colorbar\":{\"outlinewidth\":0,\"ticks\":\"\"}},\"marker\":{\"colorbar\":{\"outlinewidth\":0,\"ticks\":\"\"}}}],\"scattermapbox\":[{\"type\":\"scattermapbox\",\"marker\":{\"colorbar\":{\"outlinewidth\":0,\"ticks\":\"\"}}}],\"scatterternary\":[{\"type\":\"scatterternary\",\"marker\":{\"colorbar\":{\"outlinewidth\":0,\"ticks\":\"\"}}}],\"scattercarpet\":[{\"type\":\"scattercarpet\",\"marker\":{\"colorbar\":{\"outlinewidth\":0,\"ticks\":\"\"}}}],\"carpet\":[{\"aaxis\":{\"endlinecolor\":\"#2a3f5f\",\"gridcolor\":\"white\",\"linecolor\":\"white\",\"minorgridcolor\":\"white\",\"startlinecolor\":\"#2a3f5f\"},\"baxis\":{\"endlinecolor\":\"#2a3f5f\",\"gridcolor\":\"white\",\"linecolor\":\"white\",\"minorgridcolor\":\"white\",\"startlinecolor\":\"#2a3f5f\"},\"type\":\"carpet\"}],\"table\":[{\"cells\":{\"fill\":{\"color\":\"#EBF0F8\"},\"line\":{\"color\":\"white\"}},\"header\":{\"fill\":{\"color\":\"#C8D4E3\"},\"line\":{\"color\":\"white\"}},\"type\":\"table\"}],\"barpolar\":[{\"marker\":{\"line\":{\"color\":\"#E5ECF6\",\"width\":0.5},\"pattern\":{\"fillmode\":\"overlay\",\"size\":10,\"solidity\":0.2}},\"type\":\"barpolar\"}],\"pie\":[{\"automargin\":true,\"type\":\"pie\"}]},\"layout\":{\"autotypenumbers\":\"strict\",\"colorway\":[\"#636efa\",\"#EF553B\",\"#00cc96\",\"#ab63fa\",\"#FFA15A\",\"#19d3f3\",\"#FF6692\",\"#B6E880\",\"#FF97FF\",\"#FECB52\"],\"font\":{\"color\":\"#2a3f5f\"},\"hovermode\":\"closest\",\"hoverlabel\":{\"align\":\"left\"},\"paper_bgcolor\":\"white\",\"plot_bgcolor\":\"#E5ECF6\",\"polar\":{\"bgcolor\":\"#E5ECF6\",\"angularaxis\":{\"gridcolor\":\"white\",\"linecolor\":\"white\",\"ticks\":\"\"},\"radialaxis\":{\"gridcolor\":\"white\",\"linecolor\":\"white\",\"ticks\":\"\"}},\"ternary\":{\"bgcolor\":\"#E5ECF6\",\"aaxis\":{\"gridcolor\":\"white\",\"linecolor\":\"white\",\"ticks\":\"\"},\"baxis\":{\"gridcolor\":\"white\",\"linecolor\":\"white\",\"ticks\":\"\"},\"caxis\":{\"gridcolor\":\"white\",\"linecolor\":\"white\",\"ticks\":\"\"}},\"coloraxis\":{\"colorbar\":{\"outlinewidth\":0,\"ticks\":\"\"}},\"colorscale\":{\"sequential\":[[0.0,\"#0d0887\"],[0.1111111111111111,\"#46039f\"],[0.2222222222222222,\"#7201a8\"],[0.3333333333333333,\"#9c179e\"],[0.4444444444444444,\"#bd3786\"],[0.5555555555555556,\"#d8576b\"],[0.6666666666666666,\"#ed7953\"],[0.7777777777777778,\"#fb9f3a\"],[0.8888888888888888,\"#fdca26\"],[1.0,\"#f0f921\"]],\"sequentialminus\":[[0.0,\"#0d0887\"],[0.1111111111111111,\"#46039f\"],[0.2222222222222222,\"#7201a8\"],[0.3333333333333333,\"#9c179e\"],[0.4444444444444444,\"#bd3786\"],[0.5555555555555556,\"#d8576b\"],[0.6666666666666666,\"#ed7953\"],[0.7777777777777778,\"#fb9f3a\"],[0.8888888888888888,\"#fdca26\"],[1.0,\"#f0f921\"]],\"diverging\":[[0,\"#8e0152\"],[0.1,\"#c51b7d\"],[0.2,\"#de77ae\"],[0.3,\"#f1b6da\"],[0.4,\"#fde0ef\"],[0.5,\"#f7f7f7\"],[0.6,\"#e6f5d0\"],[0.7,\"#b8e186\"],[0.8,\"#7fbc41\"],[0.9,\"#4d9221\"],[1,\"#276419\"]]},\"xaxis\":{\"gridcolor\":\"white\",\"linecolor\":\"white\",\"ticks\":\"\",\"title\":{\"standoff\":15},\"zerolinecolor\":\"white\",\"automargin\":true,\"zerolinewidth\":2},\"yaxis\":{\"gridcolor\":\"white\",\"linecolor\":\"white\",\"ticks\":\"\",\"title\":{\"standoff\":15},\"zerolinecolor\":\"white\",\"automargin\":true,\"zerolinewidth\":2},\"scene\":{\"xaxis\":{\"backgroundcolor\":\"#E5ECF6\",\"gridcolor\":\"white\",\"linecolor\":\"white\",\"showbackground\":true,\"ticks\":\"\",\"zerolinecolor\":\"white\",\"gridwidth\":2},\"yaxis\":{\"backgroundcolor\":\"#E5ECF6\",\"gridcolor\":\"white\",\"linecolor\":\"white\",\"showbackground\":true,\"ticks\":\"\",\"zerolinecolor\":\"white\",\"gridwidth\":2},\"zaxis\":{\"backgroundcolor\":\"#E5ECF6\",\"gridcolor\":\"white\",\"linecolor\":\"white\",\"showbackground\":true,\"ticks\":\"\",\"zerolinecolor\":\"white\",\"gridwidth\":2}},\"shapedefaults\":{\"line\":{\"color\":\"#2a3f5f\"}},\"annotationdefaults\":{\"arrowcolor\":\"#2a3f5f\",\"arrowhead\":0,\"arrowwidth\":1},\"geo\":{\"bgcolor\":\"white\",\"landcolor\":\"#E5ECF6\",\"subunitcolor\":\"white\",\"showland\":true,\"showlakes\":true,\"lakecolor\":\"white\"},\"title\":{\"x\":0.05},\"mapbox\":{\"style\":\"light\"}}},\"xaxis\":{\"anchor\":\"y\",\"domain\":[0.0,1.0],\"title\":{\"text\":\"$\\\\textrm{Statistical TPR Gap } (\\\\mathcal{SG}^{\\\\mathsf{TPR}})$\"},\"mirror\":true,\"showgrid\":true,\"zeroline\":true,\"zerolinecolor\":\"lightgrey\",\"gridcolor\":\"lightgrey\"},\"yaxis\":{\"anchor\":\"x\",\"domain\":[0.0,1.0],\"title\":{\"text\":\"$\\\\textrm{Causal TPR Gap } (\\\\mathcal{CG}^{\\\\mathsf{TPR}})$\"},\"mirror\":true,\"showgrid\":true,\"zeroline\":true,\"zerolinecolor\":\"lightgrey\",\"gridcolor\":\"lightgrey\"},\"legend\":{\"tracegroupgap\":0},\"margin\":{\"t\":20,\"l\":15,\"r\":15,\"b\":20},\"font\":{\"size\":15},\"autosize\":false,\"width\":525,\"height\":375,\"plot_bgcolor\":\"white\",\"shapes\":[{\"fillcolor\":\"grey\",\"opacity\":0.2,\"type\":\"rect\",\"x0\":0,\"x1\":0.3,\"y0\":0,\"y1\":-0.05},{\"fillcolor\":\"grey\",\"opacity\":0.2,\"type\":\"rect\",\"x0\":0,\"x1\":-0.15,\"y0\":0,\"y1\":0.15}],\"annotations\":[{\"showarrow\":false,\"text\":\"pastor\",\"x\":0.07978500041992098,\"xshift\":25,\"y\":-0.023696682464454975,\"yshift\":-8},{\"showarrow\":false,\"text\":\"poet\",\"x\":0.05158133516342467,\"xshift\":23,\"y\":0.001141552511415525,\"yshift\":-3},{\"showarrow\":false,\"text\":\"paralegal\",\"x\":0.24725508553919484,\"xshift\":0,\"y\":0.04308390022675737,\"yshift\":15},{\"showarrow\":false,\"text\":\"interior_designer\",\"x\":0.12282051282051287,\"xshift\":0,\"y\":0.09041095890410959,\"yshift\":15},{\"showarrow\":false,\"text\":\"model\",\"x\":0.11874896847664629,\"xshift\":0,\"y\":0.05386666666666667,\"yshift\":15},{\"showarrow\":false,\"text\":\"dj\",\"x\":-0.0799848942598187,\"xshift\":0,\"y\":0.01078167115902965,\"yshift\":15},{\"showarrow\":false,\"text\":\"rapper\",\"x\":-0.11373276776246022,\"xshift\":0,\"y\":-0.03133903133903134,\"yshift\":15},{\"showarrow\":false,\"text\":\"comedian\",\"x\":-0.09411923752872786,\"xshift\":-5,\"y\":-0.0357653791130186,\"yshift\":-12},{\"showarrow\":false,\"text\":\"dietitian\",\"x\":0.12965829606696477,\"xshift\":0,\"y\":0.009054325955734407,\"yshift\":15},{\"showarrow\":false,\"text\":\"personal_trainer\",\"x\":-0.05845301083396326,\"xshift\":48,\"y\":-0.030726256983240222,\"yshift\":-8},{\"showarrow\":false,\"text\":\"yoga_teacher\",\"x\":0.04789886039886038,\"xshift\":0,\"y\":0.03855421686746988,\"yshift\":15}]},                        {\"responsive\": true}                    ).then(function(){\n",
       "                            \n",
       "var gd = document.getElementById('4bfe059e-136a-4c77-a0d2-1a820374df7b');\n",
       "var x = new MutationObserver(function (mutations, observer) {{\n",
       "        var display = window.getComputedStyle(gd).display;\n",
       "        if (!display || display === 'none') {{\n",
       "            console.log([gd, 'removed!']);\n",
       "            Plotly.purge(gd);\n",
       "            observer.disconnect();\n",
       "        }}\n",
       "}});\n",
       "\n",
       "// Listen for the removal of the full notebook cells\n",
       "var notebookContainer = gd.closest('#notebook-container');\n",
       "if (notebookContainer) {{\n",
       "    x.observe(notebookContainer, {childList: true});\n",
       "}}\n",
       "\n",
       "// Listen for the clearing of the current output cell\n",
       "var outputEl = gd.closest('.output');\n",
       "if (outputEl) {{\n",
       "    x.observe(outputEl, {childList: true});\n",
       "}}\n",
       "\n",
       "                        })                };                });            </script>        </div>"
      ]
     },
     "metadata": {},
     "output_type": "display_data"
    }
   ],
   "source": [
    "preds = load_preds(all_paths[\"Baseline\"])\n",
    "tpr_results = get_results(preds)\n",
    "\n",
    "fig = px.scatter(tpr_results, x=\"statistical_parity\", y=\"causal_parity\", hover_data=[\"occupation\"])\n",
    "fig.update_layout(\n",
    "    autosize=False,\n",
    "    width=525,\n",
    "    height=375,\n",
    "    plot_bgcolor='white',\n",
    "    font=dict(size=15),\n",
    "    xaxis_title=r\"$\\textrm{Statistical TPR Gap } (\\mathcal{SG}^{\\mathsf{TPR}})$\",\n",
    "    yaxis_title=r\"$\\textrm{Causal TPR Gap } (\\mathcal{CG}^{\\mathsf{TPR}})$\",\n",
    "    margin=dict(l=15, r=15, t=20, b=20),\n",
    ")\n",
    "fig.update_xaxes(\n",
    "    mirror=True,\n",
    "    showgrid=True,\n",
    "    zeroline = True,\n",
    "    zerolinecolor='lightgrey',\n",
    "    gridcolor='lightgrey'\n",
    ")\n",
    "fig.update_yaxes(\n",
    "    mirror=True,\n",
    "    showgrid=True,\n",
    "    zeroline = True,\n",
    "    zerolinecolor='lightgrey',\n",
    "    gridcolor='lightgrey',\n",
    ")\n",
    "fig.add_shape(type=\"rect\", x0=0, y0=0, x1=0.3, y1=-0.05, fillcolor=\"grey\", opacity=0.2)\n",
    "fig.add_shape(type=\"rect\", x0=0, y0=0, x1=-0.15, y1=0.15, fillcolor=\"grey\", opacity=0.2)\n",
    "fig.update_traces(marker={'size': 8.5, \"line\": {\"width\": 1.5, \"color\": \"DarkSlateGrey\"}})\n",
    "sampled_occupations = [\n",
    "    \"pastor\", \"poet\", \"paralegal\", \"interior_designer\", \n",
    "    \"model\", \"dj\", \"rapper\", \"comedian\", \"dietitian\", \n",
    "    \"personal_trainer\", \"yoga_teacher\"]\n",
    "\n",
    "for occupation in sampled_occupations:\n",
    "    if occupation  == \"poet\":\n",
    "        xshift = 23\n",
    "        yshift = -3\n",
    "    elif occupation == \"pastor\":\n",
    "        xshift = 25\n",
    "        yshift = -8\n",
    "    elif occupation == \"comedian\":\n",
    "        yshift = -12\n",
    "        xshift = -5\n",
    "    elif occupation == \"personal_trainer\":\n",
    "        xshift = 48\n",
    "        yshift = -8\n",
    "    else:\n",
    "        yshift = 15\n",
    "        xshift = 0\n",
    "\n",
    "    fig.add_annotation(\n",
    "            x=tpr_results[tpr_results.occupation == occupation].statistical_parity.item(), \n",
    "            y=tpr_results[tpr_results.occupation == occupation].causal_parity.item(),\n",
    "            text=occupation,\n",
    "            showarrow=False,\n",
    "            yshift=yshift,\n",
    "            xshift=xshift\n",
    "    )\n",
    "fig.add_trace(go.Scatter(x=[-0.05, 0.15], y=[-0.05, 0.15], mode=\"lines\", line=dict(dash=\"dash\", color=\"red\"), showlegend=False))\n",
    "fig.show()"
   ]
  }
 ],
 "metadata": {
  "kernelspec": {
   "display_name": "Python 3",
   "language": "python",
   "name": "python3"
  },
  "language_info": {
   "codemirror_mode": {
    "name": "ipython",
    "version": 3
   },
   "file_extension": ".py",
   "mimetype": "text/x-python",
   "name": "python",
   "nbconvert_exporter": "python",
   "pygments_lexer": "ipython3",
   "version": "3.8.5"
  }
 },
 "nbformat": 4,
 "nbformat_minor": 2
}
