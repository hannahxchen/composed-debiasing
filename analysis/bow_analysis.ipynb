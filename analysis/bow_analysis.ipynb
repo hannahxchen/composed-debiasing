{
 "cells": [
  {
   "cell_type": "code",
   "execution_count": null,
   "metadata": {},
   "outputs": [],
   "source": [
    "import os, re\n",
    "import pickle\n",
    "from copy import deepcopy\n",
    "from tqdm import tqdm\n",
    "import pandas as pd\n",
    "import numpy as np\n",
    "from datasets import load_dataset\n",
    "import plotly.express as px\n",
    "import plotly.graph_objects as go\n",
    "from plotly.subplots import make_subplots\n",
    "from sklearn.feature_extraction.text import CountVectorizer\n",
    "from sklearn.linear_model import LogisticRegression\n",
    "from sklearn.feature_extraction import _stop_words"
   ]
  },
  {
   "cell_type": "code",
   "execution_count": 2,
   "metadata": {},
   "outputs": [
    {
     "name": "stderr",
     "output_type": "stream",
     "text": [
      "Using custom data configuration default-c180d2606892c537\n",
      "Reusing dataset json (/home/hannahchen/.var/app/com.visualstudio.code/cache/huggingface/datasets/json/default-c180d2606892c537/0.0.0/83d5b3a2f62630efc6b5315f00f20209b4ad91a00ac586597caee3a4da0bef02)\n"
     ]
    }
   ],
   "source": [
    "data_files = {\n",
    "    \"train\": \"../datasets/Biasbios/train.json\",\n",
    "    \"valid\": \"../datasets/Biasbios/valid.json\",\n",
    "    \"test\": \"../datasets/Biasbios/test.json\"\n",
    "}\n",
    "dataset = load_dataset(\"json\", data_files=data_files)"
   ]
  },
  {
   "cell_type": "code",
   "execution_count": 42,
   "metadata": {},
   "outputs": [],
   "source": [
    "vectorizer = CountVectorizer(max_features=85000)\n",
    "X_train = vectorizer.fit_transform(dataset[\"train\"][\"title_scrubbed\"])\n",
    "y_train = dataset[\"train\"][\"title\"]\n",
    "\n",
    "X_valid = vectorizer.transform(dataset[\"valid\"][\"title_scrubbed\"])\n",
    "y_valid = dataset[\"valid\"][\"title\"]\n",
    "X_test = vectorizer.transform(dataset[\"test\"][\"title_scrubbed\"])\n",
    "y_test = dataset[\"test\"][\"title\"]\n",
    "\n",
    "X_gender_swap_test = vectorizer.transform(dataset[\"test\"][\"title_scrubbed_gender_swapped\"])"
   ]
  },
  {
   "cell_type": "code",
   "execution_count": null,
   "metadata": {},
   "outputs": [
    {
     "name": "stderr",
     "output_type": "stream",
     "text": [
      "/home/hannahchen/anaconda3/lib/python3.8/site-packages/sklearn/linear_model/_logistic.py:444: ConvergenceWarning: lbfgs failed to converge (status=1):\n",
      "STOP: TOTAL NO. of ITERATIONS REACHED LIMIT.\n",
      "\n",
      "Increase the number of iterations (max_iter) or scale the data as shown in:\n",
      "    https://scikit-learn.org/stable/modules/preprocessing.html\n",
      "Please also refer to the documentation for alternative solver options:\n",
      "    https://scikit-learn.org/stable/modules/linear_model.html#logistic-regression\n",
      "  n_iter_i = _check_optimize_result(\n"
     ]
    },
    {
     "data": {
      "text/html": [
       "<style>#sk-container-id-1 {color: black;background-color: white;}#sk-container-id-1 pre{padding: 0;}#sk-container-id-1 div.sk-toggleable {background-color: white;}#sk-container-id-1 label.sk-toggleable__label {cursor: pointer;display: block;width: 100%;margin-bottom: 0;padding: 0.3em;box-sizing: border-box;text-align: center;}#sk-container-id-1 label.sk-toggleable__label-arrow:before {content: \"▸\";float: left;margin-right: 0.25em;color: #696969;}#sk-container-id-1 label.sk-toggleable__label-arrow:hover:before {color: black;}#sk-container-id-1 div.sk-estimator:hover label.sk-toggleable__label-arrow:before {color: black;}#sk-container-id-1 div.sk-toggleable__content {max-height: 0;max-width: 0;overflow: hidden;text-align: left;background-color: #f0f8ff;}#sk-container-id-1 div.sk-toggleable__content pre {margin: 0.2em;color: black;border-radius: 0.25em;background-color: #f0f8ff;}#sk-container-id-1 input.sk-toggleable__control:checked~div.sk-toggleable__content {max-height: 200px;max-width: 100%;overflow: auto;}#sk-container-id-1 input.sk-toggleable__control:checked~label.sk-toggleable__label-arrow:before {content: \"▾\";}#sk-container-id-1 div.sk-estimator input.sk-toggleable__control:checked~label.sk-toggleable__label {background-color: #d4ebff;}#sk-container-id-1 div.sk-label input.sk-toggleable__control:checked~label.sk-toggleable__label {background-color: #d4ebff;}#sk-container-id-1 input.sk-hidden--visually {border: 0;clip: rect(1px 1px 1px 1px);clip: rect(1px, 1px, 1px, 1px);height: 1px;margin: -1px;overflow: hidden;padding: 0;position: absolute;width: 1px;}#sk-container-id-1 div.sk-estimator {font-family: monospace;background-color: #f0f8ff;border: 1px dotted black;border-radius: 0.25em;box-sizing: border-box;margin-bottom: 0.5em;}#sk-container-id-1 div.sk-estimator:hover {background-color: #d4ebff;}#sk-container-id-1 div.sk-parallel-item::after {content: \"\";width: 100%;border-bottom: 1px solid gray;flex-grow: 1;}#sk-container-id-1 div.sk-label:hover label.sk-toggleable__label {background-color: #d4ebff;}#sk-container-id-1 div.sk-serial::before {content: \"\";position: absolute;border-left: 1px solid gray;box-sizing: border-box;top: 0;bottom: 0;left: 50%;z-index: 0;}#sk-container-id-1 div.sk-serial {display: flex;flex-direction: column;align-items: center;background-color: white;padding-right: 0.2em;padding-left: 0.2em;position: relative;}#sk-container-id-1 div.sk-item {position: relative;z-index: 1;}#sk-container-id-1 div.sk-parallel {display: flex;align-items: stretch;justify-content: center;background-color: white;position: relative;}#sk-container-id-1 div.sk-item::before, #sk-container-id-1 div.sk-parallel-item::before {content: \"\";position: absolute;border-left: 1px solid gray;box-sizing: border-box;top: 0;bottom: 0;left: 50%;z-index: -1;}#sk-container-id-1 div.sk-parallel-item {display: flex;flex-direction: column;z-index: 1;position: relative;background-color: white;}#sk-container-id-1 div.sk-parallel-item:first-child::after {align-self: flex-end;width: 50%;}#sk-container-id-1 div.sk-parallel-item:last-child::after {align-self: flex-start;width: 50%;}#sk-container-id-1 div.sk-parallel-item:only-child::after {width: 0;}#sk-container-id-1 div.sk-dashed-wrapped {border: 1px dashed gray;margin: 0 0.4em 0.5em 0.4em;box-sizing: border-box;padding-bottom: 0.4em;background-color: white;}#sk-container-id-1 div.sk-label label {font-family: monospace;font-weight: bold;display: inline-block;line-height: 1.2em;}#sk-container-id-1 div.sk-label-container {text-align: center;}#sk-container-id-1 div.sk-container {/* jupyter's `normalize.less` sets `[hidden] { display: none; }` but bootstrap.min.css set `[hidden] { display: none !important; }` so we also need the `!important` here to be able to override the default hidden behavior on the sphinx rendered scikit-learn.org. See: https://github.com/scikit-learn/scikit-learn/issues/21755 */display: inline-block !important;position: relative;}#sk-container-id-1 div.sk-text-repr-fallback {display: none;}</style><div id=\"sk-container-id-1\" class=\"sk-top-container\"><div class=\"sk-text-repr-fallback\"><pre>LogisticRegression(n_jobs=12)</pre><b>In a Jupyter environment, please rerun this cell to show the HTML representation or trust the notebook. <br />On GitHub, the HTML representation is unable to render, please try loading this page with nbviewer.org.</b></div><div class=\"sk-container\" hidden><div class=\"sk-item\"><div class=\"sk-estimator sk-toggleable\"><input class=\"sk-toggleable__control sk-hidden--visually\" id=\"sk-estimator-id-1\" type=\"checkbox\" checked><label for=\"sk-estimator-id-1\" class=\"sk-toggleable__label sk-toggleable__label-arrow\">LogisticRegression</label><div class=\"sk-toggleable__content\"><pre>LogisticRegression(n_jobs=12)</pre></div></div></div></div></div>"
      ],
      "text/plain": [
       "LogisticRegression(n_jobs=12)"
      ]
     },
     "execution_count": 5,
     "metadata": {},
     "output_type": "execute_result"
    }
   ],
   "source": [
    "model = LogisticRegression(solver=\"lbfgs\", n_jobs=12)\n",
    "model.fit(X_train, y_train)"
   ]
  },
  {
   "cell_type": "code",
   "execution_count": 3,
   "metadata": {},
   "outputs": [],
   "source": [
    "# with open(\"models/BoW/bow_vectorizer.pkl\", \"wb\") as f:\n",
    "#     pickle.dump(vectorizer, f)\n",
    "# with open(\"models/BoW/bow_model.pkl\", \"wb\") as f:\n",
    "#     pickle.dump(model, f)\n",
    "\n",
    "with open(\"models/biasbios/BoW/bow_vectorizer.pkl\", \"rb\") as f:\n",
    "    vectorizer = pickle.load(f)\n",
    "with open(\"models/biasbios/BoW/bow_model.pkl\", \"rb\") as f:\n",
    "    model = pickle.load(f)"
   ]
  },
  {
   "cell_type": "code",
   "execution_count": 6,
   "metadata": {},
   "outputs": [],
   "source": [
    "def get_accuracy_by_occcupation(preds):\n",
    "    temp = preds.loc[preds[\"label\"] == preds.title_scrubbed_pred]\n",
    "    temp = temp.groupby(\"label\").size().to_frame(\"count\").reset_index()\n",
    "    temp2 = preds.groupby(\"label\").size().to_frame(\"total_count\").reset_index()\n",
    "    acc_df = pd.merge(temp, temp2, on=\"label\")\n",
    "    acc_df[\"acc\"] = acc_df[\"count\"]/acc_df[\"total_count\"]\n",
    "    acc_df\n",
    "    return acc_df[[\"label\", \"acc\"]]\n",
    "\n",
    "def TPR_gap(df, occupation, causal=False):\n",
    "    if causal:\n",
    "        temp = df.loc[df[\"label\"] == occupation]\n",
    "        female = temp.loc[temp.gender == \"F\"].copy()\n",
    "        male = temp.loc[temp.gender == \"M\"].copy()\n",
    "        female[\"factual\"] = (female.title_scrubbed_pred == female[\"label\"]).astype(int)\n",
    "        female[\"counterfactual\"] = (female.title_scrubbed_gender_swapped_pred == female[\"label\"]).astype(int)\n",
    "        male[\"factual\"] = (male.title_scrubbed_pred == male[\"label\"]).astype(int)\n",
    "        male[\"counterfactual\"] = (male.title_scrubbed_gender_swapped_pred == male[\"label\"]).astype(int)\n",
    "        female[\"gap\"] =  female.factual - female.counterfactual\n",
    "        male[\"gap\"] = male.counterfactual - male.factual\n",
    "        return (female[\"gap\"].sum() + male[\"gap\"].sum())/(female.shape[0]+male.shape[0])\n",
    "    else:\n",
    "        female_tpr = df[(df.title_scrubbed_pred == occupation) & (df[\"label\"] == occupation) & (df.gender == \"F\")].shape[0]\n",
    "        female_tpr /= df[(df.gender == \"F\") & (df[\"label\"] == occupation)].shape[0]\n",
    "        male_tpr = df[(df.title_scrubbed_pred == occupation) & (df[\"label\"] == occupation) & (df.gender == \"M\")].shape[0]\n",
    "        male_tpr /= df[(df.gender == \"M\") & (df[\"label\"] == occupation)].shape[0]\n",
    "        return female_tpr - male_tpr\n",
    "\n",
    "def get_results(preds):\n",
    "    df = preds\n",
    "\n",
    "    occupation_list = preds[\"label\"].unique().tolist()\n",
    "    statistical_parity = []\n",
    "\n",
    "    for occupation in occupation_list:\n",
    "        statistical_parity.append(TPR_gap(df, occupation))\n",
    "\n",
    "    causal_parity = []\n",
    "\n",
    "    for occupation in occupation_list:\n",
    "        causal_parity.append(TPR_gap(df, occupation, causal=True))\n",
    "\n",
    "    df = pd.DataFrame({\"occupation\": occupation_list, \"statistical_parity\": statistical_parity, \"causal_parity\": causal_parity})\n",
    "    return df.sort_values(\"occupation\")"
   ]
  },
  {
   "cell_type": "code",
   "execution_count": 7,
   "metadata": {},
   "outputs": [
    {
     "data": {
      "text/html": [
       "<div>\n",
       "<style scoped>\n",
       "    .dataframe tbody tr th:only-of-type {\n",
       "        vertical-align: middle;\n",
       "    }\n",
       "\n",
       "    .dataframe tbody tr th {\n",
       "        vertical-align: top;\n",
       "    }\n",
       "\n",
       "    .dataframe thead th {\n",
       "        text-align: right;\n",
       "    }\n",
       "</style>\n",
       "<table border=\"1\" class=\"dataframe\">\n",
       "  <thead>\n",
       "    <tr style=\"text-align: right;\">\n",
       "      <th></th>\n",
       "      <th>gender</th>\n",
       "      <th>title_scrubbed</th>\n",
       "      <th>label</th>\n",
       "      <th>title_scrubbed_pred</th>\n",
       "      <th>title_scrubbed_gender_swapped_pred</th>\n",
       "    </tr>\n",
       "  </thead>\n",
       "  <tbody>\n",
       "    <tr>\n",
       "      <th>0</th>\n",
       "      <td>M</td>\n",
       "      <td>Mark Chauvin Bezinque, Esq. is an _ who focuse...</td>\n",
       "      <td>attorney</td>\n",
       "      <td>attorney</td>\n",
       "      <td>attorney</td>\n",
       "    </tr>\n",
       "    <tr>\n",
       "      <th>1</th>\n",
       "      <td>M</td>\n",
       "      <td>Farid Abdel-Nour is an _ of political science ...</td>\n",
       "      <td>professor</td>\n",
       "      <td>professor</td>\n",
       "      <td>professor</td>\n",
       "    </tr>\n",
       "    <tr>\n",
       "      <th>2</th>\n",
       "      <td>M</td>\n",
       "      <td>Sergio F. Ochoa is an _ of Computer Science at...</td>\n",
       "      <td>professor</td>\n",
       "      <td>professor</td>\n",
       "      <td>professor</td>\n",
       "    </tr>\n",
       "    <tr>\n",
       "      <th>3</th>\n",
       "      <td>M</td>\n",
       "      <td>Phillip Coppola is an _ of law. He teaches Con...</td>\n",
       "      <td>professor</td>\n",
       "      <td>professor</td>\n",
       "      <td>professor</td>\n",
       "    </tr>\n",
       "    <tr>\n",
       "      <th>4</th>\n",
       "      <td>M</td>\n",
       "      <td>Alan Farmer is a former _ trainer. He discusse...</td>\n",
       "      <td>teacher</td>\n",
       "      <td>teacher</td>\n",
       "      <td>teacher</td>\n",
       "    </tr>\n",
       "    <tr>\n",
       "      <th>...</th>\n",
       "      <td>...</td>\n",
       "      <td>...</td>\n",
       "      <td>...</td>\n",
       "      <td>...</td>\n",
       "      <td>...</td>\n",
       "    </tr>\n",
       "    <tr>\n",
       "      <th>98334</th>\n",
       "      <td>F</td>\n",
       "      <td>Ani Vartazarian is a staff _ at Counseling and...</td>\n",
       "      <td>psychologist</td>\n",
       "      <td>psychologist</td>\n",
       "      <td>psychologist</td>\n",
       "    </tr>\n",
       "    <tr>\n",
       "      <th>98335</th>\n",
       "      <td>F</td>\n",
       "      <td>Julia Stacey is a paraprofessional _ at APL. S...</td>\n",
       "      <td>teacher</td>\n",
       "      <td>teacher</td>\n",
       "      <td>teacher</td>\n",
       "    </tr>\n",
       "    <tr>\n",
       "      <th>98336</th>\n",
       "      <td>F</td>\n",
       "      <td>Mariam Noronha is a _ with over nine years of ...</td>\n",
       "      <td>teacher</td>\n",
       "      <td>teacher</td>\n",
       "      <td>teacher</td>\n",
       "    </tr>\n",
       "    <tr>\n",
       "      <th>98337</th>\n",
       "      <td>F</td>\n",
       "      <td>Dr. Kelly Bowers is a licensed _. She received...</td>\n",
       "      <td>psychologist</td>\n",
       "      <td>psychologist</td>\n",
       "      <td>psychologist</td>\n",
       "    </tr>\n",
       "    <tr>\n",
       "      <th>98338</th>\n",
       "      <td>F</td>\n",
       "      <td>Alysia is an _ in the Tax, Trusts and Estate D...</td>\n",
       "      <td>attorney</td>\n",
       "      <td>attorney</td>\n",
       "      <td>attorney</td>\n",
       "    </tr>\n",
       "  </tbody>\n",
       "</table>\n",
       "<p>98339 rows × 5 columns</p>\n",
       "</div>"
      ],
      "text/plain": [
       "      gender                                     title_scrubbed         label  \\\n",
       "0          M  Mark Chauvin Bezinque, Esq. is an _ who focuse...      attorney   \n",
       "1          M  Farid Abdel-Nour is an _ of political science ...     professor   \n",
       "2          M  Sergio F. Ochoa is an _ of Computer Science at...     professor   \n",
       "3          M  Phillip Coppola is an _ of law. He teaches Con...     professor   \n",
       "4          M  Alan Farmer is a former _ trainer. He discusse...       teacher   \n",
       "...      ...                                                ...           ...   \n",
       "98334      F  Ani Vartazarian is a staff _ at Counseling and...  psychologist   \n",
       "98335      F  Julia Stacey is a paraprofessional _ at APL. S...       teacher   \n",
       "98336      F  Mariam Noronha is a _ with over nine years of ...       teacher   \n",
       "98337      F  Dr. Kelly Bowers is a licensed _. She received...  psychologist   \n",
       "98338      F  Alysia is an _ in the Tax, Trusts and Estate D...      attorney   \n",
       "\n",
       "      title_scrubbed_pred title_scrubbed_gender_swapped_pred  \n",
       "0                attorney                           attorney  \n",
       "1               professor                          professor  \n",
       "2               professor                          professor  \n",
       "3               professor                          professor  \n",
       "4                 teacher                            teacher  \n",
       "...                   ...                                ...  \n",
       "98334        psychologist                       psychologist  \n",
       "98335             teacher                            teacher  \n",
       "98336             teacher                            teacher  \n",
       "98337        psychologist                       psychologist  \n",
       "98338            attorney                           attorney  \n",
       "\n",
       "[98339 rows x 5 columns]"
      ]
     },
     "execution_count": 7,
     "metadata": {},
     "output_type": "execute_result"
    }
   ],
   "source": [
    "base_preds = pd.DataFrame({\n",
    "    \"gender\": dataset[\"test\"][\"gender\"], \n",
    "    \"title_scrubbed\": dataset[\"test\"][\"title_scrubbed\"], \"label\": dataset[\"test\"][\"title\"]\n",
    "})\n",
    "base_preds[\"title_scrubbed_pred\"] = model.predict(X_test)\n",
    "base_preds['title_scrubbed_gender_swapped_pred'] = model.predict(X_gender_swap_test)\n",
    "base_preds"
   ]
  },
  {
   "cell_type": "code",
   "execution_count": 8,
   "metadata": {},
   "outputs": [],
   "source": [
    "female_gender_tokens = [\"she\", \"her\", \"hers\", \"herself\", \"mrs\", \"ms\"]\n",
    "female_gender_token_idxs = []\n",
    "male_gender_tokens = [\"he\", \"his\", \"him\", \"himself\", \"mr\"]\n",
    "male_gender_token_idxs = []\n",
    "gender_token_idxs = []\n",
    "\n",
    "for token in female_gender_tokens:\n",
    "    female_gender_token_idxs.append(vectorizer.vocabulary_[token])\n",
    "    gender_token_idxs.append(vectorizer.vocabulary_[token])\n",
    "\n",
    "for token in male_gender_tokens:\n",
    "    male_gender_token_idxs.append(vectorizer.vocabulary_[token])\n",
    "    gender_token_idxs.append(vectorizer.vocabulary_[token])"
   ]
  },
  {
   "cell_type": "code",
   "execution_count": 26,
   "metadata": {},
   "outputs": [],
   "source": [
    "occupation_list = list(set(dataset[\"test\"][\"title\"]))\n",
    "\n",
    "def get_reweighted_statistical_TPR_gap(X_test, gender=\"F\", w_min=1.0, w_max=3.0, interval=1.0):\n",
    "    df = pd.DataFrame({\"occupation\": occupation_list})\n",
    "\n",
    "    for w in range(w_min, w_max+1, interval):\n",
    "        statistical_parity = []\n",
    "        if w == 1:\n",
    "            temp_model = model\n",
    "        else:\n",
    "            temp_model = deepcopy(model)\n",
    "            if gender == \"F\":\n",
    "                token_idxs = female_gender_token_idxs\n",
    "            elif gender == \"M\":\n",
    "                token_idxs = male_gender_token_idxs\n",
    "            elif gender == \"both\":\n",
    "                token_idxs = gender_token_idxs\n",
    "\n",
    "            for i in token_idxs:\n",
    "                temp_model.coef_[:,i] = temp_model.coef_[:,i]*w\n",
    "            \n",
    "        preds = pd.DataFrame({\n",
    "            \"gender\": dataset[\"test\"][\"gender\"], \n",
    "            \"title_scrubbed\": dataset[\"test\"][\"title_scrubbed\"], \"label\": dataset[\"test\"][\"title\"]\n",
    "        })\n",
    "        preds[\"title_scrubbed_pred\"] = temp_model.predict(X_test)\n",
    "\n",
    "        for occupation in occupation_list:\n",
    "            statistical_parity.append(TPR_gap(preds, occupation))\n",
    "\n",
    "        df[f\"statistical_parity w={w}\"] = statistical_parity\n",
    "\n",
    "    return df\n",
    "\n",
    "def get_reweighted_causal_TPR_gap(X_test, X_gender_swap_test, gender=\"F\", w_min=1.0, w_max=3.0, interval=1.0):\n",
    "    df = pd.DataFrame({\"occupation\": occupation_list})\n",
    "\n",
    "    for w in range(w_min, w_max+1, interval):\n",
    "        causal_parity = []\n",
    "        if w == 1:\n",
    "            temp_model = model\n",
    "        else:\n",
    "            temp_model = deepcopy(model)\n",
    "            if gender == \"F\":\n",
    "                token_idxs = female_gender_token_idxs\n",
    "            elif gender == \"M\":\n",
    "                token_idxs = male_gender_token_idxs\n",
    "            elif gender == \"both\":\n",
    "                token_idxs = gender_token_idxs\n",
    "\n",
    "            for i in token_idxs:\n",
    "                temp_model.coef_[:,i] = temp_model.coef_[:,i]*w\n",
    "            \n",
    "        preds = pd.DataFrame({\n",
    "            \"gender\": dataset[\"test\"][\"gender\"], \n",
    "            \"title_scrubbed\": dataset[\"test\"][\"title_scrubbed\"], \"label\": dataset[\"test\"][\"title\"]\n",
    "        })\n",
    "        preds[\"title_scrubbed_pred\"] = temp_model.predict(X_test)\n",
    "        preds[\"title_scrubbed_gender_swapped_pred\"] = temp_model.predict(X_gender_swap_test)\n",
    "\n",
    "        for occupation in occupation_list:\n",
    "            causal_parity.append(TPR_gap(preds, occupation, causal=True))\n",
    "\n",
    "        df[f\"causal_parity w={w}\"] = causal_parity\n",
    "\n",
    "    return df"
   ]
  },
  {
   "cell_type": "code",
   "execution_count": 10,
   "metadata": {},
   "outputs": [],
   "source": [
    "average_gender_tokens = pd.DataFrame({\"occupation\": occupation_list})\n",
    "avg_female_token, avg_male_token, avg_token = [], [], []\n",
    "\n",
    "for occupation in occupation_list:\n",
    "    all_idxs = base_preds.loc[(base_preds[\"label\"] == occupation)].index.tolist()\n",
    "    male_idxs = base_preds.loc[(base_preds.gender == \"M\")&(base_preds[\"label\"] == occupation)].index.tolist()\n",
    "    female_idxs = base_preds.loc[(base_preds.gender == \"F\")&(base_preds[\"label\"] == occupation)].index.tolist()\n",
    "\n",
    "    male_embeds = X_test[male_idxs, :]\n",
    "    male_token_counts = male_embeds[:, male_gender_token_idxs]\n",
    "    avg_male_token.append(male_token_counts.toarray().sum(axis=1).mean())\n",
    "\n",
    "    female_embeds = X_test[female_idxs, :]\n",
    "    female_token_counts = female_embeds[:, female_gender_token_idxs]\n",
    "    avg_female_token.append(female_token_counts.toarray().sum(axis=1).mean())\n",
    "\n",
    "    embeds = X_test[all_idxs, :]\n",
    "    token_counts = embeds[:, gender_token_idxs]\n",
    "    avg_token.append(token_counts.toarray().sum(axis=1).mean())\n",
    "\n",
    "average_gender_tokens[\"female_avg_gender_tokens\"] = avg_female_token\n",
    "average_gender_tokens[\"male_avg_gender_tokens\"] = avg_male_token\n",
    "average_gender_tokens[\"avg_gender_tokens\"] = avg_token\n",
    "average_gender_tokens[\"avg_gender_token_diff\"] = average_gender_tokens[\"female_avg_gender_tokens\"] - average_gender_tokens[\"male_avg_gender_tokens\"]"
   ]
  },
  {
   "cell_type": "code",
   "execution_count": 21,
   "metadata": {},
   "outputs": [],
   "source": [
    "colorscale = px.colors.sequential.GnBu\n",
    "# colorscale = px.colors.diverging.RdYlBu"
   ]
  },
  {
   "cell_type": "markdown",
   "metadata": {},
   "source": [
    "## Increase Female Gender Token Weights"
   ]
  },
  {
   "cell_type": "code",
   "execution_count": 27,
   "metadata": {},
   "outputs": [
    {
     "data": {
      "application/vnd.plotly.v1+json": {
       "config": {
        "plotlyServerURL": "https://plot.ly"
       },
       "data": [
        {
         "line": {
          "color": "rgb(168,221,181)"
         },
         "mode": "lines",
         "name": "w=1",
         "type": "scatter",
         "x": [
          "surgeon",
          "rapper",
          "dj",
          "comedian",
          "software_engineer",
          "chiropractor",
          "composer",
          "photographer",
          "accountant",
          "attorney",
          "personal_trainer",
          "filmmaker",
          "architect",
          "professor",
          "pastor",
          "journalist",
          "poet",
          "painter",
          "psychologist",
          "dentist",
          "nurse",
          "teacher",
          "physician",
          "interior_designer",
          "yoga_teacher",
          "dietitian",
          "paralegal",
          "model"
         ],
         "y": [
          -0.2498408336963442,
          -0.24960233297985157,
          -0.11518126888217528,
          -0.062079221305934795,
          -0.050748141680471925,
          -0.03161640121992543,
          -0.03021206375956753,
          -0.02110896556544839,
          -0.014080765143464347,
          -0.01157570504205474,
          -0.010896951373141839,
          0.001958755776260479,
          0.002317185424440704,
          0.004687115435803579,
          0.012807592172671578,
          0.02367535779682406,
          0.028061692240796687,
          0.03525645525898258,
          0.03601673375036352,
          0.037793922432942106,
          0.07749801957368896,
          0.09804405228738744,
          0.10479074584255543,
          0.12205128205128202,
          0.1881677350427351,
          0.2617532393074188,
          0.35377478934377393,
          0.3555619739230897
         ]
        },
        {
         "line": {
          "color": "rgb(123,204,196)"
         },
         "mode": "lines",
         "name": "w=2",
         "type": "scatter",
         "x": [
          "surgeon",
          "rapper",
          "dj",
          "comedian",
          "software_engineer",
          "chiropractor",
          "composer",
          "photographer",
          "accountant",
          "attorney",
          "personal_trainer",
          "filmmaker",
          "architect",
          "professor",
          "pastor",
          "journalist",
          "poet",
          "painter",
          "psychologist",
          "dentist",
          "nurse",
          "teacher",
          "physician",
          "interior_designer",
          "yoga_teacher",
          "dietitian",
          "paralegal",
          "model"
         ],
         "y": [
          -0.2845515774979971,
          -0.336558854718982,
          -0.1401812688821753,
          -0.046694605921319465,
          -0.055824283812451636,
          -0.07264204224556647,
          -0.08340355312126968,
          -0.03406233344109599,
          -0.003487544804481324,
          -0.02563545899636044,
          -0.02324263038548746,
          -0.011076625974205112,
          -0.030015378085951894,
          0.0015422141070827733,
          -0.06202233980011751,
          0.024108070908031354,
          0.029290193469297954,
          0.037552666510417776,
          0.03003318849980252,
          0.03238433974360677,
          0.08579868823866477,
          0.11213476122618093,
          0.10352403226057094,
          0.16205128205128205,
          0.22235576923076927,
          0.27046783625730986,
          0.3643288790535365,
          0.3596715629641855
         ]
        },
        {
         "line": {
          "color": "rgb(78,179,211)"
         },
         "mode": "lines",
         "name": "w=3",
         "type": "scatter",
         "x": [
          "surgeon",
          "rapper",
          "dj",
          "comedian",
          "software_engineer",
          "chiropractor",
          "composer",
          "photographer",
          "accountant",
          "attorney",
          "personal_trainer",
          "filmmaker",
          "architect",
          "professor",
          "pastor",
          "journalist",
          "poet",
          "painter",
          "psychologist",
          "dentist",
          "nurse",
          "teacher",
          "physician",
          "interior_designer",
          "yoga_teacher",
          "dietitian",
          "paralegal",
          "model"
         ],
         "y": [
          -0.31595653617568303,
          -0.42351537645811244,
          -0.24018126888217528,
          -0.06977152899824257,
          -0.06597656807641095,
          -0.10853947814300235,
          -0.16850993609999299,
          -0.053233317897054544,
          -0.009843477007871138,
          -0.041101188346096884,
          -0.04793398841017882,
          -0.03714738947513618,
          -0.060038472774173623,
          -0.00254615762025423,
          -0.15045771394977736,
          0.02367535779682406,
          0.026833191012295532,
          0.03066403275611229,
          0.015074325373400144,
          0.023110769419031785,
          0.08879615192323942,
          0.1218221236216015,
          0.10282030249280172,
          0.212051282051282,
          0.24229878917378922,
          0.27918243320720093,
          0.4065452378925867,
          0.343233206799802
         ]
        },
        {
         "line": {
          "color": "rgb(43,140,190)"
         },
         "mode": "lines",
         "name": "w=4",
         "type": "scatter",
         "x": [
          "surgeon",
          "rapper",
          "dj",
          "comedian",
          "software_engineer",
          "chiropractor",
          "composer",
          "photographer",
          "accountant",
          "attorney",
          "personal_trainer",
          "filmmaker",
          "architect",
          "professor",
          "pastor",
          "journalist",
          "poet",
          "painter",
          "psychologist",
          "dentist",
          "nurse",
          "teacher",
          "physician",
          "interior_designer",
          "yoga_teacher",
          "dietitian",
          "paralegal",
          "model"
         ],
         "y": [
          -0.36554331303518717,
          -0.5104718981972429,
          -0.3651812688821753,
          -0.09284845207516557,
          -0.07612885234037037,
          -0.1290522986558229,
          -0.2642546169510569,
          -0.07654938007322043,
          -0.018318053279057556,
          -0.06148783157984028,
          -0.06645250692869731,
          -0.06135595558314366,
          -0.09006156746239535,
          -0.007106264546899443,
          -0.23889308809943727,
          0.01285753001664236,
          0.021919186098290577,
          0.01229434274463126,
          0.007220922232038851,
          0.006109223823977716,
          0.08994902257115267,
          0.11653810776955387,
          0.10155358891081723,
          0.2253846153846154,
          0.26793981481481477,
          0.28245040706341007,
          0.42501489488467104,
          0.3247400561148705
         ]
        },
        {
         "line": {
          "color": "rgb(8,104,172)"
         },
         "mode": "lines",
         "name": "w=5",
         "type": "scatter",
         "x": [
          "surgeon",
          "rapper",
          "dj",
          "comedian",
          "software_engineer",
          "chiropractor",
          "composer",
          "photographer",
          "accountant",
          "attorney",
          "personal_trainer",
          "filmmaker",
          "architect",
          "professor",
          "pastor",
          "journalist",
          "poet",
          "painter",
          "psychologist",
          "dentist",
          "nurse",
          "teacher",
          "physician",
          "interior_designer",
          "yoga_teacher",
          "dietitian",
          "paralegal",
          "model"
         ],
         "y": [
          -0.38868380890295573,
          -0.6409066808059385,
          -0.46518126888217526,
          -0.11592537515208867,
          -0.10658570513224852,
          -0.1290522986558229,
          -0.3334035531212697,
          -0.10038357696441214,
          -0.02043669734685416,
          -0.087498376395306,
          -0.11583522297808002,
          -0.10604869301331121,
          -0.12239413097278795,
          -0.012059484139634757,
          -0.32052574116066174,
          0.007232259570947863,
          0.0047201688992734026,
          -0.007223452892567317,
          -0.0006324809093223305,
          -0.0016187514465014763,
          0.07519227827786235,
          0.10420873744810966,
          0.10070911318949416,
          0.26538461538461533,
          0.29358084045584043,
          0.28680770553835566,
          0.4593156864413993,
          0.29117841227925406
         ]
        }
       ],
       "layout": {
        "autosize": false,
        "font": {
         "size": 15.5
        },
        "height": 500,
        "margin": {
         "b": 20,
         "l": 15,
         "r": 15,
         "t": 20
        },
        "plot_bgcolor": "white",
        "template": {
         "data": {
          "bar": [
           {
            "error_x": {
             "color": "#2a3f5f"
            },
            "error_y": {
             "color": "#2a3f5f"
            },
            "marker": {
             "line": {
              "color": "#E5ECF6",
              "width": 0.5
             },
             "pattern": {
              "fillmode": "overlay",
              "size": 10,
              "solidity": 0.2
             }
            },
            "type": "bar"
           }
          ],
          "barpolar": [
           {
            "marker": {
             "line": {
              "color": "#E5ECF6",
              "width": 0.5
             },
             "pattern": {
              "fillmode": "overlay",
              "size": 10,
              "solidity": 0.2
             }
            },
            "type": "barpolar"
           }
          ],
          "carpet": [
           {
            "aaxis": {
             "endlinecolor": "#2a3f5f",
             "gridcolor": "white",
             "linecolor": "white",
             "minorgridcolor": "white",
             "startlinecolor": "#2a3f5f"
            },
            "baxis": {
             "endlinecolor": "#2a3f5f",
             "gridcolor": "white",
             "linecolor": "white",
             "minorgridcolor": "white",
             "startlinecolor": "#2a3f5f"
            },
            "type": "carpet"
           }
          ],
          "choropleth": [
           {
            "colorbar": {
             "outlinewidth": 0,
             "ticks": ""
            },
            "type": "choropleth"
           }
          ],
          "contour": [
           {
            "colorbar": {
             "outlinewidth": 0,
             "ticks": ""
            },
            "colorscale": [
             [
              0,
              "#0d0887"
             ],
             [
              0.1111111111111111,
              "#46039f"
             ],
             [
              0.2222222222222222,
              "#7201a8"
             ],
             [
              0.3333333333333333,
              "#9c179e"
             ],
             [
              0.4444444444444444,
              "#bd3786"
             ],
             [
              0.5555555555555556,
              "#d8576b"
             ],
             [
              0.6666666666666666,
              "#ed7953"
             ],
             [
              0.7777777777777778,
              "#fb9f3a"
             ],
             [
              0.8888888888888888,
              "#fdca26"
             ],
             [
              1,
              "#f0f921"
             ]
            ],
            "type": "contour"
           }
          ],
          "contourcarpet": [
           {
            "colorbar": {
             "outlinewidth": 0,
             "ticks": ""
            },
            "type": "contourcarpet"
           }
          ],
          "heatmap": [
           {
            "colorbar": {
             "outlinewidth": 0,
             "ticks": ""
            },
            "colorscale": [
             [
              0,
              "#0d0887"
             ],
             [
              0.1111111111111111,
              "#46039f"
             ],
             [
              0.2222222222222222,
              "#7201a8"
             ],
             [
              0.3333333333333333,
              "#9c179e"
             ],
             [
              0.4444444444444444,
              "#bd3786"
             ],
             [
              0.5555555555555556,
              "#d8576b"
             ],
             [
              0.6666666666666666,
              "#ed7953"
             ],
             [
              0.7777777777777778,
              "#fb9f3a"
             ],
             [
              0.8888888888888888,
              "#fdca26"
             ],
             [
              1,
              "#f0f921"
             ]
            ],
            "type": "heatmap"
           }
          ],
          "heatmapgl": [
           {
            "colorbar": {
             "outlinewidth": 0,
             "ticks": ""
            },
            "colorscale": [
             [
              0,
              "#0d0887"
             ],
             [
              0.1111111111111111,
              "#46039f"
             ],
             [
              0.2222222222222222,
              "#7201a8"
             ],
             [
              0.3333333333333333,
              "#9c179e"
             ],
             [
              0.4444444444444444,
              "#bd3786"
             ],
             [
              0.5555555555555556,
              "#d8576b"
             ],
             [
              0.6666666666666666,
              "#ed7953"
             ],
             [
              0.7777777777777778,
              "#fb9f3a"
             ],
             [
              0.8888888888888888,
              "#fdca26"
             ],
             [
              1,
              "#f0f921"
             ]
            ],
            "type": "heatmapgl"
           }
          ],
          "histogram": [
           {
            "marker": {
             "pattern": {
              "fillmode": "overlay",
              "size": 10,
              "solidity": 0.2
             }
            },
            "type": "histogram"
           }
          ],
          "histogram2d": [
           {
            "colorbar": {
             "outlinewidth": 0,
             "ticks": ""
            },
            "colorscale": [
             [
              0,
              "#0d0887"
             ],
             [
              0.1111111111111111,
              "#46039f"
             ],
             [
              0.2222222222222222,
              "#7201a8"
             ],
             [
              0.3333333333333333,
              "#9c179e"
             ],
             [
              0.4444444444444444,
              "#bd3786"
             ],
             [
              0.5555555555555556,
              "#d8576b"
             ],
             [
              0.6666666666666666,
              "#ed7953"
             ],
             [
              0.7777777777777778,
              "#fb9f3a"
             ],
             [
              0.8888888888888888,
              "#fdca26"
             ],
             [
              1,
              "#f0f921"
             ]
            ],
            "type": "histogram2d"
           }
          ],
          "histogram2dcontour": [
           {
            "colorbar": {
             "outlinewidth": 0,
             "ticks": ""
            },
            "colorscale": [
             [
              0,
              "#0d0887"
             ],
             [
              0.1111111111111111,
              "#46039f"
             ],
             [
              0.2222222222222222,
              "#7201a8"
             ],
             [
              0.3333333333333333,
              "#9c179e"
             ],
             [
              0.4444444444444444,
              "#bd3786"
             ],
             [
              0.5555555555555556,
              "#d8576b"
             ],
             [
              0.6666666666666666,
              "#ed7953"
             ],
             [
              0.7777777777777778,
              "#fb9f3a"
             ],
             [
              0.8888888888888888,
              "#fdca26"
             ],
             [
              1,
              "#f0f921"
             ]
            ],
            "type": "histogram2dcontour"
           }
          ],
          "mesh3d": [
           {
            "colorbar": {
             "outlinewidth": 0,
             "ticks": ""
            },
            "type": "mesh3d"
           }
          ],
          "parcoords": [
           {
            "line": {
             "colorbar": {
              "outlinewidth": 0,
              "ticks": ""
             }
            },
            "type": "parcoords"
           }
          ],
          "pie": [
           {
            "automargin": true,
            "type": "pie"
           }
          ],
          "scatter": [
           {
            "fillpattern": {
             "fillmode": "overlay",
             "size": 10,
             "solidity": 0.2
            },
            "type": "scatter"
           }
          ],
          "scatter3d": [
           {
            "line": {
             "colorbar": {
              "outlinewidth": 0,
              "ticks": ""
             }
            },
            "marker": {
             "colorbar": {
              "outlinewidth": 0,
              "ticks": ""
             }
            },
            "type": "scatter3d"
           }
          ],
          "scattercarpet": [
           {
            "marker": {
             "colorbar": {
              "outlinewidth": 0,
              "ticks": ""
             }
            },
            "type": "scattercarpet"
           }
          ],
          "scattergeo": [
           {
            "marker": {
             "colorbar": {
              "outlinewidth": 0,
              "ticks": ""
             }
            },
            "type": "scattergeo"
           }
          ],
          "scattergl": [
           {
            "marker": {
             "colorbar": {
              "outlinewidth": 0,
              "ticks": ""
             }
            },
            "type": "scattergl"
           }
          ],
          "scattermapbox": [
           {
            "marker": {
             "colorbar": {
              "outlinewidth": 0,
              "ticks": ""
             }
            },
            "type": "scattermapbox"
           }
          ],
          "scatterpolar": [
           {
            "marker": {
             "colorbar": {
              "outlinewidth": 0,
              "ticks": ""
             }
            },
            "type": "scatterpolar"
           }
          ],
          "scatterpolargl": [
           {
            "marker": {
             "colorbar": {
              "outlinewidth": 0,
              "ticks": ""
             }
            },
            "type": "scatterpolargl"
           }
          ],
          "scatterternary": [
           {
            "marker": {
             "colorbar": {
              "outlinewidth": 0,
              "ticks": ""
             }
            },
            "type": "scatterternary"
           }
          ],
          "surface": [
           {
            "colorbar": {
             "outlinewidth": 0,
             "ticks": ""
            },
            "colorscale": [
             [
              0,
              "#0d0887"
             ],
             [
              0.1111111111111111,
              "#46039f"
             ],
             [
              0.2222222222222222,
              "#7201a8"
             ],
             [
              0.3333333333333333,
              "#9c179e"
             ],
             [
              0.4444444444444444,
              "#bd3786"
             ],
             [
              0.5555555555555556,
              "#d8576b"
             ],
             [
              0.6666666666666666,
              "#ed7953"
             ],
             [
              0.7777777777777778,
              "#fb9f3a"
             ],
             [
              0.8888888888888888,
              "#fdca26"
             ],
             [
              1,
              "#f0f921"
             ]
            ],
            "type": "surface"
           }
          ],
          "table": [
           {
            "cells": {
             "fill": {
              "color": "#EBF0F8"
             },
             "line": {
              "color": "white"
             }
            },
            "header": {
             "fill": {
              "color": "#C8D4E3"
             },
             "line": {
              "color": "white"
             }
            },
            "type": "table"
           }
          ]
         },
         "layout": {
          "annotationdefaults": {
           "arrowcolor": "#2a3f5f",
           "arrowhead": 0,
           "arrowwidth": 1
          },
          "autotypenumbers": "strict",
          "coloraxis": {
           "colorbar": {
            "outlinewidth": 0,
            "ticks": ""
           }
          },
          "colorscale": {
           "diverging": [
            [
             0,
             "#8e0152"
            ],
            [
             0.1,
             "#c51b7d"
            ],
            [
             0.2,
             "#de77ae"
            ],
            [
             0.3,
             "#f1b6da"
            ],
            [
             0.4,
             "#fde0ef"
            ],
            [
             0.5,
             "#f7f7f7"
            ],
            [
             0.6,
             "#e6f5d0"
            ],
            [
             0.7,
             "#b8e186"
            ],
            [
             0.8,
             "#7fbc41"
            ],
            [
             0.9,
             "#4d9221"
            ],
            [
             1,
             "#276419"
            ]
           ],
           "sequential": [
            [
             0,
             "#0d0887"
            ],
            [
             0.1111111111111111,
             "#46039f"
            ],
            [
             0.2222222222222222,
             "#7201a8"
            ],
            [
             0.3333333333333333,
             "#9c179e"
            ],
            [
             0.4444444444444444,
             "#bd3786"
            ],
            [
             0.5555555555555556,
             "#d8576b"
            ],
            [
             0.6666666666666666,
             "#ed7953"
            ],
            [
             0.7777777777777778,
             "#fb9f3a"
            ],
            [
             0.8888888888888888,
             "#fdca26"
            ],
            [
             1,
             "#f0f921"
            ]
           ],
           "sequentialminus": [
            [
             0,
             "#0d0887"
            ],
            [
             0.1111111111111111,
             "#46039f"
            ],
            [
             0.2222222222222222,
             "#7201a8"
            ],
            [
             0.3333333333333333,
             "#9c179e"
            ],
            [
             0.4444444444444444,
             "#bd3786"
            ],
            [
             0.5555555555555556,
             "#d8576b"
            ],
            [
             0.6666666666666666,
             "#ed7953"
            ],
            [
             0.7777777777777778,
             "#fb9f3a"
            ],
            [
             0.8888888888888888,
             "#fdca26"
            ],
            [
             1,
             "#f0f921"
            ]
           ]
          },
          "colorway": [
           "#636efa",
           "#EF553B",
           "#00cc96",
           "#ab63fa",
           "#FFA15A",
           "#19d3f3",
           "#FF6692",
           "#B6E880",
           "#FF97FF",
           "#FECB52"
          ],
          "font": {
           "color": "#2a3f5f"
          },
          "geo": {
           "bgcolor": "white",
           "lakecolor": "white",
           "landcolor": "#E5ECF6",
           "showlakes": true,
           "showland": true,
           "subunitcolor": "white"
          },
          "hoverlabel": {
           "align": "left"
          },
          "hovermode": "closest",
          "mapbox": {
           "style": "light"
          },
          "paper_bgcolor": "white",
          "plot_bgcolor": "#E5ECF6",
          "polar": {
           "angularaxis": {
            "gridcolor": "white",
            "linecolor": "white",
            "ticks": ""
           },
           "bgcolor": "#E5ECF6",
           "radialaxis": {
            "gridcolor": "white",
            "linecolor": "white",
            "ticks": ""
           }
          },
          "scene": {
           "xaxis": {
            "backgroundcolor": "#E5ECF6",
            "gridcolor": "white",
            "gridwidth": 2,
            "linecolor": "white",
            "showbackground": true,
            "ticks": "",
            "zerolinecolor": "white"
           },
           "yaxis": {
            "backgroundcolor": "#E5ECF6",
            "gridcolor": "white",
            "gridwidth": 2,
            "linecolor": "white",
            "showbackground": true,
            "ticks": "",
            "zerolinecolor": "white"
           },
           "zaxis": {
            "backgroundcolor": "#E5ECF6",
            "gridcolor": "white",
            "gridwidth": 2,
            "linecolor": "white",
            "showbackground": true,
            "ticks": "",
            "zerolinecolor": "white"
           }
          },
          "shapedefaults": {
           "line": {
            "color": "#2a3f5f"
           }
          },
          "ternary": {
           "aaxis": {
            "gridcolor": "white",
            "linecolor": "white",
            "ticks": ""
           },
           "baxis": {
            "gridcolor": "white",
            "linecolor": "white",
            "ticks": ""
           },
           "bgcolor": "#E5ECF6",
           "caxis": {
            "gridcolor": "white",
            "linecolor": "white",
            "ticks": ""
           }
          },
          "title": {
           "x": 0.05
          },
          "xaxis": {
           "automargin": true,
           "gridcolor": "white",
           "linecolor": "white",
           "ticks": "",
           "title": {
            "standoff": 15
           },
           "zerolinecolor": "white",
           "zerolinewidth": 2
          },
          "yaxis": {
           "automargin": true,
           "gridcolor": "white",
           "linecolor": "white",
           "ticks": "",
           "title": {
            "standoff": 15
           },
           "zerolinecolor": "white",
           "zerolinewidth": 2
          }
         }
        },
        "width": 695,
        "xaxis": {
         "gridcolor": "lightgrey",
         "mirror": true,
         "showgrid": true,
         "title": {
          "text": "Occupation"
         },
         "zeroline": true,
         "zerolinecolor": "lightgrey"
        },
        "yaxis": {
         "gridcolor": "lightgrey",
         "mirror": true,
         "showgrid": true,
         "title": {
          "text": "Statistical TPR Gap"
         },
         "zeroline": true,
         "zerolinecolor": "lightgrey"
        }
       }
      }
     },
     "metadata": {},
     "output_type": "display_data"
    }
   ],
   "source": [
    "all_sp_result = get_reweighted_statistical_TPR_gap(X_test, gender=\"F\", w_min=1, w_max=5, interval=1)\n",
    "all_sp_result = all_sp_result.sort_values(\"statistical_parity w=1\")\n",
    "fig = go.Figure()\n",
    "\n",
    "occupation_list = all_sp_result[\"occupation\"].tolist()\n",
    "for w in range(1, 6):\n",
    "    sp = all_sp_result[f\"statistical_parity w={w}\"].tolist()\n",
    "\n",
    "    fig.add_trace(go.Scatter(x=occupation_list, y=sp, mode='lines', name=f'w={w}', line=dict(color=colorscale[w+2])))\n",
    "\n",
    "fig.update_layout(\n",
    "    autosize=False,\n",
    "    width=695,\n",
    "    height=500,\n",
    "    plot_bgcolor='white',\n",
    "    font=dict(size=15.5),\n",
    "    xaxis_title=\"Occupation\",\n",
    "    yaxis_title=\"Statistical TPR Gap\",\n",
    "    margin=dict(l=15, r=15, t=20, b=20),\n",
    ")\n",
    "fig.update_xaxes(\n",
    "    mirror=True,\n",
    "    showgrid=True,\n",
    "    zeroline = True,\n",
    "    zerolinecolor='lightgrey',\n",
    "    gridcolor='lightgrey'\n",
    ")\n",
    "fig.update_yaxes(\n",
    "    mirror=True,\n",
    "    showgrid=True,\n",
    "    zeroline = True,\n",
    "    zerolinecolor='lightgrey',\n",
    "    gridcolor='lightgrey',\n",
    ")\n",
    "\n",
    "fig.show()"
   ]
  },
  {
   "cell_type": "code",
   "execution_count": 22,
   "metadata": {},
   "outputs": [
    {
     "data": {
      "application/vnd.plotly.v1+json": {
       "config": {
        "plotlyServerURL": "https://plot.ly"
       },
       "data": [
        {
         "line": {
          "color": "rgb(168,221,181)"
         },
         "mode": "lines",
         "name": "w=1.0",
         "type": "scatter",
         "x": [
          "rapper",
          "pastor",
          "surgeon",
          "comedian",
          "composer",
          "personal_trainer",
          "chiropractor",
          "architect",
          "software_engineer",
          "photographer",
          "poet",
          "accountant",
          "filmmaker",
          "physician",
          "attorney",
          "psychologist",
          "dentist",
          "painter",
          "professor",
          "dietitian",
          "dj",
          "teacher",
          "journalist",
          "nurse",
          "model",
          "yoga_teacher",
          "paralegal",
          "interior_designer"
         ],
         "y": [
          -0.11396011396011396,
          -0.08846761453396525,
          -0.07203134418324292,
          -0.05007153075822604,
          -0.04857142857142857,
          -0.03910614525139665,
          -0.030816640986132512,
          -0.03045886075949367,
          -0.027809965237543453,
          -0.017760236803157376,
          -0.010273972602739725,
          -0.009907997169143666,
          -0.0091324200913242,
          -0.004875012965460015,
          -0.004049576635169959,
          -0.0026246719160104987,
          0.0035931453841901604,
          0.004136504653567736,
          0.005351034646255969,
          0.008048289738430584,
          0.008086253369272238,
          0.011360829834527044,
          0.01864848606376579,
          0.04239611896224425,
          0.05973333333333333,
          0.10602409638554217,
          0.11791383219954649,
          0.13972602739726028
         ]
        },
        {
         "line": {
          "color": "rgb(123,204,196)"
         },
         "mode": "lines",
         "name": "w=2.0",
         "type": "scatter",
         "x": [
          "rapper",
          "pastor",
          "surgeon",
          "comedian",
          "composer",
          "personal_trainer",
          "chiropractor",
          "architect",
          "software_engineer",
          "photographer",
          "poet",
          "accountant",
          "filmmaker",
          "physician",
          "attorney",
          "psychologist",
          "dentist",
          "painter",
          "professor",
          "dietitian",
          "dj",
          "teacher",
          "journalist",
          "nurse",
          "model",
          "yoga_teacher",
          "paralegal",
          "interior_designer"
         ],
         "y": [
          -0.20797720797720798,
          -0.16587677725118483,
          -0.09764918625678119,
          -0.04291845493562232,
          -0.11214285714285714,
          -0.0446927374301676,
          -0.03852080123266564,
          -0.06052215189873418,
          -0.03534183082271147,
          -0.02795592830126624,
          -0.009703196347031963,
          -0.0021231422505307855,
          -0.028538812785388126,
          -0.006845762887667255,
          -0.014480304331819856,
          -0.009186351706036745,
          0,
          0.005170630816959669,
          0.003556067328208081,
          0.01710261569416499,
          -0.018867924528301886,
          0.032600642133860214,
          0.020854220974533787,
          0.050622231596709553,
          0.055466666666666664,
          0.13734939759036144,
          0.13151927437641722,
          0.17534246575342466
         ]
        },
        {
         "line": {
          "color": "rgb(78,179,211)"
         },
         "mode": "lines",
         "name": "w=3.0",
         "type": "scatter",
         "x": [
          "rapper",
          "pastor",
          "surgeon",
          "comedian",
          "composer",
          "personal_trainer",
          "chiropractor",
          "architect",
          "software_engineer",
          "photographer",
          "poet",
          "accountant",
          "filmmaker",
          "physician",
          "attorney",
          "psychologist",
          "dentist",
          "painter",
          "professor",
          "dietitian",
          "dj",
          "teacher",
          "journalist",
          "nurse",
          "model",
          "yoga_teacher",
          "paralegal",
          "interior_designer"
         ],
         "y": [
          -0.31339031339031337,
          -0.22906793048973143,
          -0.12537673297166968,
          -0.06580829756795423,
          -0.17857142857142858,
          -0.055865921787709494,
          -0.03697996918335902,
          -0.08583860759493671,
          -0.04577056778679027,
          -0.04078276599243545,
          -0.014840182648401826,
          -0.009200283085633405,
          -0.057648401826484015,
          -0.008609065449642152,
          -0.02822432200269972,
          -0.020559930008748905,
          -0.004422332780541736,
          0.000517063081695967,
          0.0010837538524062723,
          0.02716297786720322,
          -0.08355795148247978,
          0.045937268461348484,
          0.020453178263485063,
          0.05336426914153132,
          0.038933333333333334,
          0.1614457831325301,
          0.17687074829931973,
          0.22465753424657534
         ]
        },
        {
         "line": {
          "color": "rgb(43,140,190)"
         },
         "mode": "lines",
         "name": "w=4.0",
         "type": "scatter",
         "x": [
          "rapper",
          "pastor",
          "surgeon",
          "comedian",
          "composer",
          "personal_trainer",
          "chiropractor",
          "architect",
          "software_engineer",
          "photographer",
          "poet",
          "accountant",
          "filmmaker",
          "physician",
          "attorney",
          "psychologist",
          "dentist",
          "painter",
          "professor",
          "dietitian",
          "dj",
          "teacher",
          "journalist",
          "nurse",
          "model",
          "yoga_teacher",
          "paralegal",
          "interior_designer"
         ],
         "y": [
          -0.39886039886039887,
          -0.3001579778830964,
          -0.161543098251959,
          -0.08011444921316166,
          -0.2571428571428571,
          -0.07262569832402235,
          -0.040061633281972264,
          -0.11827531645569621,
          -0.06025492468134415,
          -0.061503042262785725,
          -0.01997716894977169,
          -0.00778485491861288,
          -0.0930365296803653,
          -0.010476091691733223,
          -0.04810406184807952,
          -0.025590551181102362,
          -0.01271420674405749,
          -0.015511892450879007,
          -0.0023368442442510246,
          0.03118712273641851,
          -0.15902964959568733,
          0.04025685354408496,
          0.013434930820132343,
          0.05505167686142164,
          0.0224,
          0.18795180722891566,
          0.1927437641723356,
          0.2465753424657534
         ]
        },
        {
         "line": {
          "color": "rgb(8,104,172)"
         },
         "mode": "lines",
         "name": "w=5.0",
         "type": "scatter",
         "x": [
          "rapper",
          "pastor",
          "surgeon",
          "comedian",
          "composer",
          "personal_trainer",
          "chiropractor",
          "architect",
          "software_engineer",
          "photographer",
          "poet",
          "accountant",
          "filmmaker",
          "physician",
          "attorney",
          "psychologist",
          "dentist",
          "painter",
          "professor",
          "dietitian",
          "dj",
          "teacher",
          "journalist",
          "nurse",
          "model",
          "yoga_teacher",
          "paralegal",
          "interior_designer"
         ],
         "y": [
          -0.49002849002849,
          -0.358609794628752,
          -0.18474984930681132,
          -0.10157367668097282,
          -0.33071428571428574,
          -0.1005586592178771,
          -0.04314329738058552,
          -0.15229430379746836,
          -0.0816917728852839,
          -0.08534780463739516,
          -0.03995433789954338,
          -0.016985138004246284,
          -0.13527397260273974,
          -0.012343117933824293,
          -0.06872008835439931,
          -0.033245844269466314,
          -0.018518518518518517,
          -0.03412616339193381,
          -0.0063331865749991535,
          0.03420523138832998,
          -0.23450134770889489,
          0.028896023709557916,
          0.007619811509925807,
          0.03923222948744991,
          -0.0096,
          0.21204819277108433,
          0.22448979591836735,
          0.2876712328767123
         ]
        }
       ],
       "layout": {
        "autosize": false,
        "font": {
         "size": 15
        },
        "height": 500,
        "margin": {
         "b": 20,
         "l": 15,
         "r": 15,
         "t": 20
        },
        "plot_bgcolor": "white",
        "template": {
         "data": {
          "bar": [
           {
            "error_x": {
             "color": "#2a3f5f"
            },
            "error_y": {
             "color": "#2a3f5f"
            },
            "marker": {
             "line": {
              "color": "#E5ECF6",
              "width": 0.5
             },
             "pattern": {
              "fillmode": "overlay",
              "size": 10,
              "solidity": 0.2
             }
            },
            "type": "bar"
           }
          ],
          "barpolar": [
           {
            "marker": {
             "line": {
              "color": "#E5ECF6",
              "width": 0.5
             },
             "pattern": {
              "fillmode": "overlay",
              "size": 10,
              "solidity": 0.2
             }
            },
            "type": "barpolar"
           }
          ],
          "carpet": [
           {
            "aaxis": {
             "endlinecolor": "#2a3f5f",
             "gridcolor": "white",
             "linecolor": "white",
             "minorgridcolor": "white",
             "startlinecolor": "#2a3f5f"
            },
            "baxis": {
             "endlinecolor": "#2a3f5f",
             "gridcolor": "white",
             "linecolor": "white",
             "minorgridcolor": "white",
             "startlinecolor": "#2a3f5f"
            },
            "type": "carpet"
           }
          ],
          "choropleth": [
           {
            "colorbar": {
             "outlinewidth": 0,
             "ticks": ""
            },
            "type": "choropleth"
           }
          ],
          "contour": [
           {
            "colorbar": {
             "outlinewidth": 0,
             "ticks": ""
            },
            "colorscale": [
             [
              0,
              "#0d0887"
             ],
             [
              0.1111111111111111,
              "#46039f"
             ],
             [
              0.2222222222222222,
              "#7201a8"
             ],
             [
              0.3333333333333333,
              "#9c179e"
             ],
             [
              0.4444444444444444,
              "#bd3786"
             ],
             [
              0.5555555555555556,
              "#d8576b"
             ],
             [
              0.6666666666666666,
              "#ed7953"
             ],
             [
              0.7777777777777778,
              "#fb9f3a"
             ],
             [
              0.8888888888888888,
              "#fdca26"
             ],
             [
              1,
              "#f0f921"
             ]
            ],
            "type": "contour"
           }
          ],
          "contourcarpet": [
           {
            "colorbar": {
             "outlinewidth": 0,
             "ticks": ""
            },
            "type": "contourcarpet"
           }
          ],
          "heatmap": [
           {
            "colorbar": {
             "outlinewidth": 0,
             "ticks": ""
            },
            "colorscale": [
             [
              0,
              "#0d0887"
             ],
             [
              0.1111111111111111,
              "#46039f"
             ],
             [
              0.2222222222222222,
              "#7201a8"
             ],
             [
              0.3333333333333333,
              "#9c179e"
             ],
             [
              0.4444444444444444,
              "#bd3786"
             ],
             [
              0.5555555555555556,
              "#d8576b"
             ],
             [
              0.6666666666666666,
              "#ed7953"
             ],
             [
              0.7777777777777778,
              "#fb9f3a"
             ],
             [
              0.8888888888888888,
              "#fdca26"
             ],
             [
              1,
              "#f0f921"
             ]
            ],
            "type": "heatmap"
           }
          ],
          "heatmapgl": [
           {
            "colorbar": {
             "outlinewidth": 0,
             "ticks": ""
            },
            "colorscale": [
             [
              0,
              "#0d0887"
             ],
             [
              0.1111111111111111,
              "#46039f"
             ],
             [
              0.2222222222222222,
              "#7201a8"
             ],
             [
              0.3333333333333333,
              "#9c179e"
             ],
             [
              0.4444444444444444,
              "#bd3786"
             ],
             [
              0.5555555555555556,
              "#d8576b"
             ],
             [
              0.6666666666666666,
              "#ed7953"
             ],
             [
              0.7777777777777778,
              "#fb9f3a"
             ],
             [
              0.8888888888888888,
              "#fdca26"
             ],
             [
              1,
              "#f0f921"
             ]
            ],
            "type": "heatmapgl"
           }
          ],
          "histogram": [
           {
            "marker": {
             "pattern": {
              "fillmode": "overlay",
              "size": 10,
              "solidity": 0.2
             }
            },
            "type": "histogram"
           }
          ],
          "histogram2d": [
           {
            "colorbar": {
             "outlinewidth": 0,
             "ticks": ""
            },
            "colorscale": [
             [
              0,
              "#0d0887"
             ],
             [
              0.1111111111111111,
              "#46039f"
             ],
             [
              0.2222222222222222,
              "#7201a8"
             ],
             [
              0.3333333333333333,
              "#9c179e"
             ],
             [
              0.4444444444444444,
              "#bd3786"
             ],
             [
              0.5555555555555556,
              "#d8576b"
             ],
             [
              0.6666666666666666,
              "#ed7953"
             ],
             [
              0.7777777777777778,
              "#fb9f3a"
             ],
             [
              0.8888888888888888,
              "#fdca26"
             ],
             [
              1,
              "#f0f921"
             ]
            ],
            "type": "histogram2d"
           }
          ],
          "histogram2dcontour": [
           {
            "colorbar": {
             "outlinewidth": 0,
             "ticks": ""
            },
            "colorscale": [
             [
              0,
              "#0d0887"
             ],
             [
              0.1111111111111111,
              "#46039f"
             ],
             [
              0.2222222222222222,
              "#7201a8"
             ],
             [
              0.3333333333333333,
              "#9c179e"
             ],
             [
              0.4444444444444444,
              "#bd3786"
             ],
             [
              0.5555555555555556,
              "#d8576b"
             ],
             [
              0.6666666666666666,
              "#ed7953"
             ],
             [
              0.7777777777777778,
              "#fb9f3a"
             ],
             [
              0.8888888888888888,
              "#fdca26"
             ],
             [
              1,
              "#f0f921"
             ]
            ],
            "type": "histogram2dcontour"
           }
          ],
          "mesh3d": [
           {
            "colorbar": {
             "outlinewidth": 0,
             "ticks": ""
            },
            "type": "mesh3d"
           }
          ],
          "parcoords": [
           {
            "line": {
             "colorbar": {
              "outlinewidth": 0,
              "ticks": ""
             }
            },
            "type": "parcoords"
           }
          ],
          "pie": [
           {
            "automargin": true,
            "type": "pie"
           }
          ],
          "scatter": [
           {
            "fillpattern": {
             "fillmode": "overlay",
             "size": 10,
             "solidity": 0.2
            },
            "type": "scatter"
           }
          ],
          "scatter3d": [
           {
            "line": {
             "colorbar": {
              "outlinewidth": 0,
              "ticks": ""
             }
            },
            "marker": {
             "colorbar": {
              "outlinewidth": 0,
              "ticks": ""
             }
            },
            "type": "scatter3d"
           }
          ],
          "scattercarpet": [
           {
            "marker": {
             "colorbar": {
              "outlinewidth": 0,
              "ticks": ""
             }
            },
            "type": "scattercarpet"
           }
          ],
          "scattergeo": [
           {
            "marker": {
             "colorbar": {
              "outlinewidth": 0,
              "ticks": ""
             }
            },
            "type": "scattergeo"
           }
          ],
          "scattergl": [
           {
            "marker": {
             "colorbar": {
              "outlinewidth": 0,
              "ticks": ""
             }
            },
            "type": "scattergl"
           }
          ],
          "scattermapbox": [
           {
            "marker": {
             "colorbar": {
              "outlinewidth": 0,
              "ticks": ""
             }
            },
            "type": "scattermapbox"
           }
          ],
          "scatterpolar": [
           {
            "marker": {
             "colorbar": {
              "outlinewidth": 0,
              "ticks": ""
             }
            },
            "type": "scatterpolar"
           }
          ],
          "scatterpolargl": [
           {
            "marker": {
             "colorbar": {
              "outlinewidth": 0,
              "ticks": ""
             }
            },
            "type": "scatterpolargl"
           }
          ],
          "scatterternary": [
           {
            "marker": {
             "colorbar": {
              "outlinewidth": 0,
              "ticks": ""
             }
            },
            "type": "scatterternary"
           }
          ],
          "surface": [
           {
            "colorbar": {
             "outlinewidth": 0,
             "ticks": ""
            },
            "colorscale": [
             [
              0,
              "#0d0887"
             ],
             [
              0.1111111111111111,
              "#46039f"
             ],
             [
              0.2222222222222222,
              "#7201a8"
             ],
             [
              0.3333333333333333,
              "#9c179e"
             ],
             [
              0.4444444444444444,
              "#bd3786"
             ],
             [
              0.5555555555555556,
              "#d8576b"
             ],
             [
              0.6666666666666666,
              "#ed7953"
             ],
             [
              0.7777777777777778,
              "#fb9f3a"
             ],
             [
              0.8888888888888888,
              "#fdca26"
             ],
             [
              1,
              "#f0f921"
             ]
            ],
            "type": "surface"
           }
          ],
          "table": [
           {
            "cells": {
             "fill": {
              "color": "#EBF0F8"
             },
             "line": {
              "color": "white"
             }
            },
            "header": {
             "fill": {
              "color": "#C8D4E3"
             },
             "line": {
              "color": "white"
             }
            },
            "type": "table"
           }
          ]
         },
         "layout": {
          "annotationdefaults": {
           "arrowcolor": "#2a3f5f",
           "arrowhead": 0,
           "arrowwidth": 1
          },
          "autotypenumbers": "strict",
          "coloraxis": {
           "colorbar": {
            "outlinewidth": 0,
            "ticks": ""
           }
          },
          "colorscale": {
           "diverging": [
            [
             0,
             "#8e0152"
            ],
            [
             0.1,
             "#c51b7d"
            ],
            [
             0.2,
             "#de77ae"
            ],
            [
             0.3,
             "#f1b6da"
            ],
            [
             0.4,
             "#fde0ef"
            ],
            [
             0.5,
             "#f7f7f7"
            ],
            [
             0.6,
             "#e6f5d0"
            ],
            [
             0.7,
             "#b8e186"
            ],
            [
             0.8,
             "#7fbc41"
            ],
            [
             0.9,
             "#4d9221"
            ],
            [
             1,
             "#276419"
            ]
           ],
           "sequential": [
            [
             0,
             "#0d0887"
            ],
            [
             0.1111111111111111,
             "#46039f"
            ],
            [
             0.2222222222222222,
             "#7201a8"
            ],
            [
             0.3333333333333333,
             "#9c179e"
            ],
            [
             0.4444444444444444,
             "#bd3786"
            ],
            [
             0.5555555555555556,
             "#d8576b"
            ],
            [
             0.6666666666666666,
             "#ed7953"
            ],
            [
             0.7777777777777778,
             "#fb9f3a"
            ],
            [
             0.8888888888888888,
             "#fdca26"
            ],
            [
             1,
             "#f0f921"
            ]
           ],
           "sequentialminus": [
            [
             0,
             "#0d0887"
            ],
            [
             0.1111111111111111,
             "#46039f"
            ],
            [
             0.2222222222222222,
             "#7201a8"
            ],
            [
             0.3333333333333333,
             "#9c179e"
            ],
            [
             0.4444444444444444,
             "#bd3786"
            ],
            [
             0.5555555555555556,
             "#d8576b"
            ],
            [
             0.6666666666666666,
             "#ed7953"
            ],
            [
             0.7777777777777778,
             "#fb9f3a"
            ],
            [
             0.8888888888888888,
             "#fdca26"
            ],
            [
             1,
             "#f0f921"
            ]
           ]
          },
          "colorway": [
           "#636efa",
           "#EF553B",
           "#00cc96",
           "#ab63fa",
           "#FFA15A",
           "#19d3f3",
           "#FF6692",
           "#B6E880",
           "#FF97FF",
           "#FECB52"
          ],
          "font": {
           "color": "#2a3f5f"
          },
          "geo": {
           "bgcolor": "white",
           "lakecolor": "white",
           "landcolor": "#E5ECF6",
           "showlakes": true,
           "showland": true,
           "subunitcolor": "white"
          },
          "hoverlabel": {
           "align": "left"
          },
          "hovermode": "closest",
          "mapbox": {
           "style": "light"
          },
          "paper_bgcolor": "white",
          "plot_bgcolor": "#E5ECF6",
          "polar": {
           "angularaxis": {
            "gridcolor": "white",
            "linecolor": "white",
            "ticks": ""
           },
           "bgcolor": "#E5ECF6",
           "radialaxis": {
            "gridcolor": "white",
            "linecolor": "white",
            "ticks": ""
           }
          },
          "scene": {
           "xaxis": {
            "backgroundcolor": "#E5ECF6",
            "gridcolor": "white",
            "gridwidth": 2,
            "linecolor": "white",
            "showbackground": true,
            "ticks": "",
            "zerolinecolor": "white"
           },
           "yaxis": {
            "backgroundcolor": "#E5ECF6",
            "gridcolor": "white",
            "gridwidth": 2,
            "linecolor": "white",
            "showbackground": true,
            "ticks": "",
            "zerolinecolor": "white"
           },
           "zaxis": {
            "backgroundcolor": "#E5ECF6",
            "gridcolor": "white",
            "gridwidth": 2,
            "linecolor": "white",
            "showbackground": true,
            "ticks": "",
            "zerolinecolor": "white"
           }
          },
          "shapedefaults": {
           "line": {
            "color": "#2a3f5f"
           }
          },
          "ternary": {
           "aaxis": {
            "gridcolor": "white",
            "linecolor": "white",
            "ticks": ""
           },
           "baxis": {
            "gridcolor": "white",
            "linecolor": "white",
            "ticks": ""
           },
           "bgcolor": "#E5ECF6",
           "caxis": {
            "gridcolor": "white",
            "linecolor": "white",
            "ticks": ""
           }
          },
          "title": {
           "x": 0.05
          },
          "xaxis": {
           "automargin": true,
           "gridcolor": "white",
           "linecolor": "white",
           "ticks": "",
           "title": {
            "standoff": 15
           },
           "zerolinecolor": "white",
           "zerolinewidth": 2
          },
          "yaxis": {
           "automargin": true,
           "gridcolor": "white",
           "linecolor": "white",
           "ticks": "",
           "title": {
            "standoff": 15
           },
           "zerolinecolor": "white",
           "zerolinewidth": 2
          }
         }
        },
        "width": 695,
        "xaxis": {
         "gridcolor": "lightgrey",
         "mirror": true,
         "showgrid": true,
         "title": {
          "text": "Occupation"
         },
         "zeroline": true,
         "zerolinecolor": "lightgrey"
        },
        "yaxis": {
         "gridcolor": "lightgrey",
         "mirror": true,
         "showgrid": true,
         "title": {
          "text": "Causal TPR Gap"
         },
         "zeroline": true,
         "zerolinecolor": "lightgrey"
        }
       }
      }
     },
     "metadata": {},
     "output_type": "display_data"
    }
   ],
   "source": [
    "all_cp_result = get_reweighted_causal_TPR_gap(X_test, X_gender_swap_test, gender=\"F\", w_min=1, w_max=5, interval=1)\n",
    "all_cp_result = all_cp_result.sort_values(\"causal_parity w=1\")\n",
    "fig = go.Figure()\n",
    "\n",
    "occupation_list = all_cp_result[\"occupation\"].tolist()\n",
    "for w in range(1, 6):\n",
    "    cp = all_cp_result[f\"causal_parity w={w}\"].tolist()\n",
    "\n",
    "    fig.add_trace(go.Scatter(x=occupation_list, y=cp, mode='lines', name=f'w={w}.0', line=dict(color=colorscale[w+2])))\n",
    "\n",
    "fig.update_layout(\n",
    "    autosize=False,\n",
    "    width=695,\n",
    "    height=500,\n",
    "    plot_bgcolor='white',\n",
    "    font=dict(size=15),\n",
    "    xaxis_title=\"Occupation\",\n",
    "    yaxis_title=\"Causal TPR Gap\",\n",
    "    margin=dict(l=15, r=15, t=20, b=20),\n",
    ")\n",
    "fig.update_xaxes(\n",
    "    mirror=True,\n",
    "    showgrid=True,\n",
    "    zeroline = True,\n",
    "    zerolinecolor='lightgrey',\n",
    "    gridcolor='lightgrey'\n",
    ")\n",
    "fig.update_yaxes(\n",
    "    mirror=True,\n",
    "    showgrid=True,\n",
    "    zeroline = True,\n",
    "    zerolinecolor='lightgrey',\n",
    "    gridcolor='lightgrey',\n",
    ")\n",
    "\n",
    "fig.show()"
   ]
  },
  {
   "cell_type": "markdown",
   "metadata": {},
   "source": [
    "## Increase Male Gender Token Weights"
   ]
  },
  {
   "cell_type": "code",
   "execution_count": 15,
   "metadata": {},
   "outputs": [
    {
     "data": {
      "application/vnd.plotly.v1+json": {
       "config": {
        "plotlyServerURL": "https://plot.ly"
       },
       "data": [
        {
         "line": {
          "color": "rgb(168,221,181)"
         },
         "marker": {
          "line": {
           "color": "DarkSlateGrey",
           "width": 1.5
          },
          "size": 8.5
         },
         "mode": "lines",
         "name": "w=1",
         "type": "scatter",
         "x": [
          "surgeon",
          "rapper",
          "dj",
          "comedian",
          "software_engineer",
          "chiropractor",
          "composer",
          "photographer",
          "accountant",
          "attorney",
          "personal_trainer",
          "filmmaker",
          "architect",
          "professor",
          "pastor",
          "journalist",
          "poet",
          "painter",
          "psychologist",
          "dentist",
          "nurse",
          "teacher",
          "physician",
          "interior_designer",
          "yoga_teacher",
          "dietitian",
          "paralegal",
          "model"
         ],
         "y": [
          -0.2498408336963442,
          -0.24960233297985157,
          -0.11518126888217528,
          -0.062079221305934795,
          -0.050748141680471925,
          -0.03161640121992543,
          -0.03021206375956753,
          -0.02110896556544839,
          -0.014080765143464347,
          -0.01157570504205474,
          -0.010896951373141839,
          0.001958755776260479,
          0.002317185424440704,
          0.004687115435803579,
          0.012807592172671578,
          0.02367535779682406,
          0.028061692240796687,
          0.03525645525898258,
          0.03601673375036352,
          0.037793922432942106,
          0.07749801957368896,
          0.09804405228738744,
          0.10479074584255543,
          0.12205128205128202,
          0.1881677350427351,
          0.2617532393074188,
          0.35377478934377393,
          0.3555619739230897
         ]
        },
        {
         "line": {
          "color": "rgb(123,204,196)"
         },
         "marker": {
          "line": {
           "color": "DarkSlateGrey",
           "width": 1.5
          },
          "size": 8.5
         },
         "mode": "lines",
         "name": "w=2",
         "type": "scatter",
         "x": [
          "surgeon",
          "rapper",
          "dj",
          "comedian",
          "software_engineer",
          "chiropractor",
          "composer",
          "photographer",
          "accountant",
          "attorney",
          "personal_trainer",
          "filmmaker",
          "architect",
          "professor",
          "pastor",
          "journalist",
          "poet",
          "painter",
          "psychologist",
          "dentist",
          "nurse",
          "teacher",
          "physician",
          "interior_designer",
          "yoga_teacher",
          "dietitian",
          "paralegal",
          "model"
         ],
         "y": [
          -0.29407231176490306,
          -0.24960233297985157,
          -0.08799093655589119,
          -0.09195619845883463,
          -0.08279523128151844,
          -0.013995255845476118,
          -0.028561898743065806,
          -0.029058857157835738,
          -0.0236450584484591,
          -0.005542522538284023,
          -0.031305114638447984,
          0.02171184219601352,
          0.01186372480391562,
          0.014563364840848858,
          0.018980431678844334,
          0.041612577527765704,
          0.0174007114305621,
          0.034315721486640194,
          0.04655414154804527,
          0.049411822605059164,
          0.11462673244497612,
          0.0929821850207958,
          0.10281913700974787,
          0.198974358974359,
          0.2819177350427351,
          0.2880690287811031,
          0.38603285385990294,
          0.4423089618748969
         ]
        },
        {
         "line": {
          "color": "rgb(78,179,211)"
         },
         "marker": {
          "line": {
           "color": "DarkSlateGrey",
           "width": 1.5
          },
          "size": 8.5
         },
         "mode": "lines",
         "name": "w=3",
         "type": "scatter",
         "x": [
          "surgeon",
          "rapper",
          "dj",
          "comedian",
          "software_engineer",
          "chiropractor",
          "composer",
          "photographer",
          "accountant",
          "attorney",
          "personal_trainer",
          "filmmaker",
          "architect",
          "professor",
          "pastor",
          "journalist",
          "poet",
          "painter",
          "psychologist",
          "dentist",
          "nurse",
          "teacher",
          "physician",
          "interior_designer",
          "yoga_teacher",
          "dietitian",
          "paralegal",
          "model"
         ],
         "y": [
          -0.32171698555775224,
          -0.2465535524920467,
          -0.0608006042296072,
          -0.12183317561173446,
          -0.10830209851500439,
          -0.005184683158251435,
          -0.021136156168808373,
          -0.03339516166277434,
          -0.03320935175345374,
          0.005392620749800514,
          -0.02110103300579491,
          0.04640320022070488,
          0.022364918121338007,
          0.026164983117859753,
          0.0251532711850172,
          0.06216564180280315,
          0.014202417187491823,
          0.04466379298240686,
          0.05709154934572713,
          0.06490235616788187,
          0.13442871264299583,
          0.09973134137625128,
          0.10400210230943241,
          0.2605128205128205,
          0.3287927350427351,
          0.3275427129916293,
          0.41829091837603194,
          0.495321010067668
         ]
        },
        {
         "line": {
          "color": "rgb(43,140,190)"
         },
         "marker": {
          "line": {
           "color": "DarkSlateGrey",
           "width": 1.5
          },
          "size": 8.5
         },
         "mode": "lines",
         "name": "w=4",
         "type": "scatter",
         "x": [
          "surgeon",
          "rapper",
          "dj",
          "comedian",
          "software_engineer",
          "chiropractor",
          "composer",
          "photographer",
          "accountant",
          "attorney",
          "personal_trainer",
          "filmmaker",
          "architect",
          "professor",
          "pastor",
          "journalist",
          "poet",
          "painter",
          "psychologist",
          "dentist",
          "nurse",
          "teacher",
          "physician",
          "interior_designer",
          "yoga_teacher",
          "dietitian",
          "paralegal",
          "model"
         ],
         "y": [
          -0.3482558723988875,
          -0.24045599151643693,
          -0.03361027190332322,
          -0.14292280654319311,
          -0.12138254325012532,
          0.0014232463571670628,
          -0.012060248578049326,
          -0.035081502303583756,
          -0.03320935175345374,
          0.020475577009227308,
          -0.026203073822121503,
          0.07274064878037567,
          0.032866111438760504,
          0.040265411485303826,
          0.056017468715881424,
          0.0875767030883039,
          0.01953290759260906,
          0.05971553333988566,
          0.06762895714340889,
          0.08211406012657385,
          0.1814584156132929,
          0.12729039649436158,
          0.12253522533782357,
          0.30666666666666664,
          0.3756677350427351,
          0.3538585024653136,
          0.4344199506340965,
          0.5555619739230897
         ]
        },
        {
         "line": {
          "color": "rgb(8,104,172)"
         },
         "marker": {
          "line": {
           "color": "DarkSlateGrey",
           "width": 1.5
          },
          "size": 8.5
         },
         "mode": "lines",
         "name": "w=5",
         "type": "scatter",
         "x": [
          "surgeon",
          "rapper",
          "dj",
          "comedian",
          "software_engineer",
          "chiropractor",
          "composer",
          "photographer",
          "accountant",
          "attorney",
          "personal_trainer",
          "filmmaker",
          "architect",
          "professor",
          "pastor",
          "journalist",
          "poet",
          "painter",
          "psychologist",
          "dentist",
          "nurse",
          "teacher",
          "physician",
          "interior_designer",
          "yoga_teacher",
          "dietitian",
          "paralegal",
          "model"
         ],
         "y": [
          -0.3700030157825956,
          -0.2282608695652174,
          0.014728096676737135,
          -0.14643774503176965,
          -0.13250092127497815,
          0.008031175872585561,
          -0.0029843409872902793,
          -0.03219063263362476,
          -0.03427205100956432,
          0.03706682889459689,
          -0.07212144116906027,
          0.09578591627008759,
          0.04766324747694661,
          0.056983640899868404,
          0.0724783740656757,
          0.11522991684017236,
          0.033392182645913926,
          0.07100433860799482,
          0.08606942078935198,
          0.10707103086667713,
          0.23096336610834245,
          0.1424759982941366,
          0.188781282120158,
          0.39897435897435896,
          0.5006677350427351,
          0.3538585024653136,
          0.49893607966635456,
          0.5917065522363427
         ]
        }
       ],
       "layout": {
        "autosize": false,
        "font": {
         "size": 15.5
        },
        "height": 500,
        "margin": {
         "b": 20,
         "l": 15,
         "r": 15,
         "t": 20
        },
        "plot_bgcolor": "white",
        "template": {
         "data": {
          "bar": [
           {
            "error_x": {
             "color": "#2a3f5f"
            },
            "error_y": {
             "color": "#2a3f5f"
            },
            "marker": {
             "line": {
              "color": "#E5ECF6",
              "width": 0.5
             },
             "pattern": {
              "fillmode": "overlay",
              "size": 10,
              "solidity": 0.2
             }
            },
            "type": "bar"
           }
          ],
          "barpolar": [
           {
            "marker": {
             "line": {
              "color": "#E5ECF6",
              "width": 0.5
             },
             "pattern": {
              "fillmode": "overlay",
              "size": 10,
              "solidity": 0.2
             }
            },
            "type": "barpolar"
           }
          ],
          "carpet": [
           {
            "aaxis": {
             "endlinecolor": "#2a3f5f",
             "gridcolor": "white",
             "linecolor": "white",
             "minorgridcolor": "white",
             "startlinecolor": "#2a3f5f"
            },
            "baxis": {
             "endlinecolor": "#2a3f5f",
             "gridcolor": "white",
             "linecolor": "white",
             "minorgridcolor": "white",
             "startlinecolor": "#2a3f5f"
            },
            "type": "carpet"
           }
          ],
          "choropleth": [
           {
            "colorbar": {
             "outlinewidth": 0,
             "ticks": ""
            },
            "type": "choropleth"
           }
          ],
          "contour": [
           {
            "colorbar": {
             "outlinewidth": 0,
             "ticks": ""
            },
            "colorscale": [
             [
              0,
              "#0d0887"
             ],
             [
              0.1111111111111111,
              "#46039f"
             ],
             [
              0.2222222222222222,
              "#7201a8"
             ],
             [
              0.3333333333333333,
              "#9c179e"
             ],
             [
              0.4444444444444444,
              "#bd3786"
             ],
             [
              0.5555555555555556,
              "#d8576b"
             ],
             [
              0.6666666666666666,
              "#ed7953"
             ],
             [
              0.7777777777777778,
              "#fb9f3a"
             ],
             [
              0.8888888888888888,
              "#fdca26"
             ],
             [
              1,
              "#f0f921"
             ]
            ],
            "type": "contour"
           }
          ],
          "contourcarpet": [
           {
            "colorbar": {
             "outlinewidth": 0,
             "ticks": ""
            },
            "type": "contourcarpet"
           }
          ],
          "heatmap": [
           {
            "colorbar": {
             "outlinewidth": 0,
             "ticks": ""
            },
            "colorscale": [
             [
              0,
              "#0d0887"
             ],
             [
              0.1111111111111111,
              "#46039f"
             ],
             [
              0.2222222222222222,
              "#7201a8"
             ],
             [
              0.3333333333333333,
              "#9c179e"
             ],
             [
              0.4444444444444444,
              "#bd3786"
             ],
             [
              0.5555555555555556,
              "#d8576b"
             ],
             [
              0.6666666666666666,
              "#ed7953"
             ],
             [
              0.7777777777777778,
              "#fb9f3a"
             ],
             [
              0.8888888888888888,
              "#fdca26"
             ],
             [
              1,
              "#f0f921"
             ]
            ],
            "type": "heatmap"
           }
          ],
          "heatmapgl": [
           {
            "colorbar": {
             "outlinewidth": 0,
             "ticks": ""
            },
            "colorscale": [
             [
              0,
              "#0d0887"
             ],
             [
              0.1111111111111111,
              "#46039f"
             ],
             [
              0.2222222222222222,
              "#7201a8"
             ],
             [
              0.3333333333333333,
              "#9c179e"
             ],
             [
              0.4444444444444444,
              "#bd3786"
             ],
             [
              0.5555555555555556,
              "#d8576b"
             ],
             [
              0.6666666666666666,
              "#ed7953"
             ],
             [
              0.7777777777777778,
              "#fb9f3a"
             ],
             [
              0.8888888888888888,
              "#fdca26"
             ],
             [
              1,
              "#f0f921"
             ]
            ],
            "type": "heatmapgl"
           }
          ],
          "histogram": [
           {
            "marker": {
             "pattern": {
              "fillmode": "overlay",
              "size": 10,
              "solidity": 0.2
             }
            },
            "type": "histogram"
           }
          ],
          "histogram2d": [
           {
            "colorbar": {
             "outlinewidth": 0,
             "ticks": ""
            },
            "colorscale": [
             [
              0,
              "#0d0887"
             ],
             [
              0.1111111111111111,
              "#46039f"
             ],
             [
              0.2222222222222222,
              "#7201a8"
             ],
             [
              0.3333333333333333,
              "#9c179e"
             ],
             [
              0.4444444444444444,
              "#bd3786"
             ],
             [
              0.5555555555555556,
              "#d8576b"
             ],
             [
              0.6666666666666666,
              "#ed7953"
             ],
             [
              0.7777777777777778,
              "#fb9f3a"
             ],
             [
              0.8888888888888888,
              "#fdca26"
             ],
             [
              1,
              "#f0f921"
             ]
            ],
            "type": "histogram2d"
           }
          ],
          "histogram2dcontour": [
           {
            "colorbar": {
             "outlinewidth": 0,
             "ticks": ""
            },
            "colorscale": [
             [
              0,
              "#0d0887"
             ],
             [
              0.1111111111111111,
              "#46039f"
             ],
             [
              0.2222222222222222,
              "#7201a8"
             ],
             [
              0.3333333333333333,
              "#9c179e"
             ],
             [
              0.4444444444444444,
              "#bd3786"
             ],
             [
              0.5555555555555556,
              "#d8576b"
             ],
             [
              0.6666666666666666,
              "#ed7953"
             ],
             [
              0.7777777777777778,
              "#fb9f3a"
             ],
             [
              0.8888888888888888,
              "#fdca26"
             ],
             [
              1,
              "#f0f921"
             ]
            ],
            "type": "histogram2dcontour"
           }
          ],
          "mesh3d": [
           {
            "colorbar": {
             "outlinewidth": 0,
             "ticks": ""
            },
            "type": "mesh3d"
           }
          ],
          "parcoords": [
           {
            "line": {
             "colorbar": {
              "outlinewidth": 0,
              "ticks": ""
             }
            },
            "type": "parcoords"
           }
          ],
          "pie": [
           {
            "automargin": true,
            "type": "pie"
           }
          ],
          "scatter": [
           {
            "fillpattern": {
             "fillmode": "overlay",
             "size": 10,
             "solidity": 0.2
            },
            "type": "scatter"
           }
          ],
          "scatter3d": [
           {
            "line": {
             "colorbar": {
              "outlinewidth": 0,
              "ticks": ""
             }
            },
            "marker": {
             "colorbar": {
              "outlinewidth": 0,
              "ticks": ""
             }
            },
            "type": "scatter3d"
           }
          ],
          "scattercarpet": [
           {
            "marker": {
             "colorbar": {
              "outlinewidth": 0,
              "ticks": ""
             }
            },
            "type": "scattercarpet"
           }
          ],
          "scattergeo": [
           {
            "marker": {
             "colorbar": {
              "outlinewidth": 0,
              "ticks": ""
             }
            },
            "type": "scattergeo"
           }
          ],
          "scattergl": [
           {
            "marker": {
             "colorbar": {
              "outlinewidth": 0,
              "ticks": ""
             }
            },
            "type": "scattergl"
           }
          ],
          "scattermapbox": [
           {
            "marker": {
             "colorbar": {
              "outlinewidth": 0,
              "ticks": ""
             }
            },
            "type": "scattermapbox"
           }
          ],
          "scatterpolar": [
           {
            "marker": {
             "colorbar": {
              "outlinewidth": 0,
              "ticks": ""
             }
            },
            "type": "scatterpolar"
           }
          ],
          "scatterpolargl": [
           {
            "marker": {
             "colorbar": {
              "outlinewidth": 0,
              "ticks": ""
             }
            },
            "type": "scatterpolargl"
           }
          ],
          "scatterternary": [
           {
            "marker": {
             "colorbar": {
              "outlinewidth": 0,
              "ticks": ""
             }
            },
            "type": "scatterternary"
           }
          ],
          "surface": [
           {
            "colorbar": {
             "outlinewidth": 0,
             "ticks": ""
            },
            "colorscale": [
             [
              0,
              "#0d0887"
             ],
             [
              0.1111111111111111,
              "#46039f"
             ],
             [
              0.2222222222222222,
              "#7201a8"
             ],
             [
              0.3333333333333333,
              "#9c179e"
             ],
             [
              0.4444444444444444,
              "#bd3786"
             ],
             [
              0.5555555555555556,
              "#d8576b"
             ],
             [
              0.6666666666666666,
              "#ed7953"
             ],
             [
              0.7777777777777778,
              "#fb9f3a"
             ],
             [
              0.8888888888888888,
              "#fdca26"
             ],
             [
              1,
              "#f0f921"
             ]
            ],
            "type": "surface"
           }
          ],
          "table": [
           {
            "cells": {
             "fill": {
              "color": "#EBF0F8"
             },
             "line": {
              "color": "white"
             }
            },
            "header": {
             "fill": {
              "color": "#C8D4E3"
             },
             "line": {
              "color": "white"
             }
            },
            "type": "table"
           }
          ]
         },
         "layout": {
          "annotationdefaults": {
           "arrowcolor": "#2a3f5f",
           "arrowhead": 0,
           "arrowwidth": 1
          },
          "autotypenumbers": "strict",
          "coloraxis": {
           "colorbar": {
            "outlinewidth": 0,
            "ticks": ""
           }
          },
          "colorscale": {
           "diverging": [
            [
             0,
             "#8e0152"
            ],
            [
             0.1,
             "#c51b7d"
            ],
            [
             0.2,
             "#de77ae"
            ],
            [
             0.3,
             "#f1b6da"
            ],
            [
             0.4,
             "#fde0ef"
            ],
            [
             0.5,
             "#f7f7f7"
            ],
            [
             0.6,
             "#e6f5d0"
            ],
            [
             0.7,
             "#b8e186"
            ],
            [
             0.8,
             "#7fbc41"
            ],
            [
             0.9,
             "#4d9221"
            ],
            [
             1,
             "#276419"
            ]
           ],
           "sequential": [
            [
             0,
             "#0d0887"
            ],
            [
             0.1111111111111111,
             "#46039f"
            ],
            [
             0.2222222222222222,
             "#7201a8"
            ],
            [
             0.3333333333333333,
             "#9c179e"
            ],
            [
             0.4444444444444444,
             "#bd3786"
            ],
            [
             0.5555555555555556,
             "#d8576b"
            ],
            [
             0.6666666666666666,
             "#ed7953"
            ],
            [
             0.7777777777777778,
             "#fb9f3a"
            ],
            [
             0.8888888888888888,
             "#fdca26"
            ],
            [
             1,
             "#f0f921"
            ]
           ],
           "sequentialminus": [
            [
             0,
             "#0d0887"
            ],
            [
             0.1111111111111111,
             "#46039f"
            ],
            [
             0.2222222222222222,
             "#7201a8"
            ],
            [
             0.3333333333333333,
             "#9c179e"
            ],
            [
             0.4444444444444444,
             "#bd3786"
            ],
            [
             0.5555555555555556,
             "#d8576b"
            ],
            [
             0.6666666666666666,
             "#ed7953"
            ],
            [
             0.7777777777777778,
             "#fb9f3a"
            ],
            [
             0.8888888888888888,
             "#fdca26"
            ],
            [
             1,
             "#f0f921"
            ]
           ]
          },
          "colorway": [
           "#636efa",
           "#EF553B",
           "#00cc96",
           "#ab63fa",
           "#FFA15A",
           "#19d3f3",
           "#FF6692",
           "#B6E880",
           "#FF97FF",
           "#FECB52"
          ],
          "font": {
           "color": "#2a3f5f"
          },
          "geo": {
           "bgcolor": "white",
           "lakecolor": "white",
           "landcolor": "#E5ECF6",
           "showlakes": true,
           "showland": true,
           "subunitcolor": "white"
          },
          "hoverlabel": {
           "align": "left"
          },
          "hovermode": "closest",
          "mapbox": {
           "style": "light"
          },
          "paper_bgcolor": "white",
          "plot_bgcolor": "#E5ECF6",
          "polar": {
           "angularaxis": {
            "gridcolor": "white",
            "linecolor": "white",
            "ticks": ""
           },
           "bgcolor": "#E5ECF6",
           "radialaxis": {
            "gridcolor": "white",
            "linecolor": "white",
            "ticks": ""
           }
          },
          "scene": {
           "xaxis": {
            "backgroundcolor": "#E5ECF6",
            "gridcolor": "white",
            "gridwidth": 2,
            "linecolor": "white",
            "showbackground": true,
            "ticks": "",
            "zerolinecolor": "white"
           },
           "yaxis": {
            "backgroundcolor": "#E5ECF6",
            "gridcolor": "white",
            "gridwidth": 2,
            "linecolor": "white",
            "showbackground": true,
            "ticks": "",
            "zerolinecolor": "white"
           },
           "zaxis": {
            "backgroundcolor": "#E5ECF6",
            "gridcolor": "white",
            "gridwidth": 2,
            "linecolor": "white",
            "showbackground": true,
            "ticks": "",
            "zerolinecolor": "white"
           }
          },
          "shapedefaults": {
           "line": {
            "color": "#2a3f5f"
           }
          },
          "ternary": {
           "aaxis": {
            "gridcolor": "white",
            "linecolor": "white",
            "ticks": ""
           },
           "baxis": {
            "gridcolor": "white",
            "linecolor": "white",
            "ticks": ""
           },
           "bgcolor": "#E5ECF6",
           "caxis": {
            "gridcolor": "white",
            "linecolor": "white",
            "ticks": ""
           }
          },
          "title": {
           "x": 0.05
          },
          "xaxis": {
           "automargin": true,
           "gridcolor": "white",
           "linecolor": "white",
           "ticks": "",
           "title": {
            "standoff": 15
           },
           "zerolinecolor": "white",
           "zerolinewidth": 2
          },
          "yaxis": {
           "automargin": true,
           "gridcolor": "white",
           "linecolor": "white",
           "ticks": "",
           "title": {
            "standoff": 15
           },
           "zerolinecolor": "white",
           "zerolinewidth": 2
          }
         }
        },
        "width": 695,
        "xaxis": {
         "gridcolor": "lightgrey",
         "mirror": true,
         "showgrid": true,
         "title": {
          "text": "Occupation"
         },
         "zeroline": true,
         "zerolinecolor": "lightgrey"
        },
        "yaxis": {
         "gridcolor": "lightgrey",
         "mirror": true,
         "showgrid": true,
         "title": {
          "text": "Statistical TPR Gap"
         },
         "zeroline": true,
         "zerolinecolor": "lightgrey"
        }
       }
      }
     },
     "metadata": {},
     "output_type": "display_data"
    }
   ],
   "source": [
    "all_sp_result = get_reweighted_statistical_TPR_gap(X_test, gender=\"M\", w_min=1, w_max=5, interval=1)\n",
    "all_sp_result = all_sp_result.sort_values(\"statistical_parity w=1\")\n",
    "fig = go.Figure()\n",
    "\n",
    "occupation_list = all_sp_result[\"occupation\"].tolist()\n",
    "for w in range(1, 6):\n",
    "    sp = all_sp_result[f\"statistical_parity w={w}\"].tolist()\n",
    "    fig.add_trace(go.Scatter(x=occupation_list, y=sp, mode='lines', name=f'w={w}', line=dict(color=colorscale[w+2])))\n",
    "\n",
    "fig.update_layout(\n",
    "    autosize=False,\n",
    "    width=695,\n",
    "    height=500,\n",
    "    plot_bgcolor='white',\n",
    "    font=dict(size=15.5),\n",
    "    xaxis_title=\"Occupation\",\n",
    "    yaxis_title=\"Statistical TPR Gap\",\n",
    "    margin=dict(l=15, r=15, t=20, b=20),\n",
    ")\n",
    "fig.update_xaxes(\n",
    "    mirror=True,\n",
    "    showgrid=True,\n",
    "    zeroline = True,\n",
    "    zerolinecolor='lightgrey',\n",
    "    gridcolor='lightgrey'\n",
    ")\n",
    "fig.update_yaxes(\n",
    "    mirror=True,\n",
    "    showgrid=True,\n",
    "    zeroline = True,\n",
    "    zerolinecolor='lightgrey',\n",
    "    gridcolor='lightgrey',\n",
    ")\n",
    "fig.update_traces(marker={'size': 8.5, \"line\": {\"width\": 1.5, \"color\": \"DarkSlateGrey\"}})\n",
    "\n",
    "fig.show()"
   ]
  },
  {
   "cell_type": "code",
   "execution_count": 24,
   "metadata": {},
   "outputs": [
    {
     "data": {
      "application/vnd.plotly.v1+json": {
       "config": {
        "plotlyServerURL": "https://plot.ly"
       },
       "data": [
        {
         "line": {
          "color": "rgb(168,221,181)"
         },
         "mode": "lines",
         "name": "w=1.0",
         "type": "scatter",
         "x": [
          "rapper",
          "pastor",
          "surgeon",
          "comedian",
          "composer",
          "personal_trainer",
          "chiropractor",
          "architect",
          "software_engineer",
          "photographer",
          "poet",
          "accountant",
          "filmmaker",
          "physician",
          "attorney",
          "psychologist",
          "dentist",
          "painter",
          "professor",
          "dietitian",
          "dj",
          "teacher",
          "journalist",
          "nurse",
          "model",
          "yoga_teacher",
          "paralegal",
          "interior_designer"
         ],
         "y": [
          -0.11396011396011396,
          -0.08846761453396525,
          -0.07203134418324292,
          -0.05007153075822604,
          -0.04857142857142857,
          -0.03910614525139665,
          -0.030816640986132512,
          -0.03045886075949367,
          -0.027809965237543453,
          -0.017760236803157376,
          -0.010273972602739725,
          -0.009907997169143666,
          -0.0091324200913242,
          -0.004875012965460015,
          -0.004049576635169959,
          -0.0026246719160104987,
          0.0035931453841901604,
          0.004136504653567736,
          0.005351034646255969,
          0.008048289738430584,
          0.008086253369272238,
          0.011360829834527044,
          0.01864848606376579,
          0.04239611896224425,
          0.05973333333333333,
          0.10602409638554217,
          0.11791383219954649,
          0.13972602739726028
         ]
        },
        {
         "line": {
          "color": "rgb(123,204,196)"
         },
         "mode": "lines",
         "name": "w=2.0",
         "type": "scatter",
         "x": [
          "rapper",
          "pastor",
          "surgeon",
          "comedian",
          "composer",
          "personal_trainer",
          "chiropractor",
          "architect",
          "software_engineer",
          "photographer",
          "poet",
          "accountant",
          "filmmaker",
          "physician",
          "attorney",
          "psychologist",
          "dentist",
          "painter",
          "professor",
          "dietitian",
          "dj",
          "teacher",
          "journalist",
          "nurse",
          "model",
          "yoga_teacher",
          "paralegal",
          "interior_designer"
         ],
         "y": [
          -0.10826210826210826,
          -0.08214849921011058,
          -0.1160337552742616,
          -0.07868383404864092,
          -0.047857142857142855,
          -0.055865921787709494,
          -0.020030816640986132,
          -0.023734177215189875,
          -0.058516801853997685,
          -0.025653675382338433,
          -0.0228310502283105,
          -0.01840056617126681,
          0.00684931506849315,
          -0.006327144487086401,
          0.002208859982819978,
          0.005905511811023622,
          0.01630735212824765,
          0.004653567735263702,
          0.01432587123649541,
          0.01710261569416499,
          0.03234501347708895,
          0.004939491232403063,
          0.03649488670543413,
          0.07762075511495466,
          0.1232,
          0.20722891566265061,
          0.16326530612244897,
          0.2054794520547945
         ]
        },
        {
         "line": {
          "color": "rgb(78,179,211)"
         },
         "mode": "lines",
         "name": "w=3.0",
         "type": "scatter",
         "x": [
          "rapper",
          "pastor",
          "surgeon",
          "comedian",
          "composer",
          "personal_trainer",
          "chiropractor",
          "architect",
          "software_engineer",
          "photographer",
          "poet",
          "accountant",
          "filmmaker",
          "physician",
          "attorney",
          "psychologist",
          "dentist",
          "painter",
          "professor",
          "dietitian",
          "dj",
          "teacher",
          "journalist",
          "nurse",
          "model",
          "yoga_teacher",
          "paralegal",
          "interior_designer"
         ],
         "y": [
          -0.10256410256410256,
          -0.07266982622432859,
          -0.14556962025316456,
          -0.10586552217453506,
          -0.04071428571428572,
          -0.061452513966480445,
          -0.012326656394453005,
          -0.0122626582278481,
          -0.08458864426419467,
          -0.028942608123663872,
          -0.02682648401826484,
          -0.026185421089879687,
          0.02910958904109589,
          -0.0030079867233689453,
          0.013253159896919867,
          0.016404199475065617,
          0.03150912106135987,
          0.012926577042399173,
          0.024960205913231958,
          0.03219315895372234,
          0.0646900269541779,
          0.011607804396147196,
          0.057950671746541005,
          0.10651761231807635,
          0.2,
          0.29397590361445786,
          0.23129251700680273,
          0.2493150684931507
         ]
        },
        {
         "line": {
          "color": "rgb(43,140,190)"
         },
         "mode": "lines",
         "name": "w=4.0",
         "type": "scatter",
         "x": [
          "rapper",
          "pastor",
          "surgeon",
          "comedian",
          "composer",
          "personal_trainer",
          "chiropractor",
          "architect",
          "software_engineer",
          "photographer",
          "poet",
          "accountant",
          "filmmaker",
          "physician",
          "attorney",
          "psychologist",
          "dentist",
          "painter",
          "professor",
          "dietitian",
          "dj",
          "teacher",
          "journalist",
          "nurse",
          "model",
          "yoga_teacher",
          "paralegal",
          "interior_designer"
         ],
         "y": [
          -0.09971509971509972,
          -0.03949447077409163,
          -0.17118746232670284,
          -0.12446351931330472,
          -0.03357142857142857,
          -0.08100558659217877,
          -0.01078582434514638,
          -0.0031645569620253164,
          -0.09675550405561993,
          -0.029764841308995232,
          -0.02226027397260274,
          -0.028308563340410473,
          0.05194063926940639,
          0.03256923555647755,
          0.02626089090685974,
          0.030402449693788275,
          0.05085682697622996,
          0.022750775594622543,
          0.038473261760422664,
          0.05331991951710262,
          0.09164420485175202,
          0.032106693010619906,
          0.08542209745337878,
          0.13836743303100613,
          0.28586666666666666,
          0.3566265060240964,
          0.2834467120181406,
          0.3013698630136986
         ]
        },
        {
         "line": {
          "color": "rgb(8,104,172)"
         },
         "mode": "lines",
         "name": "w=5.0",
         "type": "scatter",
         "x": [
          "rapper",
          "pastor",
          "surgeon",
          "comedian",
          "composer",
          "personal_trainer",
          "chiropractor",
          "architect",
          "software_engineer",
          "photographer",
          "poet",
          "accountant",
          "filmmaker",
          "physician",
          "attorney",
          "psychologist",
          "dentist",
          "painter",
          "professor",
          "dietitian",
          "dj",
          "teacher",
          "journalist",
          "nurse",
          "model",
          "yoga_teacher",
          "paralegal",
          "interior_designer"
         ],
         "y": [
          -0.08547008547008547,
          -0.017377567140600316,
          -0.19318866787221217,
          -0.12589413447782546,
          -0.023571428571428573,
          -0.10614525139664804,
          -0.0061633281972265025,
          0.01305379746835443,
          -0.10718424101969873,
          -0.025982568656470976,
          -0.011986301369863013,
          -0.028308563340410473,
          0.07534246575342465,
          0.1302769422259102,
          0.04110933856914959,
          0.048337707786526685,
          0.07822001105583196,
          0.03671147880041365,
          0.05418769262031361,
          0.08350100603621731,
          0.14285714285714285,
          0.05062978513213139,
          0.11550030078203329,
          0.21219152077620757,
          0.3568,
          0.41927710843373495,
          0.3242630385487528,
          0.37534246575342467
         ]
        }
       ],
       "layout": {
        "autosize": false,
        "font": {
         "size": 15
        },
        "height": 500,
        "margin": {
         "b": 20,
         "l": 15,
         "r": 15,
         "t": 20
        },
        "plot_bgcolor": "white",
        "template": {
         "data": {
          "bar": [
           {
            "error_x": {
             "color": "#2a3f5f"
            },
            "error_y": {
             "color": "#2a3f5f"
            },
            "marker": {
             "line": {
              "color": "#E5ECF6",
              "width": 0.5
             },
             "pattern": {
              "fillmode": "overlay",
              "size": 10,
              "solidity": 0.2
             }
            },
            "type": "bar"
           }
          ],
          "barpolar": [
           {
            "marker": {
             "line": {
              "color": "#E5ECF6",
              "width": 0.5
             },
             "pattern": {
              "fillmode": "overlay",
              "size": 10,
              "solidity": 0.2
             }
            },
            "type": "barpolar"
           }
          ],
          "carpet": [
           {
            "aaxis": {
             "endlinecolor": "#2a3f5f",
             "gridcolor": "white",
             "linecolor": "white",
             "minorgridcolor": "white",
             "startlinecolor": "#2a3f5f"
            },
            "baxis": {
             "endlinecolor": "#2a3f5f",
             "gridcolor": "white",
             "linecolor": "white",
             "minorgridcolor": "white",
             "startlinecolor": "#2a3f5f"
            },
            "type": "carpet"
           }
          ],
          "choropleth": [
           {
            "colorbar": {
             "outlinewidth": 0,
             "ticks": ""
            },
            "type": "choropleth"
           }
          ],
          "contour": [
           {
            "colorbar": {
             "outlinewidth": 0,
             "ticks": ""
            },
            "colorscale": [
             [
              0,
              "#0d0887"
             ],
             [
              0.1111111111111111,
              "#46039f"
             ],
             [
              0.2222222222222222,
              "#7201a8"
             ],
             [
              0.3333333333333333,
              "#9c179e"
             ],
             [
              0.4444444444444444,
              "#bd3786"
             ],
             [
              0.5555555555555556,
              "#d8576b"
             ],
             [
              0.6666666666666666,
              "#ed7953"
             ],
             [
              0.7777777777777778,
              "#fb9f3a"
             ],
             [
              0.8888888888888888,
              "#fdca26"
             ],
             [
              1,
              "#f0f921"
             ]
            ],
            "type": "contour"
           }
          ],
          "contourcarpet": [
           {
            "colorbar": {
             "outlinewidth": 0,
             "ticks": ""
            },
            "type": "contourcarpet"
           }
          ],
          "heatmap": [
           {
            "colorbar": {
             "outlinewidth": 0,
             "ticks": ""
            },
            "colorscale": [
             [
              0,
              "#0d0887"
             ],
             [
              0.1111111111111111,
              "#46039f"
             ],
             [
              0.2222222222222222,
              "#7201a8"
             ],
             [
              0.3333333333333333,
              "#9c179e"
             ],
             [
              0.4444444444444444,
              "#bd3786"
             ],
             [
              0.5555555555555556,
              "#d8576b"
             ],
             [
              0.6666666666666666,
              "#ed7953"
             ],
             [
              0.7777777777777778,
              "#fb9f3a"
             ],
             [
              0.8888888888888888,
              "#fdca26"
             ],
             [
              1,
              "#f0f921"
             ]
            ],
            "type": "heatmap"
           }
          ],
          "heatmapgl": [
           {
            "colorbar": {
             "outlinewidth": 0,
             "ticks": ""
            },
            "colorscale": [
             [
              0,
              "#0d0887"
             ],
             [
              0.1111111111111111,
              "#46039f"
             ],
             [
              0.2222222222222222,
              "#7201a8"
             ],
             [
              0.3333333333333333,
              "#9c179e"
             ],
             [
              0.4444444444444444,
              "#bd3786"
             ],
             [
              0.5555555555555556,
              "#d8576b"
             ],
             [
              0.6666666666666666,
              "#ed7953"
             ],
             [
              0.7777777777777778,
              "#fb9f3a"
             ],
             [
              0.8888888888888888,
              "#fdca26"
             ],
             [
              1,
              "#f0f921"
             ]
            ],
            "type": "heatmapgl"
           }
          ],
          "histogram": [
           {
            "marker": {
             "pattern": {
              "fillmode": "overlay",
              "size": 10,
              "solidity": 0.2
             }
            },
            "type": "histogram"
           }
          ],
          "histogram2d": [
           {
            "colorbar": {
             "outlinewidth": 0,
             "ticks": ""
            },
            "colorscale": [
             [
              0,
              "#0d0887"
             ],
             [
              0.1111111111111111,
              "#46039f"
             ],
             [
              0.2222222222222222,
              "#7201a8"
             ],
             [
              0.3333333333333333,
              "#9c179e"
             ],
             [
              0.4444444444444444,
              "#bd3786"
             ],
             [
              0.5555555555555556,
              "#d8576b"
             ],
             [
              0.6666666666666666,
              "#ed7953"
             ],
             [
              0.7777777777777778,
              "#fb9f3a"
             ],
             [
              0.8888888888888888,
              "#fdca26"
             ],
             [
              1,
              "#f0f921"
             ]
            ],
            "type": "histogram2d"
           }
          ],
          "histogram2dcontour": [
           {
            "colorbar": {
             "outlinewidth": 0,
             "ticks": ""
            },
            "colorscale": [
             [
              0,
              "#0d0887"
             ],
             [
              0.1111111111111111,
              "#46039f"
             ],
             [
              0.2222222222222222,
              "#7201a8"
             ],
             [
              0.3333333333333333,
              "#9c179e"
             ],
             [
              0.4444444444444444,
              "#bd3786"
             ],
             [
              0.5555555555555556,
              "#d8576b"
             ],
             [
              0.6666666666666666,
              "#ed7953"
             ],
             [
              0.7777777777777778,
              "#fb9f3a"
             ],
             [
              0.8888888888888888,
              "#fdca26"
             ],
             [
              1,
              "#f0f921"
             ]
            ],
            "type": "histogram2dcontour"
           }
          ],
          "mesh3d": [
           {
            "colorbar": {
             "outlinewidth": 0,
             "ticks": ""
            },
            "type": "mesh3d"
           }
          ],
          "parcoords": [
           {
            "line": {
             "colorbar": {
              "outlinewidth": 0,
              "ticks": ""
             }
            },
            "type": "parcoords"
           }
          ],
          "pie": [
           {
            "automargin": true,
            "type": "pie"
           }
          ],
          "scatter": [
           {
            "fillpattern": {
             "fillmode": "overlay",
             "size": 10,
             "solidity": 0.2
            },
            "type": "scatter"
           }
          ],
          "scatter3d": [
           {
            "line": {
             "colorbar": {
              "outlinewidth": 0,
              "ticks": ""
             }
            },
            "marker": {
             "colorbar": {
              "outlinewidth": 0,
              "ticks": ""
             }
            },
            "type": "scatter3d"
           }
          ],
          "scattercarpet": [
           {
            "marker": {
             "colorbar": {
              "outlinewidth": 0,
              "ticks": ""
             }
            },
            "type": "scattercarpet"
           }
          ],
          "scattergeo": [
           {
            "marker": {
             "colorbar": {
              "outlinewidth": 0,
              "ticks": ""
             }
            },
            "type": "scattergeo"
           }
          ],
          "scattergl": [
           {
            "marker": {
             "colorbar": {
              "outlinewidth": 0,
              "ticks": ""
             }
            },
            "type": "scattergl"
           }
          ],
          "scattermapbox": [
           {
            "marker": {
             "colorbar": {
              "outlinewidth": 0,
              "ticks": ""
             }
            },
            "type": "scattermapbox"
           }
          ],
          "scatterpolar": [
           {
            "marker": {
             "colorbar": {
              "outlinewidth": 0,
              "ticks": ""
             }
            },
            "type": "scatterpolar"
           }
          ],
          "scatterpolargl": [
           {
            "marker": {
             "colorbar": {
              "outlinewidth": 0,
              "ticks": ""
             }
            },
            "type": "scatterpolargl"
           }
          ],
          "scatterternary": [
           {
            "marker": {
             "colorbar": {
              "outlinewidth": 0,
              "ticks": ""
             }
            },
            "type": "scatterternary"
           }
          ],
          "surface": [
           {
            "colorbar": {
             "outlinewidth": 0,
             "ticks": ""
            },
            "colorscale": [
             [
              0,
              "#0d0887"
             ],
             [
              0.1111111111111111,
              "#46039f"
             ],
             [
              0.2222222222222222,
              "#7201a8"
             ],
             [
              0.3333333333333333,
              "#9c179e"
             ],
             [
              0.4444444444444444,
              "#bd3786"
             ],
             [
              0.5555555555555556,
              "#d8576b"
             ],
             [
              0.6666666666666666,
              "#ed7953"
             ],
             [
              0.7777777777777778,
              "#fb9f3a"
             ],
             [
              0.8888888888888888,
              "#fdca26"
             ],
             [
              1,
              "#f0f921"
             ]
            ],
            "type": "surface"
           }
          ],
          "table": [
           {
            "cells": {
             "fill": {
              "color": "#EBF0F8"
             },
             "line": {
              "color": "white"
             }
            },
            "header": {
             "fill": {
              "color": "#C8D4E3"
             },
             "line": {
              "color": "white"
             }
            },
            "type": "table"
           }
          ]
         },
         "layout": {
          "annotationdefaults": {
           "arrowcolor": "#2a3f5f",
           "arrowhead": 0,
           "arrowwidth": 1
          },
          "autotypenumbers": "strict",
          "coloraxis": {
           "colorbar": {
            "outlinewidth": 0,
            "ticks": ""
           }
          },
          "colorscale": {
           "diverging": [
            [
             0,
             "#8e0152"
            ],
            [
             0.1,
             "#c51b7d"
            ],
            [
             0.2,
             "#de77ae"
            ],
            [
             0.3,
             "#f1b6da"
            ],
            [
             0.4,
             "#fde0ef"
            ],
            [
             0.5,
             "#f7f7f7"
            ],
            [
             0.6,
             "#e6f5d0"
            ],
            [
             0.7,
             "#b8e186"
            ],
            [
             0.8,
             "#7fbc41"
            ],
            [
             0.9,
             "#4d9221"
            ],
            [
             1,
             "#276419"
            ]
           ],
           "sequential": [
            [
             0,
             "#0d0887"
            ],
            [
             0.1111111111111111,
             "#46039f"
            ],
            [
             0.2222222222222222,
             "#7201a8"
            ],
            [
             0.3333333333333333,
             "#9c179e"
            ],
            [
             0.4444444444444444,
             "#bd3786"
            ],
            [
             0.5555555555555556,
             "#d8576b"
            ],
            [
             0.6666666666666666,
             "#ed7953"
            ],
            [
             0.7777777777777778,
             "#fb9f3a"
            ],
            [
             0.8888888888888888,
             "#fdca26"
            ],
            [
             1,
             "#f0f921"
            ]
           ],
           "sequentialminus": [
            [
             0,
             "#0d0887"
            ],
            [
             0.1111111111111111,
             "#46039f"
            ],
            [
             0.2222222222222222,
             "#7201a8"
            ],
            [
             0.3333333333333333,
             "#9c179e"
            ],
            [
             0.4444444444444444,
             "#bd3786"
            ],
            [
             0.5555555555555556,
             "#d8576b"
            ],
            [
             0.6666666666666666,
             "#ed7953"
            ],
            [
             0.7777777777777778,
             "#fb9f3a"
            ],
            [
             0.8888888888888888,
             "#fdca26"
            ],
            [
             1,
             "#f0f921"
            ]
           ]
          },
          "colorway": [
           "#636efa",
           "#EF553B",
           "#00cc96",
           "#ab63fa",
           "#FFA15A",
           "#19d3f3",
           "#FF6692",
           "#B6E880",
           "#FF97FF",
           "#FECB52"
          ],
          "font": {
           "color": "#2a3f5f"
          },
          "geo": {
           "bgcolor": "white",
           "lakecolor": "white",
           "landcolor": "#E5ECF6",
           "showlakes": true,
           "showland": true,
           "subunitcolor": "white"
          },
          "hoverlabel": {
           "align": "left"
          },
          "hovermode": "closest",
          "mapbox": {
           "style": "light"
          },
          "paper_bgcolor": "white",
          "plot_bgcolor": "#E5ECF6",
          "polar": {
           "angularaxis": {
            "gridcolor": "white",
            "linecolor": "white",
            "ticks": ""
           },
           "bgcolor": "#E5ECF6",
           "radialaxis": {
            "gridcolor": "white",
            "linecolor": "white",
            "ticks": ""
           }
          },
          "scene": {
           "xaxis": {
            "backgroundcolor": "#E5ECF6",
            "gridcolor": "white",
            "gridwidth": 2,
            "linecolor": "white",
            "showbackground": true,
            "ticks": "",
            "zerolinecolor": "white"
           },
           "yaxis": {
            "backgroundcolor": "#E5ECF6",
            "gridcolor": "white",
            "gridwidth": 2,
            "linecolor": "white",
            "showbackground": true,
            "ticks": "",
            "zerolinecolor": "white"
           },
           "zaxis": {
            "backgroundcolor": "#E5ECF6",
            "gridcolor": "white",
            "gridwidth": 2,
            "linecolor": "white",
            "showbackground": true,
            "ticks": "",
            "zerolinecolor": "white"
           }
          },
          "shapedefaults": {
           "line": {
            "color": "#2a3f5f"
           }
          },
          "ternary": {
           "aaxis": {
            "gridcolor": "white",
            "linecolor": "white",
            "ticks": ""
           },
           "baxis": {
            "gridcolor": "white",
            "linecolor": "white",
            "ticks": ""
           },
           "bgcolor": "#E5ECF6",
           "caxis": {
            "gridcolor": "white",
            "linecolor": "white",
            "ticks": ""
           }
          },
          "title": {
           "x": 0.05
          },
          "xaxis": {
           "automargin": true,
           "gridcolor": "white",
           "linecolor": "white",
           "ticks": "",
           "title": {
            "standoff": 15
           },
           "zerolinecolor": "white",
           "zerolinewidth": 2
          },
          "yaxis": {
           "automargin": true,
           "gridcolor": "white",
           "linecolor": "white",
           "ticks": "",
           "title": {
            "standoff": 15
           },
           "zerolinecolor": "white",
           "zerolinewidth": 2
          }
         }
        },
        "width": 695,
        "xaxis": {
         "gridcolor": "lightgrey",
         "mirror": true,
         "showgrid": true,
         "title": {
          "text": "Occupation"
         },
         "zeroline": true,
         "zerolinecolor": "lightgrey"
        },
        "yaxis": {
         "gridcolor": "lightgrey",
         "mirror": true,
         "showgrid": true,
         "title": {
          "text": "Causal TPR Gap"
         },
         "zeroline": true,
         "zerolinecolor": "lightgrey"
        }
       }
      }
     },
     "metadata": {},
     "output_type": "display_data"
    }
   ],
   "source": [
    "all_cp_result = get_reweighted_causal_TPR_gap(X_test, X_gender_swap_test, gender=\"M\", w_min=1, w_max=5, interval=1)\n",
    "all_cp_result = all_cp_result.sort_values(\"causal_parity w=1\")\n",
    "fig = go.Figure()\n",
    "\n",
    "occupation_list = all_cp_result[\"occupation\"].tolist()\n",
    "for w in range(1, 6):\n",
    "    cp = all_cp_result[f\"causal_parity w={w}\"].tolist()\n",
    "\n",
    "    fig.add_trace(go.Scatter(x=occupation_list, y=cp, mode='lines', name=f'w={w}.0', line=dict(color=colorscale[w+2])))\n",
    "\n",
    "fig.update_layout(\n",
    "    autosize=False,\n",
    "    width=695,\n",
    "    height=500,\n",
    "    plot_bgcolor='white',\n",
    "    font=dict(size=15),\n",
    "    xaxis_title=\"Occupation\",\n",
    "    yaxis_title=\"Causal TPR Gap\",\n",
    "    margin=dict(l=15, r=15, t=20, b=20),\n",
    ")\n",
    "fig.update_xaxes(\n",
    "    mirror=True,\n",
    "    showgrid=True,\n",
    "    zeroline = True,\n",
    "    zerolinecolor='lightgrey',\n",
    "    gridcolor='lightgrey'\n",
    ")\n",
    "fig.update_yaxes(\n",
    "    mirror=True,\n",
    "    showgrid=True,\n",
    "    zeroline = True,\n",
    "    zerolinecolor='lightgrey',\n",
    "    gridcolor='lightgrey',\n",
    ")\n",
    "\n",
    "fig.show()"
   ]
  },
  {
   "cell_type": "markdown",
   "metadata": {},
   "source": [
    "## Increase All Gender Token Weights"
   ]
  },
  {
   "cell_type": "code",
   "execution_count": 29,
   "metadata": {},
   "outputs": [],
   "source": [
    "colorscale = px.colors.sequential.thermal"
   ]
  },
  {
   "cell_type": "code",
   "execution_count": 18,
   "metadata": {},
   "outputs": [
    {
     "data": {
      "application/vnd.plotly.v1+json": {
       "config": {
        "plotlyServerURL": "https://plot.ly"
       },
       "data": [
        {
         "line": {
          "color": "rgb(93, 62, 153)"
         },
         "mode": "lines",
         "name": "w=-3",
         "type": "scatter",
         "x": [
          "surgeon",
          "rapper",
          "dj",
          "comedian",
          "software_engineer",
          "chiropractor",
          "composer",
          "photographer",
          "accountant",
          "attorney",
          "personal_trainer",
          "filmmaker",
          "architect",
          "professor",
          "pastor",
          "journalist",
          "poet",
          "painter",
          "psychologist",
          "dentist",
          "nurse",
          "teacher",
          "physician",
          "interior_designer",
          "yoga_teacher",
          "dietitian",
          "paralegal",
          "model"
         ],
         "y": [
          0.031805844525745364,
          0.30249204665959706,
          -0.10392749244712995,
          0.05233202649722857,
          0.13823440555354516,
          0.2915960691291088,
          0.10531212695737657,
          0.0624586372220689,
          0.08382940975161657,
          0.06208823396872609,
          0.09681279919375163,
          0.024654573878658326,
          0.09203481289995419,
          -0.008240317874531722,
          0.3965314520870077,
          -0.03281537121157729,
          0.07639496445466587,
          0.020978039104715296,
          0.07070348428018947,
          0.035888530939833574,
          -0.06677917618831275,
          0.08846962161433919,
          -0.538369089613437,
          -0.3161538461538462,
          -0.15758547008547008,
          0.1490368077055384,
          -0.025363860754106737,
          0.12374979369532929
         ]
        },
        {
         "line": {
          "color": "rgb(126, 77, 143)"
         },
         "mode": "lines",
         "name": "w=-2",
         "type": "scatter",
         "x": [
          "surgeon",
          "rapper",
          "dj",
          "comedian",
          "software_engineer",
          "chiropractor",
          "composer",
          "photographer",
          "accountant",
          "attorney",
          "personal_trainer",
          "filmmaker",
          "architect",
          "professor",
          "pastor",
          "journalist",
          "poet",
          "painter",
          "psychologist",
          "dentist",
          "nurse",
          "teacher",
          "physician",
          "interior_designer",
          "yoga_teacher",
          "dietitian",
          "paralegal",
          "model"
         ],
         "y": [
          -0.039321540303345115,
          0.20493107104984087,
          -0.06820241691842899,
          0.061808841422198224,
          0.08955456769794135,
          0.2695696374110471,
          0.0576328909486693,
          0.035639579950146216,
          0.04656739134350396,
          0.026735202665627567,
          0.08390022675736963,
          0.018543807618916275,
          0.07271023607291083,
          -0.00783442109472876,
          0.31708238851095993,
          -0.019596600129749286,
          0.07403749941063376,
          0.013487810963274671,
          0.05666595471515501,
          0.034079572873077724,
          -0.048733326180208425,
          0.08426811575897797,
          -0.6524270352109081,
          -0.20948717948717954,
          -0.11761039886039881,
          0.17853457172342624,
          0.04940846029449314,
          0.18824063376794853
         ]
        },
        {
         "line": {
          "color": "rgb(158, 89, 135)"
         },
         "mode": "lines",
         "name": "w=-1",
         "type": "scatter",
         "x": [
          "surgeon",
          "rapper",
          "dj",
          "comedian",
          "software_engineer",
          "chiropractor",
          "composer",
          "photographer",
          "accountant",
          "attorney",
          "personal_trainer",
          "filmmaker",
          "architect",
          "professor",
          "pastor",
          "journalist",
          "poet",
          "painter",
          "psychologist",
          "dentist",
          "nurse",
          "teacher",
          "physician",
          "interior_designer",
          "yoga_teacher",
          "dietitian",
          "paralegal",
          "model"
         ],
         "y": [
          -0.11540760281838597,
          0.0722428419936374,
          -0.06737160120845931,
          0.037001487089360574,
          0.04738507302141681,
          0.16545803682367566,
          0.025542447861807482,
          0.010898928156396481,
          0.016751022172589614,
          0.0059895108509808725,
          0.055429579239102966,
          0.015251626548957398,
          0.05957657900973945,
          -0.005354738059169972,
          0.23763332493491218,
          -0.00460816825231114,
          0.044815410487052176,
          0.021383062255838525,
          0.04097964002575638,
          0.03124310002207986,
          -0.009915829028141476,
          0.08622733254776438,
          0.04370123008411453,
          -0.16358974358974365,
          -0.04500534188034189,
          0.19051714252952645,
          0.13179845093199422,
          0.23461792374979373
         ]
        },
        {
         "line": {
          "color": "rgb(193, 100, 121)"
         },
         "mode": "lines",
         "name": "w=0",
         "type": "scatter",
         "x": [
          "surgeon",
          "rapper",
          "dj",
          "comedian",
          "software_engineer",
          "chiropractor",
          "composer",
          "photographer",
          "accountant",
          "attorney",
          "personal_trainer",
          "filmmaker",
          "architect",
          "professor",
          "pastor",
          "journalist",
          "poet",
          "painter",
          "psychologist",
          "dentist",
          "nurse",
          "teacher",
          "physician",
          "interior_designer",
          "yoga_teacher",
          "dietitian",
          "paralegal",
          "model"
         ],
         "y": [
          -0.1741928212189245,
          -0.04215270413573702,
          -0.07726586102719024,
          -0.00627281330269025,
          -0.0016665947352869637,
          -0.006766067999548153,
          0.004178077382206213,
          -0.0006282274200735127,
          -0.002384318881824221,
          -0.0063705609322274315,
          0.03502141597379693,
          0.00468538060096102,
          0.034018089920463845,
          -0.0004102704154858028,
          0.108843537414966,
          0.009415714406759368,
          0.04233745278521406,
          0.027745705944551724,
          0.035779110081627485,
          0.032367048232674556,
          0.03494396592068705,
          0.087616194607114,
          0.11617024488463934,
          -0.017435897435897463,
          0.06307870370370372,
          0.22227955509689246,
          0.2493829262064856,
          0.27335368872751287
         ]
        },
        {
         "line": {
          "color": "rgb(225, 113, 97)",
          "dash": "dash"
         },
         "mode": "lines",
         "name": "w=1",
         "type": "scatter",
         "x": [
          "surgeon",
          "rapper",
          "dj",
          "comedian",
          "software_engineer",
          "chiropractor",
          "composer",
          "photographer",
          "accountant",
          "attorney",
          "personal_trainer",
          "filmmaker",
          "architect",
          "professor",
          "pastor",
          "journalist",
          "poet",
          "painter",
          "psychologist",
          "dentist",
          "nurse",
          "teacher",
          "physician",
          "interior_designer",
          "yoga_teacher",
          "dietitian",
          "paralegal",
          "model"
         ],
         "y": [
          -0.2498408336963442,
          -0.24960233297985157,
          -0.11518126888217528,
          -0.062079221305934795,
          -0.050748141680471925,
          -0.03161640121992543,
          -0.03021206375956753,
          -0.02110896556544839,
          -0.014080765143464347,
          -0.01157570504205474,
          -0.010896951373141839,
          0.001958755776260479,
          0.002317185424440704,
          0.004687115435803579,
          0.012807592172671578,
          0.02367535779682406,
          0.028061692240796687,
          0.03525645525898258,
          0.03601673375036352,
          0.037793922432942106,
          0.07749801957368896,
          0.09804405228738744,
          0.10479074584255543,
          0.12205128205128202,
          0.1881677350427351,
          0.2617532393074188,
          0.35377478934377393,
          0.3555619739230897
         ]
        },
        {
         "line": {
          "color": "rgb(246, 139, 69)"
         },
         "mode": "lines",
         "name": "w=2",
         "type": "scatter",
         "x": [
          "surgeon",
          "rapper",
          "dj",
          "comedian",
          "software_engineer",
          "chiropractor",
          "composer",
          "photographer",
          "accountant",
          "attorney",
          "personal_trainer",
          "filmmaker",
          "architect",
          "professor",
          "pastor",
          "journalist",
          "poet",
          "painter",
          "psychologist",
          "dentist",
          "nurse",
          "teacher",
          "physician",
          "interior_designer",
          "yoga_teacher",
          "dietitian",
          "paralegal",
          "model"
         ],
         "y": [
          -0.32878305556655596,
          -0.336558854718982,
          -0.11299093655589121,
          -0.0765715830742193,
          -0.08787137341349816,
          -0.055020896871117164,
          -0.08175338810476795,
          -0.04201222503348334,
          -0.013051838109476077,
          -0.01960227649258972,
          -0.04365079365079361,
          0.008676460445547929,
          -0.020468838706476977,
          0.011418463512128052,
          -0.055849500293944754,
          0.042045290638973,
          0.018629212659063366,
          0.03661193273807539,
          0.040570596297484274,
          0.04400223991572383,
          0.12292740110995193,
          0.1070728939595893,
          0.10155242342776338,
          0.23897435897435904,
          0.3161057692307693,
          0.29678362573099415,
          0.3965869435696655,
          0.4464185509159927
         ]
        },
        {
         "line": {
          "color": "rgb(251, 173, 60)"
         },
         "mode": "lines",
         "name": "w=3",
         "type": "scatter",
         "x": [
          "surgeon",
          "rapper",
          "dj",
          "comedian",
          "software_engineer",
          "chiropractor",
          "composer",
          "photographer",
          "accountant",
          "attorney",
          "personal_trainer",
          "filmmaker",
          "architect",
          "professor",
          "pastor",
          "journalist",
          "poet",
          "painter",
          "psychologist",
          "dentist",
          "nurse",
          "teacher",
          "physician",
          "interior_designer",
          "yoga_teacher",
          "dietitian",
          "paralegal",
          "model"
         ],
         "y": [
          -0.3878326880370911,
          -0.42046659597030756,
          -0.1858006042296072,
          -0.12952548330404223,
          -0.1235305249109434,
          -0.08210776008132836,
          -0.15943402850923383,
          -0.0655195139943805,
          -0.028972063617860533,
          -0.02413286255424163,
          -0.05813807004283189,
          0.007297054969308214,
          -0.03999074007727632,
          0.018931710061801943,
          -0.13811203493743174,
          0.06216564180280315,
          0.012973915958990667,
          0.04007137047953657,
          0.03614914096876376,
          0.05021920315397155,
          0.1457268449925463,
          0.12350941271046534,
          0.1020316589596787,
          0.35051282051282046,
          0.3829237891737892,
          0.34497190689141144,
          0.4710613669248447,
          0.4829922429443803
         ]
        }
       ],
       "layout": {
        "autosize": false,
        "font": {
         "size": 15
        },
        "height": 500,
        "margin": {
         "b": 20,
         "l": 15,
         "r": 15,
         "t": 20
        },
        "plot_bgcolor": "white",
        "template": {
         "data": {
          "bar": [
           {
            "error_x": {
             "color": "#2a3f5f"
            },
            "error_y": {
             "color": "#2a3f5f"
            },
            "marker": {
             "line": {
              "color": "#E5ECF6",
              "width": 0.5
             },
             "pattern": {
              "fillmode": "overlay",
              "size": 10,
              "solidity": 0.2
             }
            },
            "type": "bar"
           }
          ],
          "barpolar": [
           {
            "marker": {
             "line": {
              "color": "#E5ECF6",
              "width": 0.5
             },
             "pattern": {
              "fillmode": "overlay",
              "size": 10,
              "solidity": 0.2
             }
            },
            "type": "barpolar"
           }
          ],
          "carpet": [
           {
            "aaxis": {
             "endlinecolor": "#2a3f5f",
             "gridcolor": "white",
             "linecolor": "white",
             "minorgridcolor": "white",
             "startlinecolor": "#2a3f5f"
            },
            "baxis": {
             "endlinecolor": "#2a3f5f",
             "gridcolor": "white",
             "linecolor": "white",
             "minorgridcolor": "white",
             "startlinecolor": "#2a3f5f"
            },
            "type": "carpet"
           }
          ],
          "choropleth": [
           {
            "colorbar": {
             "outlinewidth": 0,
             "ticks": ""
            },
            "type": "choropleth"
           }
          ],
          "contour": [
           {
            "colorbar": {
             "outlinewidth": 0,
             "ticks": ""
            },
            "colorscale": [
             [
              0,
              "#0d0887"
             ],
             [
              0.1111111111111111,
              "#46039f"
             ],
             [
              0.2222222222222222,
              "#7201a8"
             ],
             [
              0.3333333333333333,
              "#9c179e"
             ],
             [
              0.4444444444444444,
              "#bd3786"
             ],
             [
              0.5555555555555556,
              "#d8576b"
             ],
             [
              0.6666666666666666,
              "#ed7953"
             ],
             [
              0.7777777777777778,
              "#fb9f3a"
             ],
             [
              0.8888888888888888,
              "#fdca26"
             ],
             [
              1,
              "#f0f921"
             ]
            ],
            "type": "contour"
           }
          ],
          "contourcarpet": [
           {
            "colorbar": {
             "outlinewidth": 0,
             "ticks": ""
            },
            "type": "contourcarpet"
           }
          ],
          "heatmap": [
           {
            "colorbar": {
             "outlinewidth": 0,
             "ticks": ""
            },
            "colorscale": [
             [
              0,
              "#0d0887"
             ],
             [
              0.1111111111111111,
              "#46039f"
             ],
             [
              0.2222222222222222,
              "#7201a8"
             ],
             [
              0.3333333333333333,
              "#9c179e"
             ],
             [
              0.4444444444444444,
              "#bd3786"
             ],
             [
              0.5555555555555556,
              "#d8576b"
             ],
             [
              0.6666666666666666,
              "#ed7953"
             ],
             [
              0.7777777777777778,
              "#fb9f3a"
             ],
             [
              0.8888888888888888,
              "#fdca26"
             ],
             [
              1,
              "#f0f921"
             ]
            ],
            "type": "heatmap"
           }
          ],
          "heatmapgl": [
           {
            "colorbar": {
             "outlinewidth": 0,
             "ticks": ""
            },
            "colorscale": [
             [
              0,
              "#0d0887"
             ],
             [
              0.1111111111111111,
              "#46039f"
             ],
             [
              0.2222222222222222,
              "#7201a8"
             ],
             [
              0.3333333333333333,
              "#9c179e"
             ],
             [
              0.4444444444444444,
              "#bd3786"
             ],
             [
              0.5555555555555556,
              "#d8576b"
             ],
             [
              0.6666666666666666,
              "#ed7953"
             ],
             [
              0.7777777777777778,
              "#fb9f3a"
             ],
             [
              0.8888888888888888,
              "#fdca26"
             ],
             [
              1,
              "#f0f921"
             ]
            ],
            "type": "heatmapgl"
           }
          ],
          "histogram": [
           {
            "marker": {
             "pattern": {
              "fillmode": "overlay",
              "size": 10,
              "solidity": 0.2
             }
            },
            "type": "histogram"
           }
          ],
          "histogram2d": [
           {
            "colorbar": {
             "outlinewidth": 0,
             "ticks": ""
            },
            "colorscale": [
             [
              0,
              "#0d0887"
             ],
             [
              0.1111111111111111,
              "#46039f"
             ],
             [
              0.2222222222222222,
              "#7201a8"
             ],
             [
              0.3333333333333333,
              "#9c179e"
             ],
             [
              0.4444444444444444,
              "#bd3786"
             ],
             [
              0.5555555555555556,
              "#d8576b"
             ],
             [
              0.6666666666666666,
              "#ed7953"
             ],
             [
              0.7777777777777778,
              "#fb9f3a"
             ],
             [
              0.8888888888888888,
              "#fdca26"
             ],
             [
              1,
              "#f0f921"
             ]
            ],
            "type": "histogram2d"
           }
          ],
          "histogram2dcontour": [
           {
            "colorbar": {
             "outlinewidth": 0,
             "ticks": ""
            },
            "colorscale": [
             [
              0,
              "#0d0887"
             ],
             [
              0.1111111111111111,
              "#46039f"
             ],
             [
              0.2222222222222222,
              "#7201a8"
             ],
             [
              0.3333333333333333,
              "#9c179e"
             ],
             [
              0.4444444444444444,
              "#bd3786"
             ],
             [
              0.5555555555555556,
              "#d8576b"
             ],
             [
              0.6666666666666666,
              "#ed7953"
             ],
             [
              0.7777777777777778,
              "#fb9f3a"
             ],
             [
              0.8888888888888888,
              "#fdca26"
             ],
             [
              1,
              "#f0f921"
             ]
            ],
            "type": "histogram2dcontour"
           }
          ],
          "mesh3d": [
           {
            "colorbar": {
             "outlinewidth": 0,
             "ticks": ""
            },
            "type": "mesh3d"
           }
          ],
          "parcoords": [
           {
            "line": {
             "colorbar": {
              "outlinewidth": 0,
              "ticks": ""
             }
            },
            "type": "parcoords"
           }
          ],
          "pie": [
           {
            "automargin": true,
            "type": "pie"
           }
          ],
          "scatter": [
           {
            "fillpattern": {
             "fillmode": "overlay",
             "size": 10,
             "solidity": 0.2
            },
            "type": "scatter"
           }
          ],
          "scatter3d": [
           {
            "line": {
             "colorbar": {
              "outlinewidth": 0,
              "ticks": ""
             }
            },
            "marker": {
             "colorbar": {
              "outlinewidth": 0,
              "ticks": ""
             }
            },
            "type": "scatter3d"
           }
          ],
          "scattercarpet": [
           {
            "marker": {
             "colorbar": {
              "outlinewidth": 0,
              "ticks": ""
             }
            },
            "type": "scattercarpet"
           }
          ],
          "scattergeo": [
           {
            "marker": {
             "colorbar": {
              "outlinewidth": 0,
              "ticks": ""
             }
            },
            "type": "scattergeo"
           }
          ],
          "scattergl": [
           {
            "marker": {
             "colorbar": {
              "outlinewidth": 0,
              "ticks": ""
             }
            },
            "type": "scattergl"
           }
          ],
          "scattermapbox": [
           {
            "marker": {
             "colorbar": {
              "outlinewidth": 0,
              "ticks": ""
             }
            },
            "type": "scattermapbox"
           }
          ],
          "scatterpolar": [
           {
            "marker": {
             "colorbar": {
              "outlinewidth": 0,
              "ticks": ""
             }
            },
            "type": "scatterpolar"
           }
          ],
          "scatterpolargl": [
           {
            "marker": {
             "colorbar": {
              "outlinewidth": 0,
              "ticks": ""
             }
            },
            "type": "scatterpolargl"
           }
          ],
          "scatterternary": [
           {
            "marker": {
             "colorbar": {
              "outlinewidth": 0,
              "ticks": ""
             }
            },
            "type": "scatterternary"
           }
          ],
          "surface": [
           {
            "colorbar": {
             "outlinewidth": 0,
             "ticks": ""
            },
            "colorscale": [
             [
              0,
              "#0d0887"
             ],
             [
              0.1111111111111111,
              "#46039f"
             ],
             [
              0.2222222222222222,
              "#7201a8"
             ],
             [
              0.3333333333333333,
              "#9c179e"
             ],
             [
              0.4444444444444444,
              "#bd3786"
             ],
             [
              0.5555555555555556,
              "#d8576b"
             ],
             [
              0.6666666666666666,
              "#ed7953"
             ],
             [
              0.7777777777777778,
              "#fb9f3a"
             ],
             [
              0.8888888888888888,
              "#fdca26"
             ],
             [
              1,
              "#f0f921"
             ]
            ],
            "type": "surface"
           }
          ],
          "table": [
           {
            "cells": {
             "fill": {
              "color": "#EBF0F8"
             },
             "line": {
              "color": "white"
             }
            },
            "header": {
             "fill": {
              "color": "#C8D4E3"
             },
             "line": {
              "color": "white"
             }
            },
            "type": "table"
           }
          ]
         },
         "layout": {
          "annotationdefaults": {
           "arrowcolor": "#2a3f5f",
           "arrowhead": 0,
           "arrowwidth": 1
          },
          "autotypenumbers": "strict",
          "coloraxis": {
           "colorbar": {
            "outlinewidth": 0,
            "ticks": ""
           }
          },
          "colorscale": {
           "diverging": [
            [
             0,
             "#8e0152"
            ],
            [
             0.1,
             "#c51b7d"
            ],
            [
             0.2,
             "#de77ae"
            ],
            [
             0.3,
             "#f1b6da"
            ],
            [
             0.4,
             "#fde0ef"
            ],
            [
             0.5,
             "#f7f7f7"
            ],
            [
             0.6,
             "#e6f5d0"
            ],
            [
             0.7,
             "#b8e186"
            ],
            [
             0.8,
             "#7fbc41"
            ],
            [
             0.9,
             "#4d9221"
            ],
            [
             1,
             "#276419"
            ]
           ],
           "sequential": [
            [
             0,
             "#0d0887"
            ],
            [
             0.1111111111111111,
             "#46039f"
            ],
            [
             0.2222222222222222,
             "#7201a8"
            ],
            [
             0.3333333333333333,
             "#9c179e"
            ],
            [
             0.4444444444444444,
             "#bd3786"
            ],
            [
             0.5555555555555556,
             "#d8576b"
            ],
            [
             0.6666666666666666,
             "#ed7953"
            ],
            [
             0.7777777777777778,
             "#fb9f3a"
            ],
            [
             0.8888888888888888,
             "#fdca26"
            ],
            [
             1,
             "#f0f921"
            ]
           ],
           "sequentialminus": [
            [
             0,
             "#0d0887"
            ],
            [
             0.1111111111111111,
             "#46039f"
            ],
            [
             0.2222222222222222,
             "#7201a8"
            ],
            [
             0.3333333333333333,
             "#9c179e"
            ],
            [
             0.4444444444444444,
             "#bd3786"
            ],
            [
             0.5555555555555556,
             "#d8576b"
            ],
            [
             0.6666666666666666,
             "#ed7953"
            ],
            [
             0.7777777777777778,
             "#fb9f3a"
            ],
            [
             0.8888888888888888,
             "#fdca26"
            ],
            [
             1,
             "#f0f921"
            ]
           ]
          },
          "colorway": [
           "#636efa",
           "#EF553B",
           "#00cc96",
           "#ab63fa",
           "#FFA15A",
           "#19d3f3",
           "#FF6692",
           "#B6E880",
           "#FF97FF",
           "#FECB52"
          ],
          "font": {
           "color": "#2a3f5f"
          },
          "geo": {
           "bgcolor": "white",
           "lakecolor": "white",
           "landcolor": "#E5ECF6",
           "showlakes": true,
           "showland": true,
           "subunitcolor": "white"
          },
          "hoverlabel": {
           "align": "left"
          },
          "hovermode": "closest",
          "mapbox": {
           "style": "light"
          },
          "paper_bgcolor": "white",
          "plot_bgcolor": "#E5ECF6",
          "polar": {
           "angularaxis": {
            "gridcolor": "white",
            "linecolor": "white",
            "ticks": ""
           },
           "bgcolor": "#E5ECF6",
           "radialaxis": {
            "gridcolor": "white",
            "linecolor": "white",
            "ticks": ""
           }
          },
          "scene": {
           "xaxis": {
            "backgroundcolor": "#E5ECF6",
            "gridcolor": "white",
            "gridwidth": 2,
            "linecolor": "white",
            "showbackground": true,
            "ticks": "",
            "zerolinecolor": "white"
           },
           "yaxis": {
            "backgroundcolor": "#E5ECF6",
            "gridcolor": "white",
            "gridwidth": 2,
            "linecolor": "white",
            "showbackground": true,
            "ticks": "",
            "zerolinecolor": "white"
           },
           "zaxis": {
            "backgroundcolor": "#E5ECF6",
            "gridcolor": "white",
            "gridwidth": 2,
            "linecolor": "white",
            "showbackground": true,
            "ticks": "",
            "zerolinecolor": "white"
           }
          },
          "shapedefaults": {
           "line": {
            "color": "#2a3f5f"
           }
          },
          "ternary": {
           "aaxis": {
            "gridcolor": "white",
            "linecolor": "white",
            "ticks": ""
           },
           "baxis": {
            "gridcolor": "white",
            "linecolor": "white",
            "ticks": ""
           },
           "bgcolor": "#E5ECF6",
           "caxis": {
            "gridcolor": "white",
            "linecolor": "white",
            "ticks": ""
           }
          },
          "title": {
           "x": 0.05
          },
          "xaxis": {
           "automargin": true,
           "gridcolor": "white",
           "linecolor": "white",
           "ticks": "",
           "title": {
            "standoff": 15
           },
           "zerolinecolor": "white",
           "zerolinewidth": 2
          },
          "yaxis": {
           "automargin": true,
           "gridcolor": "white",
           "linecolor": "white",
           "ticks": "",
           "title": {
            "standoff": 15
           },
           "zerolinecolor": "white",
           "zerolinewidth": 2
          }
         }
        },
        "width": 695,
        "xaxis": {
         "gridcolor": "lightgrey",
         "mirror": true,
         "showgrid": true,
         "title": {
          "text": "Occupation"
         },
         "zeroline": true,
         "zerolinecolor": "lightgrey"
        },
        "yaxis": {
         "gridcolor": "lightgrey",
         "mirror": true,
         "showgrid": true,
         "title": {
          "text": "Statistical TPR Gap"
         },
         "zeroline": true,
         "zerolinecolor": "lightgrey"
        }
       }
      }
     },
     "metadata": {},
     "output_type": "display_data"
    }
   ],
   "source": [
    "all_sp_result = get_reweighted_statistical_TPR_gap(X_test, gender=\"both\", w_min=-3, w_max=3, interval=1)\n",
    "all_sp_result = all_sp_result.sort_values(\"statistical_parity w=1\")\n",
    "fig = go.Figure()\n",
    "\n",
    "occupation_list = all_sp_result[\"occupation\"].tolist()\n",
    "\n",
    "mid = int(len(colorscale)/2)\n",
    "for w in range(-3, 4):\n",
    "    sp = all_sp_result[f\"statistical_parity w={w}\"].tolist()\n",
    "    if w == 1:\n",
    "        fig.add_trace(go.Scatter(x=occupation_list, y=sp, mode='lines', name=f'w={w}', line=dict(color=colorscale[mid+w], dash=\"dash\")))\n",
    "    else:\n",
    "        fig.add_trace(go.Scatter(x=occupation_list, y=sp, mode='lines', name=f'w={w}', line=dict(color=colorscale[mid+w])))\n",
    "\n",
    "fig.update_layout(\n",
    "    autosize=False,\n",
    "    width=695,\n",
    "    height=500,\n",
    "    plot_bgcolor='white',\n",
    "    font=dict(size=15),\n",
    "    xaxis_title=\"Occupation\",\n",
    "    yaxis_title=\"Statistical TPR Gap\",\n",
    "    margin=dict(l=15, r=15, t=20, b=20),\n",
    ")\n",
    "fig.update_xaxes(\n",
    "    mirror=True,\n",
    "    showgrid=True,\n",
    "    zeroline = True,\n",
    "    zerolinecolor='lightgrey',\n",
    "    gridcolor='lightgrey'\n",
    ")\n",
    "fig.update_yaxes(\n",
    "    mirror=True,\n",
    "    showgrid=True,\n",
    "    zeroline = True,\n",
    "    zerolinecolor='lightgrey',\n",
    "    gridcolor='lightgrey',\n",
    ")\n",
    "\n",
    "fig.show()"
   ]
  },
  {
   "cell_type": "code",
   "execution_count": 30,
   "metadata": {},
   "outputs": [
    {
     "data": {
      "application/vnd.plotly.v1+json": {
       "config": {
        "plotlyServerURL": "https://plot.ly"
       },
       "data": [
        {
         "line": {
          "color": "rgb(93, 62, 153)"
         },
         "mode": "lines",
         "name": "w=-3",
         "type": "scatter",
         "x": [
          "rapper",
          "pastor",
          "surgeon",
          "comedian",
          "composer",
          "personal_trainer",
          "chiropractor",
          "architect",
          "software_engineer",
          "photographer",
          "poet",
          "accountant",
          "filmmaker",
          "physician",
          "attorney",
          "psychologist",
          "dentist",
          "painter",
          "professor",
          "dietitian",
          "dj",
          "teacher",
          "journalist",
          "nurse",
          "model",
          "yoga_teacher",
          "paralegal",
          "interior_designer"
         ],
         "y": [
          0.30484330484330485,
          0.23696682464454977,
          0.23387582881253768,
          0.045779685264663805,
          0.11071428571428571,
          0.1452513966480447,
          0.10631741140215717,
          0.08425632911392406,
          0.11529548088064889,
          0.07465877322808749,
          0.03595890410958904,
          0.08280254777070063,
          0.001141552511415525,
          -0.5569961622238357,
          0.0704380905632593,
          0.03783902012248469,
          0.004422332780541736,
          -0.0077559462254395035,
          -0.009144173129677921,
          -0.02414486921529175,
          -0.008086253369272238,
          0.026179303531736232,
          -0.04371365550431121,
          -0.09407298038388526,
          -0.17493333333333333,
          -0.236144578313253,
          -0.2811791383219955,
          -0.3315068493150685
         ]
        },
        {
         "line": {
          "color": "rgb(126, 77, 143)"
         },
         "mode": "lines",
         "name": "w=-2",
         "type": "scatter",
         "x": [
          "rapper",
          "pastor",
          "surgeon",
          "comedian",
          "composer",
          "personal_trainer",
          "chiropractor",
          "architect",
          "software_engineer",
          "photographer",
          "poet",
          "accountant",
          "filmmaker",
          "physician",
          "attorney",
          "psychologist",
          "dentist",
          "painter",
          "professor",
          "dietitian",
          "dj",
          "teacher",
          "journalist",
          "nurse",
          "model",
          "yoga_teacher",
          "paralegal",
          "interior_designer"
         ],
         "y": [
          0.1908831908831909,
          0.16113744075829384,
          0.15551537070524413,
          0.06723891273247497,
          0.07214285714285715,
          0.08100558659217877,
          0.08012326656394453,
          0.05379746835443038,
          0.07068366164542295,
          0.04538727183029107,
          0.030821917808219176,
          0.047416843595187545,
          0.00228310502283105,
          -0.7152784980811119,
          0.03460547306417965,
          0.02230971128608924,
          0.000552791597567717,
          -0.010858324715615306,
          -0.008094286585159345,
          -0.023138832997987926,
          0.0026954177897574125,
          0.005927389478883675,
          -0.031080810106276318,
          -0.06559797511073613,
          -0.11413333333333334,
          -0.17590361445783131,
          -0.20634920634920634,
          -0.2493150684931507
         ]
        },
        {
         "line": {
          "color": "rgb(158, 89, 135)"
         },
         "mode": "lines",
         "name": "w=-1",
         "type": "scatter",
         "x": [
          "rapper",
          "pastor",
          "surgeon",
          "comedian",
          "composer",
          "personal_trainer",
          "chiropractor",
          "architect",
          "software_engineer",
          "photographer",
          "poet",
          "accountant",
          "filmmaker",
          "physician",
          "attorney",
          "psychologist",
          "dentist",
          "painter",
          "professor",
          "dietitian",
          "dj",
          "teacher",
          "journalist",
          "nurse",
          "model",
          "yoga_teacher",
          "paralegal",
          "interior_designer"
         ],
         "y": [
          0.10826210826210826,
          0.07582938388625593,
          0.07414104882459313,
          0.022889842632331903,
          0.03214285714285714,
          0.036312849162011177,
          0.12018489984591679,
          0.03243670886075949,
          0.034183082271147164,
          0.01808913007728992,
          0.005136986301369863,
          0.012031139419674451,
          0.014269406392694063,
          -0.0742661549631781,
          0.010798871027119891,
          0.00853018372703412,
          -0.002211166390270868,
          -0.002068252326783868,
          -0.005147830798929793,
          -0.007042253521126761,
          -0.008086253369272238,
          0.001975796492961225,
          -0.0180469219971927,
          -0.037122969837587005,
          -0.05653333333333333,
          -0.09879518072289156,
          -0.09750566893424037,
          -0.14520547945205478
         ]
        },
        {
         "line": {
          "color": "rgb(193, 100, 121)"
         },
         "mode": "lines",
         "name": "w=0",
         "type": "scatter",
         "x": [
          "rapper",
          "pastor",
          "surgeon",
          "comedian",
          "composer",
          "personal_trainer",
          "chiropractor",
          "architect",
          "software_engineer",
          "photographer",
          "poet",
          "accountant",
          "filmmaker",
          "physician",
          "attorney",
          "psychologist",
          "dentist",
          "painter",
          "professor",
          "dietitian",
          "dj",
          "teacher",
          "journalist",
          "nurse",
          "model",
          "yoga_teacher",
          "paralegal",
          "interior_designer"
         ],
         "y": [
          0,
          0,
          0,
          0,
          0,
          0,
          0,
          0,
          0,
          0,
          0,
          0,
          0,
          0,
          0,
          0,
          0,
          0,
          0,
          0,
          0,
          0,
          0,
          0,
          0,
          0,
          0,
          0
         ]
        },
        {
         "line": {
          "color": "rgb(225, 113, 97)",
          "dash": "dash"
         },
         "mode": "lines",
         "name": "w=1",
         "type": "scatter",
         "x": [
          "rapper",
          "pastor",
          "surgeon",
          "comedian",
          "composer",
          "personal_trainer",
          "chiropractor",
          "architect",
          "software_engineer",
          "photographer",
          "poet",
          "accountant",
          "filmmaker",
          "physician",
          "attorney",
          "psychologist",
          "dentist",
          "painter",
          "professor",
          "dietitian",
          "dj",
          "teacher",
          "journalist",
          "nurse",
          "model",
          "yoga_teacher",
          "paralegal",
          "interior_designer"
         ],
         "y": [
          -0.11396011396011396,
          -0.08846761453396525,
          -0.07203134418324292,
          -0.05007153075822604,
          -0.04857142857142857,
          -0.03910614525139665,
          -0.030816640986132512,
          -0.03045886075949367,
          -0.027809965237543453,
          -0.017760236803157376,
          -0.010273972602739725,
          -0.009907997169143666,
          -0.0091324200913242,
          -0.004875012965460015,
          -0.004049576635169959,
          -0.0026246719160104987,
          0.0035931453841901604,
          0.004136504653567736,
          0.005351034646255969,
          0.008048289738430584,
          0.008086253369272238,
          0.011360829834527044,
          0.01864848606376579,
          0.04239611896224425,
          0.05973333333333333,
          0.10602409638554217,
          0.11791383219954649,
          0.13972602739726028
         ]
        },
        {
         "line": {
          "color": "rgb(246, 139, 69)"
         },
         "mode": "lines",
         "name": "w=2",
         "type": "scatter",
         "x": [
          "rapper",
          "pastor",
          "surgeon",
          "comedian",
          "composer",
          "personal_trainer",
          "chiropractor",
          "architect",
          "software_engineer",
          "photographer",
          "poet",
          "accountant",
          "filmmaker",
          "physician",
          "attorney",
          "psychologist",
          "dentist",
          "painter",
          "professor",
          "dietitian",
          "dj",
          "teacher",
          "journalist",
          "nurse",
          "model",
          "yoga_teacher",
          "paralegal",
          "interior_designer"
         ],
         "y": [
          -0.2022792022792023,
          -0.15955766192733017,
          -0.14135021097046413,
          -0.0715307582260372,
          -0.11142857142857143,
          -0.061452513966480445,
          -0.02773497688751926,
          -0.053401898734177215,
          -0.0660486674391657,
          -0.03584936688044729,
          -0.02226027397260274,
          -0.010615711252653927,
          -0.012557077625570776,
          -0.008401618089409812,
          -0.008221867713829918,
          -0.0006561679790026247,
          0.013266998341625208,
          0.005687693898655636,
          0.012530903918447522,
          0.02716297786720322,
          0.005390835579514825,
          0.026179303531736232,
          0.03870062161620213,
          0.08563594178443366,
          0.11893333333333334,
          0.2385542168674699,
          0.17687074829931973,
          0.2410958904109589
         ]
        },
        {
         "line": {
          "color": "rgb(251, 173, 60)"
         },
         "mode": "lines",
         "name": "w=3",
         "type": "scatter",
         "x": [
          "rapper",
          "pastor",
          "surgeon",
          "comedian",
          "composer",
          "personal_trainer",
          "chiropractor",
          "architect",
          "software_engineer",
          "photographer",
          "poet",
          "accountant",
          "filmmaker",
          "physician",
          "attorney",
          "psychologist",
          "dentist",
          "painter",
          "professor",
          "dietitian",
          "dj",
          "teacher",
          "journalist",
          "nurse",
          "model",
          "yoga_teacher",
          "paralegal",
          "interior_designer"
         ],
         "y": [
          -0.301994301994302,
          -0.2132701421800948,
          -0.1980108499095841,
          -0.12160228898426323,
          -0.1707142857142857,
          -0.07541899441340782,
          -0.01848998459167951,
          -0.06724683544303797,
          -0.10254924681344148,
          -0.05196513731294195,
          -0.03139269406392694,
          -0.025477707006369428,
          -0.019406392694063926,
          -0.006845762887667255,
          -0.01092158547060989,
          -0.0015310586176727908,
          0.023493642896627972,
          0.009307135470527405,
          0.02086226165882074,
          0.05130784708249497,
          -0.026954177897574125,
          0.045937268461348484,
          0.05975536394626028,
          0.11854039232229488,
          0.1792,
          0.3493975903614458,
          0.29024943310657597,
          0.33424657534246577
         ]
        }
       ],
       "layout": {
        "autosize": false,
        "font": {
         "size": 15
        },
        "height": 500,
        "margin": {
         "b": 20,
         "l": 15,
         "r": 15,
         "t": 20
        },
        "plot_bgcolor": "white",
        "template": {
         "data": {
          "bar": [
           {
            "error_x": {
             "color": "#2a3f5f"
            },
            "error_y": {
             "color": "#2a3f5f"
            },
            "marker": {
             "line": {
              "color": "#E5ECF6",
              "width": 0.5
             },
             "pattern": {
              "fillmode": "overlay",
              "size": 10,
              "solidity": 0.2
             }
            },
            "type": "bar"
           }
          ],
          "barpolar": [
           {
            "marker": {
             "line": {
              "color": "#E5ECF6",
              "width": 0.5
             },
             "pattern": {
              "fillmode": "overlay",
              "size": 10,
              "solidity": 0.2
             }
            },
            "type": "barpolar"
           }
          ],
          "carpet": [
           {
            "aaxis": {
             "endlinecolor": "#2a3f5f",
             "gridcolor": "white",
             "linecolor": "white",
             "minorgridcolor": "white",
             "startlinecolor": "#2a3f5f"
            },
            "baxis": {
             "endlinecolor": "#2a3f5f",
             "gridcolor": "white",
             "linecolor": "white",
             "minorgridcolor": "white",
             "startlinecolor": "#2a3f5f"
            },
            "type": "carpet"
           }
          ],
          "choropleth": [
           {
            "colorbar": {
             "outlinewidth": 0,
             "ticks": ""
            },
            "type": "choropleth"
           }
          ],
          "contour": [
           {
            "colorbar": {
             "outlinewidth": 0,
             "ticks": ""
            },
            "colorscale": [
             [
              0,
              "#0d0887"
             ],
             [
              0.1111111111111111,
              "#46039f"
             ],
             [
              0.2222222222222222,
              "#7201a8"
             ],
             [
              0.3333333333333333,
              "#9c179e"
             ],
             [
              0.4444444444444444,
              "#bd3786"
             ],
             [
              0.5555555555555556,
              "#d8576b"
             ],
             [
              0.6666666666666666,
              "#ed7953"
             ],
             [
              0.7777777777777778,
              "#fb9f3a"
             ],
             [
              0.8888888888888888,
              "#fdca26"
             ],
             [
              1,
              "#f0f921"
             ]
            ],
            "type": "contour"
           }
          ],
          "contourcarpet": [
           {
            "colorbar": {
             "outlinewidth": 0,
             "ticks": ""
            },
            "type": "contourcarpet"
           }
          ],
          "heatmap": [
           {
            "colorbar": {
             "outlinewidth": 0,
             "ticks": ""
            },
            "colorscale": [
             [
              0,
              "#0d0887"
             ],
             [
              0.1111111111111111,
              "#46039f"
             ],
             [
              0.2222222222222222,
              "#7201a8"
             ],
             [
              0.3333333333333333,
              "#9c179e"
             ],
             [
              0.4444444444444444,
              "#bd3786"
             ],
             [
              0.5555555555555556,
              "#d8576b"
             ],
             [
              0.6666666666666666,
              "#ed7953"
             ],
             [
              0.7777777777777778,
              "#fb9f3a"
             ],
             [
              0.8888888888888888,
              "#fdca26"
             ],
             [
              1,
              "#f0f921"
             ]
            ],
            "type": "heatmap"
           }
          ],
          "heatmapgl": [
           {
            "colorbar": {
             "outlinewidth": 0,
             "ticks": ""
            },
            "colorscale": [
             [
              0,
              "#0d0887"
             ],
             [
              0.1111111111111111,
              "#46039f"
             ],
             [
              0.2222222222222222,
              "#7201a8"
             ],
             [
              0.3333333333333333,
              "#9c179e"
             ],
             [
              0.4444444444444444,
              "#bd3786"
             ],
             [
              0.5555555555555556,
              "#d8576b"
             ],
             [
              0.6666666666666666,
              "#ed7953"
             ],
             [
              0.7777777777777778,
              "#fb9f3a"
             ],
             [
              0.8888888888888888,
              "#fdca26"
             ],
             [
              1,
              "#f0f921"
             ]
            ],
            "type": "heatmapgl"
           }
          ],
          "histogram": [
           {
            "marker": {
             "pattern": {
              "fillmode": "overlay",
              "size": 10,
              "solidity": 0.2
             }
            },
            "type": "histogram"
           }
          ],
          "histogram2d": [
           {
            "colorbar": {
             "outlinewidth": 0,
             "ticks": ""
            },
            "colorscale": [
             [
              0,
              "#0d0887"
             ],
             [
              0.1111111111111111,
              "#46039f"
             ],
             [
              0.2222222222222222,
              "#7201a8"
             ],
             [
              0.3333333333333333,
              "#9c179e"
             ],
             [
              0.4444444444444444,
              "#bd3786"
             ],
             [
              0.5555555555555556,
              "#d8576b"
             ],
             [
              0.6666666666666666,
              "#ed7953"
             ],
             [
              0.7777777777777778,
              "#fb9f3a"
             ],
             [
              0.8888888888888888,
              "#fdca26"
             ],
             [
              1,
              "#f0f921"
             ]
            ],
            "type": "histogram2d"
           }
          ],
          "histogram2dcontour": [
           {
            "colorbar": {
             "outlinewidth": 0,
             "ticks": ""
            },
            "colorscale": [
             [
              0,
              "#0d0887"
             ],
             [
              0.1111111111111111,
              "#46039f"
             ],
             [
              0.2222222222222222,
              "#7201a8"
             ],
             [
              0.3333333333333333,
              "#9c179e"
             ],
             [
              0.4444444444444444,
              "#bd3786"
             ],
             [
              0.5555555555555556,
              "#d8576b"
             ],
             [
              0.6666666666666666,
              "#ed7953"
             ],
             [
              0.7777777777777778,
              "#fb9f3a"
             ],
             [
              0.8888888888888888,
              "#fdca26"
             ],
             [
              1,
              "#f0f921"
             ]
            ],
            "type": "histogram2dcontour"
           }
          ],
          "mesh3d": [
           {
            "colorbar": {
             "outlinewidth": 0,
             "ticks": ""
            },
            "type": "mesh3d"
           }
          ],
          "parcoords": [
           {
            "line": {
             "colorbar": {
              "outlinewidth": 0,
              "ticks": ""
             }
            },
            "type": "parcoords"
           }
          ],
          "pie": [
           {
            "automargin": true,
            "type": "pie"
           }
          ],
          "scatter": [
           {
            "fillpattern": {
             "fillmode": "overlay",
             "size": 10,
             "solidity": 0.2
            },
            "type": "scatter"
           }
          ],
          "scatter3d": [
           {
            "line": {
             "colorbar": {
              "outlinewidth": 0,
              "ticks": ""
             }
            },
            "marker": {
             "colorbar": {
              "outlinewidth": 0,
              "ticks": ""
             }
            },
            "type": "scatter3d"
           }
          ],
          "scattercarpet": [
           {
            "marker": {
             "colorbar": {
              "outlinewidth": 0,
              "ticks": ""
             }
            },
            "type": "scattercarpet"
           }
          ],
          "scattergeo": [
           {
            "marker": {
             "colorbar": {
              "outlinewidth": 0,
              "ticks": ""
             }
            },
            "type": "scattergeo"
           }
          ],
          "scattergl": [
           {
            "marker": {
             "colorbar": {
              "outlinewidth": 0,
              "ticks": ""
             }
            },
            "type": "scattergl"
           }
          ],
          "scattermapbox": [
           {
            "marker": {
             "colorbar": {
              "outlinewidth": 0,
              "ticks": ""
             }
            },
            "type": "scattermapbox"
           }
          ],
          "scatterpolar": [
           {
            "marker": {
             "colorbar": {
              "outlinewidth": 0,
              "ticks": ""
             }
            },
            "type": "scatterpolar"
           }
          ],
          "scatterpolargl": [
           {
            "marker": {
             "colorbar": {
              "outlinewidth": 0,
              "ticks": ""
             }
            },
            "type": "scatterpolargl"
           }
          ],
          "scatterternary": [
           {
            "marker": {
             "colorbar": {
              "outlinewidth": 0,
              "ticks": ""
             }
            },
            "type": "scatterternary"
           }
          ],
          "surface": [
           {
            "colorbar": {
             "outlinewidth": 0,
             "ticks": ""
            },
            "colorscale": [
             [
              0,
              "#0d0887"
             ],
             [
              0.1111111111111111,
              "#46039f"
             ],
             [
              0.2222222222222222,
              "#7201a8"
             ],
             [
              0.3333333333333333,
              "#9c179e"
             ],
             [
              0.4444444444444444,
              "#bd3786"
             ],
             [
              0.5555555555555556,
              "#d8576b"
             ],
             [
              0.6666666666666666,
              "#ed7953"
             ],
             [
              0.7777777777777778,
              "#fb9f3a"
             ],
             [
              0.8888888888888888,
              "#fdca26"
             ],
             [
              1,
              "#f0f921"
             ]
            ],
            "type": "surface"
           }
          ],
          "table": [
           {
            "cells": {
             "fill": {
              "color": "#EBF0F8"
             },
             "line": {
              "color": "white"
             }
            },
            "header": {
             "fill": {
              "color": "#C8D4E3"
             },
             "line": {
              "color": "white"
             }
            },
            "type": "table"
           }
          ]
         },
         "layout": {
          "annotationdefaults": {
           "arrowcolor": "#2a3f5f",
           "arrowhead": 0,
           "arrowwidth": 1
          },
          "autotypenumbers": "strict",
          "coloraxis": {
           "colorbar": {
            "outlinewidth": 0,
            "ticks": ""
           }
          },
          "colorscale": {
           "diverging": [
            [
             0,
             "#8e0152"
            ],
            [
             0.1,
             "#c51b7d"
            ],
            [
             0.2,
             "#de77ae"
            ],
            [
             0.3,
             "#f1b6da"
            ],
            [
             0.4,
             "#fde0ef"
            ],
            [
             0.5,
             "#f7f7f7"
            ],
            [
             0.6,
             "#e6f5d0"
            ],
            [
             0.7,
             "#b8e186"
            ],
            [
             0.8,
             "#7fbc41"
            ],
            [
             0.9,
             "#4d9221"
            ],
            [
             1,
             "#276419"
            ]
           ],
           "sequential": [
            [
             0,
             "#0d0887"
            ],
            [
             0.1111111111111111,
             "#46039f"
            ],
            [
             0.2222222222222222,
             "#7201a8"
            ],
            [
             0.3333333333333333,
             "#9c179e"
            ],
            [
             0.4444444444444444,
             "#bd3786"
            ],
            [
             0.5555555555555556,
             "#d8576b"
            ],
            [
             0.6666666666666666,
             "#ed7953"
            ],
            [
             0.7777777777777778,
             "#fb9f3a"
            ],
            [
             0.8888888888888888,
             "#fdca26"
            ],
            [
             1,
             "#f0f921"
            ]
           ],
           "sequentialminus": [
            [
             0,
             "#0d0887"
            ],
            [
             0.1111111111111111,
             "#46039f"
            ],
            [
             0.2222222222222222,
             "#7201a8"
            ],
            [
             0.3333333333333333,
             "#9c179e"
            ],
            [
             0.4444444444444444,
             "#bd3786"
            ],
            [
             0.5555555555555556,
             "#d8576b"
            ],
            [
             0.6666666666666666,
             "#ed7953"
            ],
            [
             0.7777777777777778,
             "#fb9f3a"
            ],
            [
             0.8888888888888888,
             "#fdca26"
            ],
            [
             1,
             "#f0f921"
            ]
           ]
          },
          "colorway": [
           "#636efa",
           "#EF553B",
           "#00cc96",
           "#ab63fa",
           "#FFA15A",
           "#19d3f3",
           "#FF6692",
           "#B6E880",
           "#FF97FF",
           "#FECB52"
          ],
          "font": {
           "color": "#2a3f5f"
          },
          "geo": {
           "bgcolor": "white",
           "lakecolor": "white",
           "landcolor": "#E5ECF6",
           "showlakes": true,
           "showland": true,
           "subunitcolor": "white"
          },
          "hoverlabel": {
           "align": "left"
          },
          "hovermode": "closest",
          "mapbox": {
           "style": "light"
          },
          "paper_bgcolor": "white",
          "plot_bgcolor": "#E5ECF6",
          "polar": {
           "angularaxis": {
            "gridcolor": "white",
            "linecolor": "white",
            "ticks": ""
           },
           "bgcolor": "#E5ECF6",
           "radialaxis": {
            "gridcolor": "white",
            "linecolor": "white",
            "ticks": ""
           }
          },
          "scene": {
           "xaxis": {
            "backgroundcolor": "#E5ECF6",
            "gridcolor": "white",
            "gridwidth": 2,
            "linecolor": "white",
            "showbackground": true,
            "ticks": "",
            "zerolinecolor": "white"
           },
           "yaxis": {
            "backgroundcolor": "#E5ECF6",
            "gridcolor": "white",
            "gridwidth": 2,
            "linecolor": "white",
            "showbackground": true,
            "ticks": "",
            "zerolinecolor": "white"
           },
           "zaxis": {
            "backgroundcolor": "#E5ECF6",
            "gridcolor": "white",
            "gridwidth": 2,
            "linecolor": "white",
            "showbackground": true,
            "ticks": "",
            "zerolinecolor": "white"
           }
          },
          "shapedefaults": {
           "line": {
            "color": "#2a3f5f"
           }
          },
          "ternary": {
           "aaxis": {
            "gridcolor": "white",
            "linecolor": "white",
            "ticks": ""
           },
           "baxis": {
            "gridcolor": "white",
            "linecolor": "white",
            "ticks": ""
           },
           "bgcolor": "#E5ECF6",
           "caxis": {
            "gridcolor": "white",
            "linecolor": "white",
            "ticks": ""
           }
          },
          "title": {
           "x": 0.05
          },
          "xaxis": {
           "automargin": true,
           "gridcolor": "white",
           "linecolor": "white",
           "ticks": "",
           "title": {
            "standoff": 15
           },
           "zerolinecolor": "white",
           "zerolinewidth": 2
          },
          "yaxis": {
           "automargin": true,
           "gridcolor": "white",
           "linecolor": "white",
           "ticks": "",
           "title": {
            "standoff": 15
           },
           "zerolinecolor": "white",
           "zerolinewidth": 2
          }
         }
        },
        "width": 695,
        "xaxis": {
         "gridcolor": "lightgrey",
         "mirror": true,
         "showgrid": true,
         "title": {
          "text": "Occupation"
         },
         "zeroline": true,
         "zerolinecolor": "lightgrey"
        },
        "yaxis": {
         "gridcolor": "lightgrey",
         "mirror": true,
         "showgrid": true,
         "title": {
          "text": "Causal TPR Gap"
         },
         "zeroline": true,
         "zerolinecolor": "lightgrey"
        }
       }
      }
     },
     "metadata": {},
     "output_type": "display_data"
    }
   ],
   "source": [
    "all_cp_result = get_reweighted_causal_TPR_gap(X_test, X_gender_swap_test, gender=\"both\", w_min=-3, w_max=3, interval=1)\n",
    "all_cp_result = all_cp_result.sort_values(\"causal_parity w=1\")\n",
    "fig = go.Figure()\n",
    "\n",
    "occupation_list = all_cp_result[\"occupation\"].tolist()\n",
    "\n",
    "mid = int(len(colorscale)/2)\n",
    "for w in range(-3, 4):\n",
    "    cp = all_cp_result[f\"causal_parity w={w}\"].tolist()\n",
    "    if w == 1:\n",
    "        fig.add_trace(go.Scatter(x=occupation_list, y=cp, mode='lines', name=f'w={w}', line=dict(color=colorscale[mid+w], dash=\"dash\")))\n",
    "    else:\n",
    "        fig.add_trace(go.Scatter(x=occupation_list, y=cp, mode='lines', name=f'w={w}', line=dict(color=colorscale[mid+w])))\n",
    "\n",
    "fig.update_layout(\n",
    "    autosize=False,\n",
    "    width=695,\n",
    "    height=500,\n",
    "    plot_bgcolor='white',\n",
    "    font=dict(size=15),\n",
    "    xaxis_title=\"Occupation\",\n",
    "    yaxis_title=\"Causal TPR Gap\",\n",
    "    margin=dict(l=15, r=15, t=20, b=20),\n",
    ")\n",
    "fig.update_xaxes(\n",
    "    mirror=True,\n",
    "    showgrid=True,\n",
    "    zeroline = True,\n",
    "    zerolinecolor='lightgrey',\n",
    "    gridcolor='lightgrey'\n",
    ")\n",
    "fig.update_yaxes(\n",
    "    mirror=True,\n",
    "    showgrid=True,\n",
    "    zeroline = True,\n",
    "    zerolinecolor='lightgrey',\n",
    "    gridcolor='lightgrey',\n",
    ")\n",
    "\n",
    "fig.show()"
   ]
  },
  {
   "cell_type": "code",
   "execution_count": null,
   "metadata": {},
   "outputs": [],
   "source": []
  }
 ],
 "metadata": {
  "kernelspec": {
   "display_name": "Python 3",
   "language": "python",
   "name": "python3"
  },
  "language_info": {
   "codemirror_mode": {
    "name": "ipython",
    "version": 3
   },
   "file_extension": ".py",
   "mimetype": "text/x-python",
   "name": "python",
   "nbconvert_exporter": "python",
   "pygments_lexer": "ipython3",
   "version": "3.8.5"
  },
  "vscode": {
   "interpreter": {
    "hash": "e90937aff86e080e0363e21dcb86513a829a17cd5eb436c6f1f56b553bc5b567"
   }
  }
 },
 "nbformat": 4,
 "nbformat_minor": 2
}
